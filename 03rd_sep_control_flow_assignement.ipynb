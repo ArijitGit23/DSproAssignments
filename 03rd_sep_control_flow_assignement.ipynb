{
 "cells": [
  {
   "cell_type": "markdown",
   "id": "50c45027",
   "metadata": {},
   "source": [
    "1. Write a Python program to check if a given number is positive or negative.\n"
   ]
  },
  {
   "cell_type": "code",
   "execution_count": 3,
   "id": "4f9db462",
   "metadata": {},
   "outputs": [
    {
     "name": "stdout",
     "output_type": "stream",
     "text": [
      "Enter a number to check positive or negetive- -4\n",
      "Your given number- -4 is a Negetive number\n"
     ]
    }
   ],
   "source": [
    "def positive_negetive(num):\n",
    "    if num >= 0:\n",
    "        return \"Positive\"\n",
    "    else:\n",
    "        return \"Negetive\"\n",
    "    \n",
    "value=int(input(\"Enter a number to check positive or negetive- \"))\n",
    "\n",
    "return_type=positive_negetive(value)\n",
    "\n",
    "print(f\"Your given number- {value} is a {return_type} number\")"
   ]
  },
  {
   "cell_type": "markdown",
   "id": "958d47d7",
   "metadata": {},
   "source": [
    "2. Create a program that determines if a person is eligible to vote based on their age.\n"
   ]
  },
  {
   "cell_type": "code",
   "execution_count": 5,
   "id": "78154487",
   "metadata": {},
   "outputs": [
    {
     "name": "stdout",
     "output_type": "stream",
     "text": [
      "Enter your age to check vote eligibility- 18\n",
      "Your given age- 18, and you are Eligible to vote\n"
     ]
    }
   ],
   "source": [
    "def check_age(age):\n",
    "    if age >= 18:\n",
    "        return \"Eligible\"\n",
    "    else:\n",
    "        return \"Not Eligible\"\n",
    "    \n",
    "value=int(input(\"Enter your age to check vote eligibility- \"))\n",
    "\n",
    "return_val=check_age(value)\n",
    "\n",
    "print(f\"Your given age- {value}, and you are {return_val} to vote\")"
   ]
  },
  {
   "cell_type": "markdown",
   "id": "9836a82a",
   "metadata": {},
   "source": [
    "3. Develop a program to find the maximum of two numbers using if-else statements.\n"
   ]
  },
  {
   "cell_type": "code",
   "execution_count": 8,
   "id": "97e484b7",
   "metadata": {},
   "outputs": [
    {
     "name": "stdout",
     "output_type": "stream",
     "text": [
      "Enter the 1st number to check maximum of two numbers- 12\n",
      "Enter the 2nd number to check maximum of two numbers- 76\n",
      "Maximum of 12 and 76 is 76\n"
     ]
    }
   ],
   "source": [
    "def max_two_nums(num1,num2):\n",
    "    if num1>num2:\n",
    "        return num1\n",
    "    else:\n",
    "        return num2\n",
    "\n",
    "value1=int(input(\"Enter the 1st number to check maximum of two numbers- \"))\n",
    "value2=int(input(\"Enter the 2nd number to check maximum of two numbers- \"))\n",
    "\n",
    "return_val=max_two_nums(value1,value2)\n",
    "\n",
    "print(f\"Maximum of {value1} and {value2} is {return_val}\")"
   ]
  },
  {
   "cell_type": "markdown",
   "id": "255e8812",
   "metadata": {},
   "source": [
    "4. Write a Python script to classify a given year as a leap year or not.\n"
   ]
  },
  {
   "cell_type": "code",
   "execution_count": 12,
   "id": "b29757aa",
   "metadata": {},
   "outputs": [
    {
     "name": "stdout",
     "output_type": "stream",
     "text": [
      "Enter a Year to check whether a year is leap year/Non Leap year- 2000\n",
      "Your Entered Year 2000 is a Leap Year\n"
     ]
    }
   ],
   "source": [
    "def leap_year_check(year):\n",
    "    if year%100==0:\n",
    "        if year%400==0:\n",
    "            return \"Leap Year\"\n",
    "        else:\n",
    "            return \"Non Leap Year\"\n",
    "    else:\n",
    "        if year%4==0:\n",
    "            return \"Leap year\"\n",
    "        else:\n",
    "            return  \"Non Leap Year\"\n",
    "\n",
    "year_val=int(input(\"Enter a Year to check whether a year is leap year/Non Leap year- \"))\n",
    "\n",
    "return_val=leap_year_check(year_val)\n",
    "\n",
    "print(f\"Your Entered Year {year_val} is a {return_val}\")"
   ]
  },
  {
   "cell_type": "markdown",
   "id": "73142318",
   "metadata": {},
   "source": [
    "5. Create a program that checks whether a character is a vowel or a consonant.\n"
   ]
  },
  {
   "cell_type": "code",
   "execution_count": 19,
   "id": "699ca2d1",
   "metadata": {},
   "outputs": [
    {
     "name": "stdout",
     "output_type": "stream",
     "text": [
      "Enter A character to check whether it is vowel or consonent- lkdsflsekdf\\\n",
      "Invalid Input-\n",
      "Enter A character once again to check whether it is vowel or consonent- @\n",
      "Invalid Input-\n",
      "Enter A character once again to check whether it is vowel or consonent- A\n",
      "You have entered  A is a Vowel\n"
     ]
    }
   ],
   "source": [
    "def vowel_consonent_check(value):\n",
    "    if value.islower()==True:\n",
    "        if value in [\"a\",\"e\",\"i\",\"o\",\"u\"]:\n",
    "            return \"Vowel\"\n",
    "        else:\n",
    "            return \"Consonent\"\n",
    "    elif value.isupper()==True:\n",
    "        if value in [\"A\",\"E\",\"I\",\"O\",\"U\"]:\n",
    "            return \"Vowel\"\n",
    "        else:\n",
    "            return \"Consonent\"\n",
    "\n",
    "special='''!@#$%^&*()_-+=/*{}[]:;\"<>?''' #special case character list\n",
    "\n",
    "\n",
    "\n",
    "char=input(\"Enter A character to check whether it is vowel or consonent- \")\n",
    "\n",
    "while len(char)!=1 or (char in special):\n",
    "    \n",
    "    print(\"Invalid Input-\")\n",
    "    \n",
    "    char=input(\"Enter A character once again to check whether it is vowel or consonent- \")\n",
    "    \n",
    "    \n",
    "\n",
    "return_char=vowel_consonent_check(char)\n",
    "\n",
    "print(f\"You have entered  {char} is a {return_char}\")\n",
    "    \n",
    "    "
   ]
  },
  {
   "cell_type": "markdown",
   "id": "9919183c",
   "metadata": {},
   "source": [
    "6. Implement a program to determine whether a given number is even or odd.\n"
   ]
  },
  {
   "cell_type": "code",
   "execution_count": 21,
   "id": "7ec2d508",
   "metadata": {},
   "outputs": [
    {
     "name": "stdout",
     "output_type": "stream",
     "text": [
      "Enter a number to check whether a number is odd or even- 67\n",
      "You Have entered 67 is - Odd number\n"
     ]
    }
   ],
   "source": [
    "def even_odd_check(num):\n",
    "    if num%2==0:\n",
    "        return \"Even\"\n",
    "    else:\n",
    "        return \"Odd\"\n",
    "\n",
    "num=int(input(\"Enter a number to check whether a number is odd or even- \"))\n",
    "return_value=even_odd_check(num)\n",
    "\n",
    "print(f\"You Have entered {num} is - {return_value} number\")"
   ]
  },
  {
   "cell_type": "markdown",
   "id": "52b903c2",
   "metadata": {},
   "source": [
    "8. Develop a program that determines the largest of three given numbers using if-else statements.\n"
   ]
  },
  {
   "cell_type": "code",
   "execution_count": 28,
   "id": "f0fb3c2e",
   "metadata": {},
   "outputs": [
    {
     "name": "stdout",
     "output_type": "stream",
     "text": [
      "Enter 1st number to check largest of 3 numbers- 45\n",
      "Enter 2nd number to check largest of 3 numbers- 67\n",
      "Enter 3rd number to check largest of 3 numbers- 32\n",
      "largest of 45,67,32 is- 67\n"
     ]
    }
   ],
   "source": [
    "num1=int(input(\"Enter 1st number to check largest of 3 numbers- \"))\n",
    "num2=int(input(\"Enter 2nd number to check largest of 3 numbers- \"))\n",
    "num3=int(input(\"Enter 3rd number to check largest of 3 numbers- \"))\n",
    "\n",
    "\n",
    "def largest_3_numbers(num1,num2,num3):\n",
    "    if num1>num2:\n",
    "        if num1>num3: \n",
    "            return num1\n",
    "        else:\n",
    "            return num3\n",
    "    else:\n",
    "        if num2>num3:\n",
    "            return num2\n",
    "        else:\n",
    "            return num3\n",
    "\n",
    "return_large_val=largest_3_numbers(num1,num2,num3)\n",
    "\n",
    "print(f\"largest of {num1},{num2},{num3} is- {return_large_val}\")"
   ]
  },
  {
   "cell_type": "markdown",
   "id": "71b1f859",
   "metadata": {},
   "source": [
    "9. Create a program that checks if a given string is a palindrome.\n"
   ]
  },
  {
   "cell_type": "code",
   "execution_count": 32,
   "id": "aaaffa5b",
   "metadata": {},
   "outputs": [
    {
     "name": "stdout",
     "output_type": "stream",
     "text": [
      "Enter a Word To check Palindrome or not- AbccbA\n",
      "AbccbA is a Palindrome\n"
     ]
    }
   ],
   "source": [
    "def palindrome_check(string):\n",
    "    if string[::-1]==string: # reversing string using string slicing \n",
    "        return \"Palindrome\"\n",
    "    else:\n",
    "        return \"Not Palindrome\"\n",
    "\n",
    "string=input(\"Enter a Word To check Palindrome or not- \")\n",
    "return_val=palindrome_check(string)\n",
    "\n",
    "print(f\"{string} is a {return_val}\")"
   ]
  },
  {
   "cell_type": "markdown",
   "id": "b47d4335",
   "metadata": {},
   "source": [
    "10. Write a Python program to calculate the grade based on a student's score.\n"
   ]
  },
  {
   "cell_type": "code",
   "execution_count": 46,
   "id": "7a6cf3d8",
   "metadata": {},
   "outputs": [
    {
     "name": "stdout",
     "output_type": "stream",
     "text": [
      "Enter Student Score- 98\n",
      "Student gor 98 marks, Grade A+\n"
     ]
    }
   ],
   "source": [
    "score=int(input(\"Enter Student Score- \"))\n",
    "\n",
    "while score<0 or score>100:\n",
    "    print(\"Invalid Score\")\n",
    "    score=int(input(\"Enter Student Score Again- \"))\n",
    "\n",
    "def score_grade(score):\n",
    "    '''\n",
    "Assuming \n",
    "    \n",
    "    90-100='GRADE A+'\n",
    "    80-89='GRADE A'\n",
    "    70-79='GRADE B'\n",
    "    60-69='GRADE C'\n",
    "    50-59='GRADE D'\n",
    "    0-50='Fail'\n",
    "    \n",
    "input-A single score value of integer type between 0 to 100\n",
    "\n",
    "'''\n",
    "    \n",
    "    if score>=90:\n",
    "        return \"A+\"\n",
    "    elif score>=80:\n",
    "        return \"A\"\n",
    "    elif score>=70:\n",
    "        return \"B\"\n",
    "    elif score>=60:\n",
    "        return \"C\"\n",
    "    elif score>=50:\n",
    "        return \"D\"\n",
    "    else:\n",
    "        return \"Fail\"\n",
    "\n",
    "score_grade_val=score_grade(score)\n",
    "\n",
    "print(f\"Student gor {score} marks, Grade {score_grade_val}\")"
   ]
  },
  {
   "cell_type": "markdown",
   "id": "c4d97c46",
   "metadata": {},
   "source": [
    "7. Write a Python function to calculate the absolute value of a number without using the `abs()` function.\n"
   ]
  },
  {
   "cell_type": "code",
   "execution_count": 44,
   "id": "57d280fe",
   "metadata": {},
   "outputs": [
    {
     "name": "stdout",
     "output_type": "stream",
     "text": [
      "Enter a integer Value to get its absolute value- 9\n",
      "Absolute value of 9 is 9\n"
     ]
    }
   ],
   "source": [
    "def absolute_val(value):\n",
    "    '''\n",
    "     It converts a integer value to its absolute value\n",
    "     input- a single integer value\n",
    "    \n",
    "    '''\n",
    "    if value<0:\n",
    "        return -1*value\n",
    "    else:\n",
    "        return value\n",
    "\n",
    "value=int(input(\"Enter a integer Value to get its absolute value- \"))\n",
    "\n",
    "retrun_abs_val=absolute_val(value)\n",
    "\n",
    "print(f\"Absolute value of {value} is {retrun_abs_val}\")"
   ]
  },
  {
   "cell_type": "markdown",
   "id": "85be7b16",
   "metadata": {},
   "source": [
    "12. Implement a program to determine if a triangle is equilateral, isosceles, or scalene.\n"
   ]
  },
  {
   "cell_type": "code",
   "execution_count": 32,
   "id": "ea88d9e6",
   "metadata": {},
   "outputs": [
    {
     "name": "stdout",
     "output_type": "stream",
     "text": [
      "Enter Side 1 value of the triangle- 2\n",
      "Enter Side 2 value of the triangle- 2\n",
      "Enter Side 3 value of the triangle- 4\n",
      "Wrong Input\n",
      "Your triangle sides are-2,2 and 4  It's a Triangle Not possible type triangle\n"
     ]
    }
   ],
   "source": [
    "#USER INPUT OF 3 sides of triangle\n",
    "def input_side():\n",
    "    side1=int(input(\"Enter Side 1 value of the triangle- \"))\n",
    "    side2=int(input(\"Enter Side 2 value of the triangle- \"))\n",
    "    side3=int(input(\"Enter Side 3 value of the triangle- \"))\n",
    "    return side1,side2,side3\n",
    "\n",
    "s1,s2,s3=input_side()\n",
    "\n",
    "def tri_equi_iso_sca(side1,side2,side3): # triangle type\n",
    "    if (side1==side2) and (side2==side3):\n",
    "        return \"Equilateral\"\n",
    "    elif (side1==side2) or (side2==side3) or(side3==side1):\n",
    "        return \"Isosceles\"\n",
    "    else:\n",
    "        return \"Scalene\"\n",
    "\n",
    "    \n",
    "def triangle_possibility_check(s1,s2,s3): #sum of any two sides always must be greter than 3rd side \n",
    "    if (s1+s2>s3) and (s3+s1>s2) and (s2+s3>s1):\n",
    "        return tri_equi_iso_sca(s1,s2,s3)\n",
    "    else:\n",
    "        print(\"Wrong Input\")\n",
    "        return( \"Triangle Not possible\")\n",
    "\n",
    "retu=triangle_possibility_check(s1,s2,s3)\n",
    "\n",
    "print(f\"Your triangle sides are-{side1},{side2} and {side3}\",end=\"  \")\n",
    "print(f\"It's a {retu} type triangle\")\n"
   ]
  },
  {
   "cell_type": "markdown",
   "id": "ebf303d7",
   "metadata": {},
   "source": [
    "15. Create a program to check if a person is a teenager (between 13 and 19 years old).\n"
   ]
  },
  {
   "cell_type": "code",
   "execution_count": 36,
   "id": "7b797d42",
   "metadata": {},
   "outputs": [
    {
     "name": "stdout",
     "output_type": "stream",
     "text": [
      "Enter a person age-15\n",
      "Your age is- 15 and you are Teenage\n"
     ]
    }
   ],
   "source": [
    "def teenage_check(age):\n",
    "    if age>=13 and age<=19:\n",
    "        return \"Teenage\"\n",
    "    else:\n",
    "        return \"Not Teenage\"\n",
    "    \n",
    "age=int(input(\"Enter a person age-\"))\n",
    "\n",
    "while age<=0:\n",
    "    print(\"Invalid age\")\n",
    "    age=int(input(\"Enter a person age- \"))\n",
    "\n",
    "return_age=teenage_check(age)\n",
    "\n",
    "print(f\"Your age is- {age} and you are {return_age}\")"
   ]
  },
  {
   "cell_type": "markdown",
   "id": "9c5ef71e",
   "metadata": {},
   "source": [
    "16. Develop a program that determines the type of angle based on its measure (acute, obtuse, or right).\n"
   ]
  },
  {
   "cell_type": "code",
   "execution_count": 45,
   "id": "cf052368",
   "metadata": {},
   "outputs": [
    {
     "name": "stdout",
     "output_type": "stream",
     "text": [
      "Enter angle 1 value of the triangle- 45\n",
      "Enter angle 2 value of the triangle- 45\n",
      "Enter angle 3 value of the triangle- 90\n",
      "Angles with 45,45,and 90 is a Right angle triangle\n"
     ]
    }
   ],
   "source": [
    "#USER INPUT OF 3 angle of triangle\n",
    "def input_side():\n",
    "    angle1=int(input(\"Enter angle 1 value of the triangle- \"))\n",
    "    angle2=int(input(\"Enter angle 2 value of the triangle- \"))\n",
    "    angle3=int(input(\"Enter angle 3 value of the triangle- \"))\n",
    "    return angle1,angle2,angle3\n",
    "\n",
    "a1,a2,a3=input_side()\n",
    "\n",
    "def tri_acu_obt_right(a1,a2,a3): # triangle type\n",
    "    if (a1==90) or (a2==90) or (a3==90):\n",
    "        print (f\"Angles with {a1},{a2},and {a3} is a Right angle triangle\")\n",
    "    elif (a1>90) or(a2>90) or(a3>90):\n",
    "        print (f\"Angles with {a1},{a2},and {a3} is a Obtuse angle triangle\")\n",
    "    else:\n",
    "        print (f\"Angles with {a1},{a2},and {a3} is a Acute angle triangle\")\n",
    "    \n",
    "\n",
    "    \n",
    "def triangle_possibility_check(a1,a2,a3): #sum of all angle must be equal to 180 and any angle must be between 0 to 180 degree \n",
    "    if (a1+a2+a3==180) and((0<=a1<=180) and (0<=a2<=180) and (0<=a3<=180)):\n",
    "        return tri_acu_obt_right(a1,a2,a3)\n",
    "    else:\n",
    "        print(\"Wrong Input\")\n",
    "        print( \"Triangle Not possible\")\n",
    "\n",
    "triangle_possibility_check(a1,a2,a3)\n",
    "\n"
   ]
  },
  {
   "cell_type": "markdown",
   "id": "31b1f1e1",
   "metadata": {},
   "source": [
    "17. Write a Python program to calculate the roots of a quadratic equation.\n"
   ]
  },
  {
   "cell_type": "code",
   "execution_count": 61,
   "id": "f351d76c",
   "metadata": {},
   "outputs": [
    {
     "name": "stdout",
     "output_type": "stream",
     "text": [
      "Enter The Coeeffient of X^2- 1\n",
      "Enter The Coeeffient of X^1- -5\n",
      "Enter The Constant Term- 6\n",
      "The Roots Of the Quadratic Equation are- (3.0, 2.0)\n"
     ]
    }
   ],
   "source": [
    "'''\n",
    "Assuming the variable to be x\n",
    "Quadratic Equation will be like aX^2+bX+C=0 \n",
    "\n",
    "'''\n",
    "\n",
    "def quad_equation():\n",
    "    variable='X'\n",
    "    a=int(input(f\"Enter The Coeeffient of X^2- \"))\n",
    "    b=int(input(f\"Enter The Coeeffient of X^1- \"))\n",
    "    c=int(input(f\"Enter The Constant Term- \"))\n",
    "    \n",
    "    if a==0:\n",
    "        print(\"Coefficient of X^2 can't be Zero\")\n",
    "        return \"Not Possible\"\n",
    "    else:\n",
    "        d=(b**2)-(4*a*c)\n",
    "        root1=((-1)*b+(d**0.5))/(2*a)\n",
    "        root2=((-1)*b-(d**0.5))/(2*a)\n",
    "        return root1,root2\n",
    "        \n",
    "\n",
    "print(f\"The Roots Of the Quadratic Equation are- {quad_equation()}\")\n"
   ]
  },
  {
   "cell_type": "markdown",
   "id": "1d5ecbd6",
   "metadata": {},
   "source": [
    "18. Implement a program to determine the day of the week based on a user-provided number (1 for Monday, 2\n",
    "for Tuesday, etc.).\n"
   ]
  },
  {
   "cell_type": "code",
   "execution_count": 64,
   "id": "fa9cad2f",
   "metadata": {},
   "outputs": [
    {
     "name": "stdout",
     "output_type": "stream",
     "text": [
      "Input Day no between 0 to 7: 3\n",
      "You entered day number 3 and it is Wednesday\n"
     ]
    }
   ],
   "source": [
    "def day_of_week(num):\n",
    "    if num==1:\n",
    "        return \"Monday\"\n",
    "    elif num==2:\n",
    "        return \"Tuesday\"\n",
    "    elif num==3:\n",
    "        return \"Wednesday\"\n",
    "    elif num==4:\n",
    "        return \"Thurseday\"\n",
    "    elif num==5:\n",
    "        return \"Friday\"\n",
    "    elif num==6:\n",
    "        return \"Saturday\"\n",
    "    else:\n",
    "        return \"Sunday\"\n",
    "    \n",
    "day_no=int(input(\"Input Day no between 0 to 7: \"))\n",
    "\n",
    "while day_no<0 or day_no>7:\n",
    "    print(\"Invalid Input\")\n",
    "    day_no=int(input(\"Input Day no between 0 to 7: \"))\n",
    "    \n",
    "    \n",
    "print(f\"You entered day number {day_no} and it is {day_of_week(day_no)}\")"
   ]
  },
  {
   "cell_type": "markdown",
   "id": "f3369bea",
   "metadata": {},
   "source": [
    "20. Develop a program that checks if a given number is prime or not using nested if-else statements.\n",
    "\n"
   ]
  },
  {
   "cell_type": "code",
   "execution_count": 66,
   "id": "bbdd22bb",
   "metadata": {},
   "outputs": [
    {
     "name": "stdout",
     "output_type": "stream",
     "text": [
      "Enter a number To Check whether it is prime or not- 5\n",
      "Prime no\n"
     ]
    }
   ],
   "source": [
    "def prime_number_check(num):\n",
    "    for val in range(2,num): #divisible by 1 discarded as every no is divisible by 1 and itself\n",
    "        if num%val==0:\n",
    "            print(\"Not Prime\")\n",
    "            break\n",
    "        else:\n",
    "            continue\n",
    "    else:\n",
    "        print(\"Prime no\")\n",
    "    \n",
    "num=int(input(\"Enter a number To Check whether it is prime or not- \"))\n",
    "prime_number_check(num)"
   ]
  },
  {
   "cell_type": "markdown",
   "id": "7e2d556b",
   "metadata": {},
   "source": [
    "23. Develop a program to categorize a given person's BMI into underweight, normal, overweight, or obese using\n",
    "elif statements.\n"
   ]
  },
  {
   "cell_type": "code",
   "execution_count": 68,
   "id": "584ede93",
   "metadata": {},
   "outputs": [
    {
     "name": "stdout",
     "output_type": "stream",
     "text": [
      "Enter Your Height In Meters: 1.8\n",
      "Enter your Weight In Kgs: 72\n",
      "Your Height is: 1.8 meters and Weight is: 72.0 kgs\n",
      "Your Body Mass Index is : 22.22\n",
      "Normal Weighted\n"
     ]
    }
   ],
   "source": [
    "'''\n",
    "BMI Categories:\n",
    "Underweight = <18.5\n",
    "Normal weight = 18.5–24.9\n",
    "Overweight = 25–29.9\n",
    "Obesity = BMI of 30 or greater\n",
    "\n",
    "'''\n",
    "\n",
    "def BMI_Categories(BMI):\n",
    "    if BMI<18.5:\n",
    "        return \"Under Weighted\"\n",
    "    elif BMI>=18.5 and BMI<=24.9:\n",
    "        return \"Normal Weighted\"\n",
    "    elif BMI>=25 and BMI<=29.9:\n",
    "        return \"Over Weighted\"\n",
    "    else:\n",
    "        return \"You have Obesity\"\n",
    "    \n",
    "    \n",
    "def BMI_measure():\n",
    "    height=float(input(\"Enter Your Height In Meters: \"))\n",
    "    weight=float(input(\"Enter your Weight In Kgs: \"))\n",
    "\n",
    "    BMI=round((weight/height**2),2)\n",
    "    \n",
    "    print(f\"Your Height is: {height} meters and Weight is: {weight} kgs\")\n",
    "    print(f\"Your Body Mass Index is : {BMI}\")\n",
    "    print(f\"{BMI_Categories(BMI)}\")\n",
    "    \n",
    "\n",
    "BMI_measure()\n",
    "\n",
    "\n"
   ]
  },
  {
   "cell_type": "markdown",
   "id": "48731675",
   "metadata": {},
   "source": [
    "26. Implement a program to calculate the discounted price based on different purchase amounts using elif\n",
    "statements.\n"
   ]
  },
  {
   "cell_type": "code",
   "execution_count": 72,
   "id": "5bcd608e",
   "metadata": {},
   "outputs": [
    {
     "name": "stdout",
     "output_type": "stream",
     "text": [
      "Enter Your Purchase Amount: 6784\n",
      "You are Eligible For 7.5% Discount\n",
      "Your Discounted amount: 508.8 \n",
      "Final Price After discount: 6275.2 \n"
     ]
    }
   ],
   "source": [
    "'''\n",
    "Assuming \n",
    "Purchase Amount:Discount%\n",
    "______________________\n",
    ">=10000 :15%\n",
    "8000-9999:10%\n",
    "6000-7999:7.5%\n",
    "4000-5999:5.0%\n",
    "<4000:No Discount\n",
    "\n",
    "'''\n",
    "\n",
    "def discount_price(purchase_amount):\n",
    "    if purchase_amount>=10000:\n",
    "        print(\"You are Eligible For 15% Discount\")\n",
    "        return purchase_amount*(1-0.15)\n",
    "    elif purchase_amount>=8000 and purchase_amount<10000 :\n",
    "        print(\"You are Eligible For 10% Discount\")\n",
    "        return purchase_amount*(1-0.10)\n",
    "    elif purchase_amount>=6000 and purchase_amount<8000 :\n",
    "        print(\"You are Eligible For 7.5% Discount\")\n",
    "        return purchase_amount*(1-0.075)\n",
    "    elif purchase_amount>=4000 and purchase_amount<6000 :\n",
    "        print(\"You are Eligible For 5.0% Discount\")\n",
    "        return purchase_amount*(1-0.050)\n",
    "    else:\n",
    "        print(\"You are Not Eligible For Discount\")\n",
    "        return purchase_amount\n",
    "    \n",
    "    \n",
    "def purchase_amount():\n",
    "    amount=float(input(\"Enter Your Purchase Amount: \"))\n",
    "    dis_amount=discount_price(amount)\n",
    "    print(f\"Your Discounted amount: {round(amount-dis_amount,2)} \")\n",
    "    print(f\"Final Price After discount: {round(dis_amount,2)} \")\n",
    "    \n",
    "purchase_amount()\n",
    "    \n",
    "    \n",
    "    \n",
    "    \n",
    "\n",
    "\n",
    "\n",
    "\n",
    "\n",
    "\n"
   ]
  },
  {
   "cell_type": "markdown",
   "id": "0e488f92",
   "metadata": {},
   "source": [
    "27. Develop a program to calculate the electricity bill based on different consumption slabs using elif\n",
    "statements.\n"
   ]
  },
  {
   "cell_type": "code",
   "execution_count": 3,
   "id": "eb5dc0d8",
   "metadata": {},
   "outputs": [
    {
     "name": "stdout",
     "output_type": "stream",
     "text": [
      "Enter Your Consumption Unit: 300\n",
      "Your Consumption Unit 300 and Total Bill is 1773.25\n"
     ]
    }
   ],
   "source": [
    "'''\n",
    "Assuming\n",
    "Slab Low\tSlab High\tRate (in Rs)\n",
    "1-30->1.9\n",
    "31-75->3\n",
    "76-125->4.5\n",
    "126-225->6\n",
    "226 and above>8.75\n",
    "Fixed Charge-Rs 10\n",
    "'''\n",
    "\n",
    "def electricity_consumption(unit):\n",
    "    value=0\n",
    "    if unit<=30:\n",
    "        return value+((unit-1+1)*1.9)\n",
    "    elif unit<=75:\n",
    "        return value+(30*1.9)+((unit-30)*3)\n",
    "    elif unit<=125:\n",
    "        return value+(30*1.9)+((75-31+1)*3)+((unit-57)*4.5)\n",
    "    elif unit<=225:\n",
    "        return value+(30*1.9)+((75-31+1)*3)+((125-76+1)*4.5)+((unit-125)*6)\n",
    "    else:\n",
    "        return value+(30*1.9)+((75-31+1)*3)+((125-76+1)*4.5)+((225-126+1)*6)+((unit-225)*8.75)\n",
    "        \n",
    "unit=int(input(\"Enter Your Consumption Unit: \"))\n",
    "Fixed_charge=100\n",
    "\n",
    "total_bill=electricity_consumption(unit)+Fixed_charge\n",
    "\n",
    "print(f\"Your Consumption Unit {unit} and Total Bill is {total_bill}\")\n",
    "    "
   ]
  },
  {
   "cell_type": "markdown",
   "id": "ad7e7aaa",
   "metadata": {},
   "source": [
    "21. Write a Python program to assign grades based on different ranges of scores using elif statements.\n"
   ]
  },
  {
   "cell_type": "code",
   "execution_count": 6,
   "id": "87fa1cf5",
   "metadata": {},
   "outputs": [
    {
     "name": "stdout",
     "output_type": "stream",
     "text": [
      "Enter Student Score- 92\n",
      "Student got 92 marks, Grade A+\n"
     ]
    }
   ],
   "source": [
    "score=int(input(\"Enter Student Score- \"))\n",
    "\n",
    "while score<0 or score>100:\n",
    "    print(\"Invalid Score\")\n",
    "    score=int(input(\"Enter Student Score Again- \"))\n",
    "\n",
    "def score_grade(score):\n",
    "    '''\n",
    "Assuming \n",
    "    \n",
    "    90-100='GRADE A+'\n",
    "    80-89='GRADE A'\n",
    "    70-79='GRADE B'\n",
    "    60-69='GRADE C'\n",
    "    50-59='GRADE D'\n",
    "    0-50='Fail'\n",
    "    \n",
    "input-A single score value of integer type between 0 to 100\n",
    "\n",
    "'''\n",
    "    \n",
    "    if score>=90:\n",
    "        return \"A+\"\n",
    "    elif score>=80:\n",
    "        return \"A\"\n",
    "    elif score>=70:\n",
    "        return \"B\"\n",
    "    elif score>=60:\n",
    "        return \"C\"\n",
    "    elif score>=50:\n",
    "        return \"D\"\n",
    "    else:\n",
    "        return \"Fail\"\n",
    "\n",
    "score_grade_val=score_grade(score)\n",
    "\n",
    "print(f\"Student got {score} marks, Grade {score_grade_val}\")"
   ]
  },
  {
   "cell_type": "markdown",
   "id": "5d16003d",
   "metadata": {},
   "source": [
    "22. Implement a program to determine the type of a triangle based on its angles.\n"
   ]
  },
  {
   "cell_type": "code",
   "execution_count": 7,
   "id": "b616755d",
   "metadata": {},
   "outputs": [
    {
     "name": "stdout",
     "output_type": "stream",
     "text": [
      "Enter angle 1 value of the triangle- 45\n",
      "Enter angle 2 value of the triangle- 90\n",
      "Enter angle 3 value of the triangle- 45\n",
      "Angles with 45,90,and 45 is a Right angle triangle\n"
     ]
    }
   ],
   "source": [
    "#USER INPUT OF 3 angle of triangle\n",
    "def input_side():\n",
    "    angle1=int(input(\"Enter angle 1 value of the triangle- \"))\n",
    "    angle2=int(input(\"Enter angle 2 value of the triangle- \"))\n",
    "    angle3=int(input(\"Enter angle 3 value of the triangle- \"))\n",
    "    return angle1,angle2,angle3\n",
    "\n",
    "a1,a2,a3=input_side()\n",
    "\n",
    "def tri_acu_obt_right(a1,a2,a3): # triangle type\n",
    "    if (a1==90) or (a2==90) or (a3==90):\n",
    "        print (f\"Angles with {a1},{a2},and {a3} is a Right angle triangle\")\n",
    "    elif (a1>90) or(a2>90) or(a3>90):\n",
    "        print (f\"Angles with {a1},{a2},and {a3} is a Obtuse angle triangle\")\n",
    "    else:\n",
    "        print (f\"Angles with {a1},{a2},and {a3} is a Acute angle triangle\")\n",
    "    \n",
    "\n",
    "    \n",
    "def triangle_possibility_check(a1,a2,a3): #sum of all angle must be equal to 180 and any angle must be between 0 to 180 degree \n",
    "    if (a1+a2+a3==180) and((0<=a1<=180) and (0<=a2<=180) and (0<=a3<=180)):\n",
    "        return tri_acu_obt_right(a1,a2,a3)\n",
    "    else:\n",
    "        print(\"Wrong Input\")\n",
    "        print( \"Triangle Not possible\")\n",
    "\n",
    "triangle_possibility_check(a1,a2,a3)"
   ]
  },
  {
   "cell_type": "markdown",
   "id": "1a709ff1",
   "metadata": {},
   "source": [
    "24. Create a program that determines whether a given number is positive, negative, or zero using elif\n",
    "statements.\n"
   ]
  },
  {
   "cell_type": "code",
   "execution_count": 10,
   "id": "a1e6a9e6",
   "metadata": {},
   "outputs": [
    {
     "name": "stdout",
     "output_type": "stream",
     "text": [
      "Enter a number to check positive or negetive or Zero- 5\n",
      "Your given number- 5 is a Positive number\n"
     ]
    }
   ],
   "source": [
    "def positive_negetive(num):\n",
    "    if num > 0:\n",
    "        return \"Positive\"\n",
    "    elif num<0:\n",
    "        return \"Negetive\"\n",
    "    else:\n",
    "        return \"Zero\"\n",
    "    \n",
    "value=int(input(\"Enter a number to check positive or negetive or Zero- \"))\n",
    "\n",
    "return_type=positive_negetive(value)\n",
    "\n",
    "print(f\"Your given number- {value} is a {return_type} number\")"
   ]
  },
  {
   "cell_type": "markdown",
   "id": "90b95006",
   "metadata": {},
   "source": [
    "25. Write a Python script to determine the type of a character (uppercase, lowercase, or special) using elif\n",
    "statements.\n"
   ]
  },
  {
   "cell_type": "code",
   "execution_count": 14,
   "id": "10b9775c",
   "metadata": {},
   "outputs": [
    {
     "name": "stdout",
     "output_type": "stream",
     "text": [
      "Enter A character to check whether it is uppercase or lowercase or specialcase- @\n",
      "You have entered  @ is a Special Case Character\n"
     ]
    }
   ],
   "source": [
    "def upper_lower_special(value):\n",
    "    \n",
    "    special='''!@#$%^&*()_-+=/*{}[]:;\"<>?'''  #special case character list\n",
    "\n",
    "    if value.islower()==True:\n",
    "        return \"lower Case\"\n",
    "    elif value.isupper()==True:\n",
    "        return \"Upper Case\"\n",
    "    elif value in special:\n",
    "        return \"Special Case Character\"\n",
    "    else:\n",
    "        return \"Other Than UPPER/Lower/Special case\"\n",
    "\n",
    "\n",
    "\n",
    "\n",
    "char=input(\"Enter A character to check whether it is uppercase or lowercase or specialcase- \")\n",
    "\n",
    "while len(char)!=1:\n",
    "    \n",
    "    print(\"Invalid Input- length of Character Should be 1 only \")\n",
    "    \n",
    "    char=input(\"Enter A character once again to check whether it is uppercase or lowercase or specialcase- \")\n",
    "    \n",
    "    \n",
    "\n",
    "return_char=upper_lower_special(char)\n",
    "\n",
    "print(f\"You have entered  {char} is a {return_char}\")\n",
    "    "
   ]
  },
  {
   "cell_type": "markdown",
   "id": "d5c2c03d",
   "metadata": {},
   "source": [
    "# Intermediate Level:\n"
   ]
  },
  {
   "cell_type": "markdown",
   "id": "c30f1e7a",
   "metadata": {},
   "source": [
    "13. Develop a program that calculates the factorial of a given number using recursion.\n"
   ]
  },
  {
   "cell_type": "code",
   "execution_count": 22,
   "id": "a7e4c5b4",
   "metadata": {},
   "outputs": [
    {
     "name": "stdout",
     "output_type": "stream",
     "text": [
      "Enter a number to claculate its factorial- 6\n",
      "Factorial of 6 is 720\n"
     ]
    }
   ],
   "source": [
    "def factorial(num):\n",
    "    '''\n",
    "    0!=1\n",
    "    1!=1\n",
    "    2!=2*1\n",
    "    3!=3*2*1\n",
    "    ...means factorial of n=n*(n-1)*(n-2)*......so on\n",
    "    \n",
    "    This Function takes input as integer and return its factorial using above Formula\n",
    "    \n",
    "    '''\n",
    "    if num==0 or num==1:\n",
    "        return 1\n",
    "    elif num>1:\n",
    "        return num*factorial(num-1)\n",
    "        \n",
    "num=int(input(\"Enter a number to claculate its factorial- \"))\n",
    "print(f\"Factorial of {num} is {factorial(num)}\")"
   ]
  },
  {
   "cell_type": "markdown",
   "id": "473fac63",
   "metadata": {},
   "source": [
    "# Challenge Level:\n"
   ]
  },
  {
   "cell_type": "markdown",
   "id": "61008415",
   "metadata": {},
   "source": [
    "31. Create a program that validates a password based on complexity rules (length, characters, etc.).\n"
   ]
  },
  {
   "cell_type": "code",
   "execution_count": 8,
   "id": "047489ed",
   "metadata": {},
   "outputs": [
    {
     "name": "stdout",
     "output_type": "stream",
     "text": [
      "Enter Your Password To Check whether it is Valid or not: A123a@897\n"
     ]
    },
    {
     "data": {
      "text/plain": [
       "'Valid Password'"
      ]
     },
     "execution_count": 8,
     "metadata": {},
     "output_type": "execute_result"
    }
   ],
   "source": [
    "def password_validation(pswd):\n",
    "    '''\n",
    "    Assuming \n",
    "    1.Password length should be greter than equal to 8 and less than equal to 12\n",
    "    2.Password must have atleast one UPPERCASE LETTER(A-Z)\n",
    "    3.Password must have atleast one Lowercase LETTER(a-z)\n",
    "    4.Password must have at least one numeric value\n",
    "    5.No Special case character except '@'\n",
    "    \n",
    "    '''\n",
    "    \n",
    "    #LENGTH OF PASSWORD CHECKING\n",
    "    \n",
    "    len_valid=False #Initial value of length is set to be False\n",
    "    \n",
    "    if len(pswd)>=8 and len(pswd)<=12:\n",
    "        len_valid=True\n",
    "        \n",
    "    \n",
    "    #UPPER CASE CHECKING\n",
    "    upper_valid=False #validity of upper case is set to be zero initially\n",
    "    upper_count=0 # initial value of upper count is zero\n",
    "    \n",
    "    for item in pswd:\n",
    "        if item.isupper()==True:\n",
    "            upper_count+=1\n",
    "        \n",
    "    if upper_count>=1:\n",
    "        upper_valid=True\n",
    "        \n",
    "        \n",
    "    #LOWER CASE CHECKING\n",
    "    lower_valid=False #validity of upper case is set to be zero initially\n",
    "    lower_count=0 # initial value of upper count is zero\n",
    "    \n",
    "    for item in pswd:\n",
    "        if item.islower()==True:\n",
    "            lower_count+=1\n",
    "        \n",
    "    if lower_count>=1:\n",
    "        lower_valid=True\n",
    "        \n",
    "    \n",
    "    #numeric VALUE CHECKING\n",
    "    numeric_valid=False #validity of numeric is set to be zero initially\n",
    "    numeric_count=0 # initial value of numeric count is zero\n",
    "    \n",
    "    for item in pswd:\n",
    "        if item.isnumeric()==True:\n",
    "            numeric_count+=1\n",
    "        \n",
    "    if numeric_count>=1:\n",
    "        numeric_valid=True    \n",
    "        \n",
    "        \n",
    "    #special case character checking:\n",
    "    special_case_valid=False\n",
    "    special_case_count=0\n",
    "    \n",
    "    special_case_list=['!#$%^&*()_-+=|\\{}[]:;\"<>/']\n",
    "    \n",
    "    for item in pswd:\n",
    "        if item in special_case_list:\n",
    "            special_case_valid=False\n",
    "        \n",
    "        elif item=='@':\n",
    "            special_case_valid=True\n",
    "            \n",
    "            \n",
    "    #Combining all cases together\n",
    "    \n",
    "    if (len_valid==True) & (upper_valid==True) & (lower_valid==True) & (numeric_valid==True) | special_case_valid==True:\n",
    "        return \"Valid Password\"\n",
    "    else:\n",
    "        return \"Not a Valid Password\"\n",
    "    \n",
    "    \n",
    "    \n",
    "    \n",
    "    \n",
    "pswd=input(\"Enter Your Password To Check whether it is Valid or not: \")\n",
    "\n",
    "password_validation(pswd)\n",
    "\n",
    "\n",
    "\n",
    "\n",
    "\n",
    "\n",
    "\n",
    "\n",
    "\n",
    "\n",
    "\n",
    "\n",
    "\n",
    "\n",
    "\n",
    "\n"
   ]
  },
  {
   "cell_type": "markdown",
   "id": "a2e9b5f0",
   "metadata": {},
   "source": [
    "32. Develop a program that performs matrix addition and subtraction based on user input.\n"
   ]
  },
  {
   "cell_type": "code",
   "execution_count": 2,
   "id": "5fdc55de",
   "metadata": {},
   "outputs": [
    {
     "name": "stdout",
     "output_type": "stream",
     "text": [
      "After Addition of two matrixes-  [[4, 4, 4], [10, 10, 10], [16, 16, 16]]\n",
      "After Substraction of two matrixes-  [[-2, 0, 2], [-2, 0, 2], [-2, 0, 2]]\n"
     ]
    }
   ],
   "source": [
    "l1=[[1,2,3],[4,5,6],[7,8,9]]\n",
    "l2=[[3,2,1],[6,5,4],[9,8,7]]\n",
    "\n",
    "def mat_add_sub_possibility(l1,l2):\n",
    "    \n",
    "    column_length=[]\n",
    "    row_matched=False\n",
    "    column_matched=False\n",
    "    \n",
    "    #row number should be equal for both matrix\n",
    "    if len(l1)==len(l2):\n",
    "        row_matched=True\n",
    "    \n",
    "    #column number should also be equal for both matrix \n",
    "    for row1 in l1:\n",
    "        column_length.append(len(row1))\n",
    "    \n",
    "    for row2 in l2:\n",
    "        column_length.append(len(row2))\n",
    "        \n",
    "    if len(set(column_length))==1:\n",
    "        column_matched=True\n",
    "        \n",
    "    \n",
    "    return row_matched,column_matched\n",
    "        \n",
    "#a,b=mat_add_sub_possibility(l1,l2)\n",
    "\n",
    "#print(a,b)\n",
    "\n",
    "result=[[0,0,0],[0,0,0],[0,0,0]]\n",
    "resultsub=[[0,0,0],[0,0,0],[0,0,0]]\n",
    "\n",
    "for i in range(len(l1)):\n",
    "    for j in range(len(l1[0])):  \n",
    "        result[i][j] = l1[i][j] + l2[i][j] \n",
    "        \n",
    "for i in range(len(l1)):\n",
    "    for j in range(len(l1[0])):  \n",
    "        resultsub[i][j] = l1[i][j] - l2[i][j]\n",
    "\n",
    "\n",
    "print(\"After Addition of two matrixes- \",result)\n",
    "print(\"After Substraction of two matrixes- \",resultsub)"
   ]
  },
  {
   "cell_type": "markdown",
   "id": "13098371",
   "metadata": {},
   "source": [
    "35. Create a program that simulates a basic text-based tic-tac-toe game against the computer.\n"
   ]
  },
  {
   "cell_type": "code",
   "execution_count": 7,
   "id": "1a28f1bb",
   "metadata": {},
   "outputs": [
    {
     "name": "stdout",
     "output_type": "stream",
     "text": [
      "Positions Available:  [(1, 1), (1, 2), (1, 3), (2, 1), (2, 2), (2, 3), (3, 1), (3, 2), (3, 3)]\n",
      "Enter the row position You Want: 1\n",
      "Enter the Column position You Want: 1\n",
      "X _ _ \n",
      "0 _ _ \n",
      "_ _ _ \n",
      "Positions Available:  [(1, 2), (1, 3), (2, 2), (2, 3), (3, 1), (3, 2), (3, 3)]\n",
      "Enter the row position You Want: 2\n",
      "Enter the Column position You Want: 2\n",
      "X _ _ \n",
      "0 X _ \n",
      "_ _ 0 \n",
      "Positions Available:  [(1, 2), (1, 3), (2, 3), (3, 1), (3, 2)]\n",
      "Enter the row position You Want: 1\n",
      "Enter the Column position You Want: 3\n",
      "X _ X \n",
      "0 X 0 \n",
      "_ _ 0 \n",
      "Positions Available:  [(1, 2), (3, 1), (3, 2)]\n",
      "Enter the row position You Want: 1\n",
      "Enter the Column position You Want: 2\n",
      "You Win\n",
      "X X X \n",
      "0 X 0 \n",
      "_ _ 0 \n"
     ]
    }
   ],
   "source": [
    "import random\n",
    "\n",
    "board=[['_','_','_'],['_','_','_'],['_','_','_']] # initial board\n",
    "\n",
    "position=[(i,j) for i in range(1,4) for j in range(1,4)] # positions available in the board to place\n",
    "\n",
    "user_flag,comp_flag=False,False\n",
    "\n",
    "\n",
    "def display_board():\n",
    "    for row in range(len(board)):\n",
    "        for col in range(len(board[row])):\n",
    "            print(board[row][col],end=\" \")\n",
    "        print()\n",
    "\n",
    "\n",
    "user_sign,comp_sign='X','0' # user_sign and computer sign for the game\n",
    "\n",
    "while user_flag==False and comp_flag==False:\n",
    "    def user_board_input(board,position,user_sign):\n",
    "        \n",
    "        print(\"Positions Available: \",position)\n",
    "\n",
    "        row=int(input(\"Enter the row position You Want: \"))\n",
    "        col=int(input(\"Enter the Column position You Want: \"))\n",
    "\n",
    "        if (row,col) in position:\n",
    "            board[row-1][col-1]=user_sign\n",
    "            position.remove((row,col))\n",
    "        else:\n",
    "            print(\"Invalid Input\")\n",
    "            user_board_input(board,position,user_sign)\n",
    "\n",
    "        return board,position\n",
    "\n",
    "    board,position=user_board_input(board,position,user_sign) #after user_input\n",
    "\n",
    "    def board_checker_user(board,user_sign,user_flag):\n",
    "    #horizantal win condition\n",
    "        if board[0][0]==user_sign and board[0][1]==user_sign and board[0][2]==user_sign:\n",
    "            user_flag=True\n",
    "        elif board[1][0]==user_sign and board[1][1]==user_sign and board[1][2]==user_sign:\n",
    "            user_flag=True\n",
    "        elif board[2][0]==user_sign and board[2][1]==user_sign and board[2][2]==user_sign:\n",
    "            user_flag=True        \n",
    "\n",
    "    #for verical win condition\n",
    "\n",
    "        elif board[0][0]==user_sign and board[1][0]==user_sign and board[2][0]==user_sign:\n",
    "            user_flag=True\n",
    "        elif board[0][1]==user_sign and board[1][1]==user_sign and board[2][1]==user_sign:\n",
    "            user_flag=True\n",
    "        elif board[0][2]==user_sign and board[1][2]==user_sign and board[2][2]==user_sign:\n",
    "            user_flag=True \n",
    "\n",
    "    #for diagonal Win condition\n",
    "\n",
    "        elif board[0][0]==user_sign and board[1][1]==user_sign and board[2][2]==user_sign:\n",
    "            user_flag=True\n",
    "        elif board[2][0]==user_sign and board[1][1]==user_sign and board[0][2]==user_sign:\n",
    "            user_flag=True\n",
    "        else:\n",
    "            user_flag=False\n",
    "\n",
    "\n",
    "        return user_flag\n",
    "\n",
    "\n",
    "    user_flag=board_checker_user(board,user_sign,user_flag)\n",
    "    \n",
    "    if user_flag==True:\n",
    "        print(\"You Win\")\n",
    "        display_board()\n",
    "        break\n",
    "\n",
    "\n",
    "    def comp_board_input(board,position,comp_sign):\n",
    "\n",
    "        if len(position)==0:\n",
    "            print(\"Game Drawn\")\n",
    "            return \n",
    "        \n",
    "        else:\n",
    "            comp_selection=random.choices(position)[0]\n",
    "            row=comp_selection[0]\n",
    "            col=comp_selection[1]\n",
    "\n",
    "            if (row,col) in position:\n",
    "                board[row-1][col-1]=comp_sign\n",
    "                position.remove((row,col))\n",
    "\n",
    "        \n",
    "\n",
    "        return board,position\n",
    "\n",
    "    board,position=comp_board_input(board,position,comp_sign) #after user_input\n",
    "\n",
    "    def board_checker_comp(board,comp_sign,comp_flag):\n",
    "        #horizantal win condition\n",
    "        if board[0][0]==comp_sign and board[0][1]==comp_sign and board[0][2]==comp_sign:\n",
    "            user_flag=True\n",
    "        elif board[1][0]==comp_sign and board[1][1]==comp_sign and board[1][2]==comp_sign:\n",
    "            user_flag=True\n",
    "        elif board[2][0]==comp_sign and board[2][1]==comp_sign and board[2][2]==comp_sign:\n",
    "            user_flag=True        \n",
    "\n",
    "        #for verical win condition\n",
    "\n",
    "        elif board[0][0]==comp_sign and board[1][0]==comp_sign and board[2][0]==comp_sign:\n",
    "            user_flag=True\n",
    "        elif board[0][1]==comp_sign and board[1][1]==comp_sign and board[2][1]==comp_sign:\n",
    "            user_flag=True\n",
    "        elif board[0][2]==comp_sign and board[1][2]==comp_sign and board[2][2]==comp_sign:\n",
    "            user_flag=True \n",
    "\n",
    "        #for diagonal Win condition\n",
    "\n",
    "        elif board[0][0]==comp_sign and board[1][1]==comp_sign and board[2][2]==comp_sign:\n",
    "            user_flag=True\n",
    "        elif board[2][0]==comp_sign and board[1][1]==comp_sign and board[0][2]==comp_sign:\n",
    "            user_flag=True\n",
    "        else:\n",
    "            user_flag=False\n",
    "\n",
    "        return user_flag\n",
    "\n",
    "    display_board()\n",
    "\n",
    "    comp_flag=board_checker_user(board,comp_sign,comp_flag)\n",
    "    \n",
    "    if comp_flag==True:\n",
    "        print(\"Comp Wins\")\n",
    "        display_board()\n",
    "        break\n",
    "\n",
    "if user_flag==False and comp_flag==False:\n",
    "    print(\"Game Drawn\")"
   ]
  },
  {
   "cell_type": "markdown",
   "id": "d3a5c67d",
   "metadata": {},
   "source": [
    "36. Write a program that generates Fibonacci numbers up to a specified term using iterative methods.\n"
   ]
  },
  {
   "cell_type": "code",
   "execution_count": 11,
   "id": "b6b4464a",
   "metadata": {},
   "outputs": [
    {
     "name": "stdout",
     "output_type": "stream",
     "text": [
      "Enter the number of terms you want: 6\n",
      "0 1 1 2 3 5 "
     ]
    }
   ],
   "source": [
    "a = 0\n",
    "b = 1\n",
    "n=int(input(\"Enter the number of terms you want: \"))\n",
    "print(a,b,end=\" \")\n",
    "while(n-2)>0:\n",
    "    c=a+b\n",
    "    a,b = b,c\n",
    "    print(c,end=\" \")\n",
    "    n=n-1"
   ]
  },
  {
   "cell_type": "markdown",
   "id": "386a6424",
   "metadata": {},
   "source": [
    "37. Develop a program that calculates the nth term of the Fibonacci sequence using memoization.\n"
   ]
  },
  {
   "cell_type": "code",
   "execution_count": 15,
   "id": "927b458a",
   "metadata": {},
   "outputs": [
    {
     "name": "stdout",
     "output_type": "stream",
     "text": [
      "Enter the term  you want: 6\n",
      "term no 6 of fibonacci series is 5\n"
     ]
    }
   ],
   "source": [
    "def fibo(n):\n",
    "    if n==1:\n",
    "        return 0\n",
    "    elif n==2:\n",
    "        return 1\n",
    "    else:\n",
    "        return fibo(n-1)+fibo(n-2)\n",
    "        \n",
    "n=int(input(\"Enter the term  you want: \"))\n",
    "\n",
    "print(f\"term no {n} of fibonacci series is {fibo(n)}\")"
   ]
  },
  {
   "cell_type": "markdown",
   "id": "b20f5b54",
   "metadata": {},
   "source": [
    "38. Create a program that generates a calendar for a given month and year using conditional statements.\n"
   ]
  },
  {
   "cell_type": "code",
   "execution_count": 68,
   "id": "1efce1a4",
   "metadata": {},
   "outputs": [
    {
     "name": "stdout",
     "output_type": "stream",
     "text": [
      "Enter The Calender Year you want: 1989\n",
      "Enter The Calender Month you want: 8\n",
      "            1989            \n",
      "           August           \n",
      "------------- --------------\n",
      "Mon|Tue|Wed|Thu|Fri|Sat|Sun|\n",
      "   | 01| 02| 03| 04| 05| 06|\n",
      " 07| 08| 09| 10| 11| 12| 13|\n",
      " 14| 15| 16| 17| 18| 19| 20|\n",
      " 21| 22| 23| 24| 25| 26| 27|\n",
      " 28| 29| 30| 31|"
     ]
    }
   ],
   "source": [
    "def leap_year(n):\n",
    "    leap_year_count=0\n",
    "    for year in range(1,n):\n",
    "        if year%100==0: # For century case\n",
    "            if year%4==0 and year%400==0:\n",
    "                leap_year_count+=1\n",
    "            else:\n",
    "                continue\n",
    "        else:# For non century case\n",
    "            if year%4==0:\n",
    "                leap_year_count+=1\n",
    "    else:\n",
    "        return leap_year_count\n",
    "    \n",
    "\n",
    "    \n",
    "year=int(input(\"Enter The Calender Year you want: \"))\n",
    "month=int(input(\"Enter The Calender Month you want: \"))\n",
    "\n",
    "leap_year_before_given_year=leap_year(year)\n",
    "ordinary_year_before_given_year=year-leap_year_before_given_year-1\n",
    "\n",
    "odd_days_leap,odd_days_ordinary=2,1\n",
    "\n",
    "total_odd_days_before_given_year_starts=(leap_year_before_given_year*odd_days_leap)+(ordinary_year_before_given_year*odd_days_ordinary)\n",
    "\n",
    "total_odd_days=(total_odd_days_before_given_year_starts)%7\n",
    "\n",
    "total_odd_days # till 31st dec of the previous year of given year\n",
    "\n",
    "\n",
    "# odd days for given year\n",
    "\n",
    "def leap_year_check(n):\n",
    "    if n%100==0:\n",
    "        if n%4==0 and n%400==0:\n",
    "            return True\n",
    "        else:\n",
    "            return False\n",
    "    else:\n",
    "        if n%4==0:\n",
    "            return True\n",
    "        else:\n",
    "            return False\n",
    "            \n",
    "\n",
    "given_year_leap=leap_year_check(year)\n",
    "\n",
    "if given_year_leap==True:\n",
    "    odd_day_list=[3,1,3,2,3,2,3,3,2,3,2,3]\n",
    "    day_list=[31,29,31,30,31,30,31,31,30,31,30,31]\n",
    "else:\n",
    "    odd_day_list=[3,0,3,2,3,2,3,3,2,3,2,3]\n",
    "    day_list=[31,28,31,30,31,30,31,31,30,31,30,31]\n",
    "    \n",
    "\n",
    "def odd_days_before_given_month(month,odd_day_list):\n",
    "    if month==1:\n",
    "        return 0\n",
    "    else:\n",
    "        summ=0\n",
    "        for mnth in range(month-1):\n",
    "            summ+=odd_day_list[mnth]\n",
    "            \n",
    "        return summ\n",
    "    \n",
    "    \n",
    "year_odd_day=odd_days_before_given_month(month,odd_day_list)\n",
    "\n",
    "total_odd_days_before_starting_month=(total_odd_days+year_odd_day)%7\n",
    "            \n",
    "total_odd_days_before_starting_month\n",
    "\n",
    "\n",
    "given_month_day=[str(i) if len(str(i))==2 else \"0\"+str(i) for i in range(1,day_list[month-1]+1)]\n",
    "\n",
    "for i in range(total_odd_days_before_starting_month):\n",
    "    given_month_day.insert(0,\"  \")\n",
    "    \n",
    "\n",
    "month_list=[\"January\",\"February\",\"March\",\"April\",\"May\",\"June\",\"July\",\"August\",\"September\",\"October\",\"November\",\"December\"]    \n",
    "    \n",
    "    \n",
    "#PRINTING DATES\n",
    "\n",
    "\n",
    "print(str(year).center(28,\" \"))\n",
    "print(month_list[month-1].center(28,\" \"))\n",
    "print(\" \".center(28,\"-\"))\n",
    "\n",
    "weekday=[\"Mon\",\"Tue\",\"Wed\",\"Thu\",\"Fri\",\"Sat\",\"Sun\"]\n",
    "\n",
    "for wkd in weekday:\n",
    "    print(wkd,end=\"|\")\n",
    "    \n",
    "\n",
    "print()\n",
    "\n",
    "for dates in range(0,len(given_month_day)):\n",
    "    if dates in (7,14,21,28,35,42):\n",
    "        print()\n",
    "        print(f\" {given_month_day[dates]}\",end=\"|\")\n",
    "    else:\n",
    "        print(f\" {given_month_day[dates]}\",end=\"|\")\n",
    "    \n",
    "        \n",
    "        \n"
   ]
  },
  {
   "cell_type": "markdown",
   "id": "0404022e",
   "metadata": {},
   "source": [
    "28. Create a program that sorts three numbers in ascending order using conditional statements.\n"
   ]
  },
  {
   "cell_type": "code",
   "execution_count": 69,
   "id": "c09523f8",
   "metadata": {},
   "outputs": [
    {
     "name": "stdout",
     "output_type": "stream",
     "text": [
      "Enter Your 1st number: 34\n",
      "Enter Your 2nd number: 82\n",
      "Enter Your 3rd number: 12\n",
      "Lowest Value: 12, Medium Value: 34, Highest value: 82 \n"
     ]
    }
   ],
   "source": [
    "num1=int(input(\"Enter Your 1st number: \"))\n",
    "num2=int(input(\"Enter Your 2nd number: \"))\n",
    "num3=int(input(\"Enter Your 3rd number: \"))\n",
    "\n",
    "def maximum(num1,num2,num3):\n",
    "    if num1>num2:\n",
    "        if num1>num3:\n",
    "            return num1\n",
    "        else:\n",
    "            return num3\n",
    "    else:\n",
    "        if num2>num3:\n",
    "            return num2\n",
    "        else:\n",
    "            return num3\n",
    "        \n",
    "        \n",
    "maximium_val=maximum(num1,num2,num3)\n",
    "\n",
    "def minimum(num1,num2,num3):\n",
    "    if num1<num2:\n",
    "        if num1<num3:\n",
    "            return num1\n",
    "        else:\n",
    "            return num3\n",
    "    else:\n",
    "        if num2<num3:\n",
    "            return num2\n",
    "        else:\n",
    "            return num3\n",
    "        \n",
    "minimum_val=minimum(num1,num2,num3)\n",
    "\n",
    "def medium(num1,num2,num3,maximium_val,minimum_val):\n",
    "    if num1!=maximium_val and num1!=minimum_val:\n",
    "        return num1\n",
    "    elif num2!=maximium_val and num2!=minimum_val:\n",
    "        return num2\n",
    "    else:\n",
    "        return num3\n",
    "    \n",
    "medium_val=medium(num1,num2,num3,maximium_val,minimum_val)\n",
    "\n",
    "\n",
    "print(f\"Lowest Value: {minimum_val}, Medium Value: {medium_val}, Highest value: {maximium_val} \")"
   ]
  },
  {
   "cell_type": "markdown",
   "id": "b8cd6a19",
   "metadata": {},
   "source": [
    "17. Write a program that calculates the average of a list of numbers, excluding the smallest and largest values.\n"
   ]
  },
  {
   "cell_type": "code",
   "execution_count": 75,
   "id": "f328cc34",
   "metadata": {},
   "outputs": [
    {
     "name": "stdout",
     "output_type": "stream",
     "text": [
      "How many terms you want to add in the list: 5\n",
      "Enter number 1: 20\n",
      "Enter number 2: 21\n",
      "Enter number 3: 22\n",
      "Enter number 4: 23\n",
      "Enter number 5: 24\n",
      "Average Excluding maximum and minimum Value is:  22.0\n"
     ]
    }
   ],
   "source": [
    "n=[]\n",
    "terms=int(input(\"How many terms you want to add in the list: \"))\n",
    "\n",
    "for item in range(terms):\n",
    "    n.append(int(input(f\"Enter number {item+1}: \")))\n",
    "\n",
    "\n",
    "def avg_list_excluding_max_min(n):\n",
    "    max_val=max(n)\n",
    "    min_val=min(n)\n",
    "    \n",
    "    summ,avg=0,0\n",
    "    \n",
    "    for item in n:\n",
    "        if item==max_val or item==min_val:\n",
    "            continue\n",
    "        else:\n",
    "            summ+=item\n",
    "            \n",
    "    else:\n",
    "        return summ/(len(n)-2)\n",
    "    \n",
    "    \n",
    "print(\"Average Excluding maximum and minimum Value is: \",avg_list_excluding_max_min(n))\n",
    "    "
   ]
  },
  {
   "cell_type": "markdown",
   "id": "7c1143ae",
   "metadata": {},
   "source": [
    "21. Create a program that calculates the income tax based on the user's income and tax brackets.\n",
    "\n"
   ]
  },
  {
   "cell_type": "code",
   "execution_count": 1,
   "id": "a40a767c",
   "metadata": {},
   "outputs": [
    {
     "name": "stdout",
     "output_type": "stream",
     "text": [
      "Enter your income: 800000\n",
      "Your tax amount is - 25000.0\n"
     ]
    }
   ],
   "source": [
    "\"\"\"\n",
    "Tax Slab\n",
    "3,00,000-No Tax\n",
    "3,00,001 to 6,00,000->5%\n",
    "6,00,001 to 9,00,000->10%\n",
    "9,00,001 to 12,00,000->15%\n",
    "12,00,001 to 15,00,000->20%\n",
    "15,00,000->30%\"\"\"\n",
    "\n",
    "income=int(input(\"Enter your income: \"))\n",
    "\n",
    "def tax(income):\n",
    "    \n",
    "    tax=0\n",
    "\n",
    "    if income<=300000:\n",
    "        tax+=0\n",
    "        \n",
    "    elif tax<=600000:\n",
    "        tax+=(income-300000)*0.05\n",
    "    \n",
    "    elif tax<=900000:\n",
    "        tax+=300000*0.00+(600000-300001)*0.05+(income-600000)*0.1\n",
    "    \n",
    "    elif tax<=1200000:\n",
    "        tax+=300000*0.00+(600000-300001)*0.05+(900000-600001)*0.1+(income-900000)*0.15\n",
    "    \n",
    "    elif tax<=1500000:\n",
    "        tax+=300000*0.00+(600000-300001)*0.05+(900000-600001)*0.1+(1200000-900001)*0.15+(income-1200000)*0.20\n",
    "    \n",
    "    else:\n",
    "        tax+=300000*0.00+(600000-300001)*0.05+(900000-600001)*0.1+(1200000-900001)*0.15+(1500000-1200001)*0.20+(income-1500000)*0.3\n",
    "\n",
    "    return tax\n",
    "\n",
    "\n",
    "print(f\"Your tax amount is - {tax(income)}\")\n"
   ]
  },
  {
   "cell_type": "markdown",
   "id": "4298714f",
   "metadata": {},
   "source": [
    "22. Write a program that simulates a rock-paper-scissors game against the computer.\n",
    "\n"
   ]
  },
  {
   "cell_type": "code",
   "execution_count": 4,
   "id": "ecc7e9e7",
   "metadata": {},
   "outputs": [
    {
     "name": "stdout",
     "output_type": "stream",
     "text": [
      "Enter a choice (rock, paper, scissors): paper\n",
      "You chose paper, computer chose rock\n",
      "Paper covers rock! You win!\n"
     ]
    }
   ],
   "source": [
    "import random\n",
    "\n",
    "actions = [\"rock\", \"paper\", \"scissors\"]\n",
    "\n",
    "user = input(\"Enter a choice (rock, paper, scissors): \")\n",
    "\n",
    "computer = random.choice(actions)\n",
    "\n",
    "print(f\"You chose {user}, computer chose {computer}\")\n",
    "\n",
    "if user == computer:\n",
    "    print(f\"Both players selected {user}. It's a tie!\")\n",
    "    \n",
    "elif user == \"rock\":\n",
    "    if computer == \"scissors\":\n",
    "        print(\"Rock smashes scissors! You win!\")\n",
    "        \n",
    "    else:\n",
    "        print(\"Paper covers rock! You lose.\")\n",
    "        \n",
    "elif user == \"paper\":\n",
    "    \n",
    "    if computer == \"rock\":\n",
    "        print(\"Paper covers rock! You win!\")\n",
    "        \n",
    "    else:\n",
    "        print(\"Scissors cuts paper! You lose.\")\n",
    "        \n",
    "elif user == \"scissors\":\n",
    "    \n",
    "    if computer == \"paper\":\n",
    "        print(\"Scissors cuts paper! You win!\")\n",
    "        \n",
    "    else:\n",
    "        print(\"Rock smashes scissors! You lose.\")"
   ]
  },
  {
   "cell_type": "code",
   "execution_count": null,
   "id": "fe661824",
   "metadata": {},
   "outputs": [],
   "source": []
  },
  {
   "cell_type": "code",
   "execution_count": null,
   "id": "22affcf5",
   "metadata": {},
   "outputs": [],
   "source": []
  }
 ],
 "metadata": {
  "kernelspec": {
   "display_name": "Python 3 (ipykernel)",
   "language": "python",
   "name": "python3"
  },
  "language_info": {
   "codemirror_mode": {
    "name": "ipython",
    "version": 3
   },
   "file_extension": ".py",
   "mimetype": "text/x-python",
   "name": "python",
   "nbconvert_exporter": "python",
   "pygments_lexer": "ipython3",
   "version": "3.10.9"
  }
 },
 "nbformat": 4,
 "nbformat_minor": 5
}
