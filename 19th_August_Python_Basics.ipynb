{
 "cells": [
  {
   "cell_type": "markdown",
   "id": "9689218e",
   "metadata": {},
   "source": [
    "1. Declare two variables, `x` and `y`, and assign them integer values.\n",
    "Swap the values of these variables without using any temporary\n",
    "variable."
   ]
  },
  {
   "cell_type": "code",
   "execution_count": 31,
   "id": "21624f14",
   "metadata": {},
   "outputs": [
    {
     "name": "stdout",
     "output_type": "stream",
     "text": [
      "Enter the value of x 12\n",
      "Enter the value of y 43\n",
      "New Value of x 43\n",
      "New Value of y 12\n"
     ]
    }
   ],
   "source": [
    "#user given input for x and y\n",
    "\n",
    "x=int(input(\"Enter the value of x \"))\n",
    "y=int(input(\"Enter the value of y \"))\n",
    "\n",
    "x,y=y,x\n",
    "\n",
    "print(\"New Value of x\",x)\n",
    "\n",
    "print(\"New Value of y\",y)"
   ]
  },
  {
   "cell_type": "markdown",
   "id": "65ab9513",
   "metadata": {},
   "source": [
    "2. Create a program that calculates the area of a rectangle. Take the\n",
    "length and width as inputs from the user and store them in variables.\n",
    "Calculate and display the area."
   ]
  },
  {
   "cell_type": "code",
   "execution_count": 32,
   "id": "217f3261",
   "metadata": {},
   "outputs": [
    {
     "name": "stdout",
     "output_type": "stream",
     "text": [
      "Enter The length of the rectangle 20\n",
      "Enter The width of the rectangle 10\n",
      "Area of a rectangle with length  20  and width  10  is -  200\n"
     ]
    }
   ],
   "source": [
    "#user given input for length and width\n",
    "\n",
    "length=int(input(\"Enter The length of the rectangle \"))\n",
    "width=int(input(\"Enter The width of the rectangle \"))\n",
    "\n",
    "area=length*width # calucation of area of a rectangle\n",
    "\n",
    "print(\"Area of a rectangle with length \",length,\" and width \",width,\" is - \",area) #diplay the area of a rectangle"
   ]
  },
  {
   "cell_type": "markdown",
   "id": "28115c42",
   "metadata": {},
   "source": [
    "3. Write a Python program that converts temperature from Celsius to\n",
    "Fahrenheit. Take the temperature in Celsius as input, store it in a\n",
    "variable, convert it to Fahrenheit, and display the result."
   ]
  },
  {
   "cell_type": "code",
   "execution_count": 33,
   "id": "3ecafcfa",
   "metadata": {},
   "outputs": [
    {
     "name": "stdout",
     "output_type": "stream",
     "text": [
      "Enter the celcius value- 37.2\n",
      "farenheit value 98.96000000000001\n"
     ]
    }
   ],
   "source": [
    "# user given celcius value\n",
    "\n",
    "cel=float(input(\"Enter the celcius value- \"))\n",
    "\n",
    "farenheit=(cel*9/5)+32 # conversion formula for celcius to farenheit\n",
    "\n",
    "print(\"farenheit value\",farenheit) #dispaly the farenheit value"
   ]
  },
  {
   "cell_type": "markdown",
   "id": "453e1918",
   "metadata": {},
   "source": [
    "# String Based Questions"
   ]
  },
  {
   "cell_type": "markdown",
   "id": "f90c1999",
   "metadata": {},
   "source": [
    "1. Write a Python program that takes a string as input and prints the\n",
    "length of the string."
   ]
  },
  {
   "cell_type": "code",
   "execution_count": 34,
   "id": "32535d89",
   "metadata": {},
   "outputs": [
    {
     "name": "stdout",
     "output_type": "stream",
     "text": [
      "Enter the string for which length to be calculated- \"pwskills \"\n",
      "the length of the string is-  11\n"
     ]
    }
   ],
   "source": [
    "#user given input for string value\n",
    "\n",
    "string=input(\"Enter the string for which length to be calculated- \")\n",
    "\n",
    "l=len(string)\n",
    "\n",
    "print(\"the length of the string is- \",l) # dispay the length of the string"
   ]
  },
  {
   "cell_type": "markdown",
   "id": "007ffa73",
   "metadata": {},
   "source": [
    "2. Create a program that takes a sentence from the user and counts the\n",
    "number of vowels (a, e, i, o, u) in the string."
   ]
  },
  {
   "cell_type": "code",
   "execution_count": 35,
   "id": "74e948bb",
   "metadata": {},
   "outputs": [
    {
     "name": "stdout",
     "output_type": "stream",
     "text": [
      "Enter the sentence \"This is my second string problem in this assignment\n",
      "Total no of vowels-  12\n"
     ]
    }
   ],
   "source": [
    "#user given sentence\n",
    "\n",
    "sentence=input(\"Enter the sentence \")\n",
    "\n",
    "list_of_vowels=['a','e','i','o','u']\n",
    "\n",
    "count_of_vowels=0 #initial value count of vowels is 0\n",
    "\n",
    "for character in sentence.lower():\n",
    "    if character in list_of_vowels:\n",
    "        count_of_vowels+=1\n",
    "        \n",
    "print(\"Total no of vowels- \",count_of_vowels)\n",
    "        \n",
    "    "
   ]
  },
  {
   "cell_type": "markdown",
   "id": "a42e1af0",
   "metadata": {},
   "source": [
    "3. Given a string, reverse the order of characters using string slicing and\n",
    "print the reversed string."
   ]
  },
  {
   "cell_type": "code",
   "execution_count": 36,
   "id": "cecb88c3",
   "metadata": {},
   "outputs": [
    {
     "name": "stdout",
     "output_type": "stream",
     "text": [
      "Enter the string to be reversed Pwskills\n",
      "The reversed string of the original string value-  Pwskills  is-  sllikswP\n"
     ]
    }
   ],
   "source": [
    "# user given string\n",
    "\n",
    "string=input(\"Enter the string to be reversed \")\n",
    "\n",
    "reversed_string=string[::-1] #string slicing opereation\n",
    "\n",
    "print(\"The reversed string of the original string value- \",string,\" is- \",reversed_string)"
   ]
  },
  {
   "cell_type": "markdown",
   "id": "a18e5cfa",
   "metadata": {},
   "source": [
    "4. Write a program that takes a string as input and checks if it is a\n",
    "palindrome (reads the same forwards and backwards)."
   ]
  },
  {
   "cell_type": "code",
   "execution_count": 37,
   "id": "1d74290e",
   "metadata": {},
   "outputs": [
    {
     "name": "stdout",
     "output_type": "stream",
     "text": [
      "Enter the string to be checked MadaM\n",
      " your string is a Palindrome\n"
     ]
    }
   ],
   "source": [
    "#string to be checked\n",
    "\n",
    "string=input(\"Enter the string to be checked \")\n",
    "\n",
    "if string[::-1]==string:\n",
    "    print(\" your string is a Palindrome\")\n",
    "else:\n",
    "    print(\"Your string is Not a palindrome\")"
   ]
  },
  {
   "cell_type": "markdown",
   "id": "0e498c67",
   "metadata": {},
   "source": [
    "5. Create a program that takes a string as input and removes all the\n",
    "spaces from it. Print the modified string without spaces."
   ]
  },
  {
   "cell_type": "code",
   "execution_count": 38,
   "id": "29289cbf",
   "metadata": {},
   "outputs": [
    {
     "name": "stdout",
     "output_type": "stream",
     "text": [
      "Enter the string  pw   skil  ls    \n",
      "The new string without space is-  pwskills\n"
     ]
    }
   ],
   "source": [
    "#user given input for space removal\n",
    "\n",
    "string=input(\"Enter the string\")\n",
    "new_string='' #creating a blank string\n",
    "\n",
    "for character in string.strip():\n",
    "    if character.isspace()==True:\n",
    "        continue\n",
    "    else:\n",
    "        new_string=new_string+character\n",
    "\n",
    "print(\"The new string without space is- \",new_string)\n"
   ]
  },
  {
   "cell_type": "code",
   "execution_count": null,
   "id": "74b9d3c7",
   "metadata": {},
   "outputs": [],
   "source": []
  }
 ],
 "metadata": {
  "kernelspec": {
   "display_name": "Python 3 (ipykernel)",
   "language": "python",
   "name": "python3"
  },
  "language_info": {
   "codemirror_mode": {
    "name": "ipython",
    "version": 3
   },
   "file_extension": ".py",
   "mimetype": "text/x-python",
   "name": "python",
   "nbconvert_exporter": "python",
   "pygments_lexer": "ipython3",
   "version": "3.10.9"
  }
 },
 "nbformat": 4,
 "nbformat_minor": 5
}
