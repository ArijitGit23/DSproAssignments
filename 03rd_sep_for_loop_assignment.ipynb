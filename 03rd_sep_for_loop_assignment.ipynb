{
 "cells": [
  {
   "cell_type": "markdown",
   "id": "4e40fb5e",
   "metadata": {},
   "source": [
    "# Basic Level:\n"
   ]
  },
  {
   "cell_type": "markdown",
   "id": "54f5ed4b",
   "metadata": {},
   "source": [
    "\n",
    "1. Write a Python program to print the numbers from 1 to 10 using a `for` loop.\n"
   ]
  },
  {
   "cell_type": "code",
   "execution_count": 1,
   "id": "8b545061",
   "metadata": {},
   "outputs": [
    {
     "name": "stdout",
     "output_type": "stream",
     "text": [
      "1 2 3 4 5 6 7 8 9 10 "
     ]
    }
   ],
   "source": [
    "def print_num():\n",
    "    '''\n",
    "    This Program Print numbers from 1 to 10\n",
    "    '''\n",
    "    for item in range(1,11):\n",
    "        print(item,end=\" \")\n",
    "        \n",
    "print_num()"
   ]
  },
  {
   "cell_type": "markdown",
   "id": "5773a89f",
   "metadata": {},
   "source": [
    "2. Create a program that calculates the sum of all numbers in a list using a `for` loop.\n"
   ]
  },
  {
   "cell_type": "code",
   "execution_count": 5,
   "id": "458a9688",
   "metadata": {},
   "outputs": [
    {
     "name": "stdout",
     "output_type": "stream",
     "text": [
      "Sum of all numbers in [1, 2, 3, 4, 5, 6, 7, 8, 9] is- 45\n"
     ]
    }
   ],
   "source": [
    "def sum_of_all_numbers_inlist(lis):\n",
    "    '''\n",
    "    This Function takes input as a list and return sum of all numbers in that list\n",
    "    '''\n",
    "    sum=0\n",
    "    for item in lis:\n",
    "        sum+=item\n",
    "        \n",
    "    return sum\n",
    "\n",
    "lis=[1,2,3,4,5,6,7,8,9]\n",
    "\n",
    "print(f\"Sum of all numbers in {lis} is- {sum_of_all_numbers_inlist(lis)}\")"
   ]
  },
  {
   "cell_type": "markdown",
   "id": "20f5defe",
   "metadata": {},
   "source": [
    "3. Write a program to print the characters of a string in reverse order using a `for` loop.\n"
   ]
  },
  {
   "cell_type": "code",
   "execution_count": 8,
   "id": "4eb95186",
   "metadata": {},
   "outputs": [
    {
     "name": "stdout",
     "output_type": "stream",
     "text": [
      "Enter A string to reverse: Pwskills\n",
      "Your Original string- Pwskills and Reversed String- sllikswP\n"
     ]
    }
   ],
   "source": [
    "def reverse_string(string):\n",
    "    '''\n",
    "    This Function takes a string value and return its reversed form\n",
    "    '''\n",
    "    \n",
    "    new_str=\"\"\n",
    "    for item in range(len(string)-1,-1,-1):\n",
    "        new_str+=string[item]\n",
    "\n",
    "    return new_str\n",
    "\n",
    "s=input(\"Enter A string to reverse: \")\n",
    "print(f\"Your Original string- {s} and Reversed String- {reverse_string(s)}\")"
   ]
  },
  {
   "cell_type": "markdown",
   "id": "c29431fe",
   "metadata": {},
   "source": [
    "4. Develop a program that finds the factorial of a given number using a `for` loop.\n"
   ]
  },
  {
   "cell_type": "code",
   "execution_count": 12,
   "id": "965e0a7d",
   "metadata": {},
   "outputs": [
    {
     "name": "stdout",
     "output_type": "stream",
     "text": [
      "Enter a number to get its factorial value:- 6\n",
      "Factorial of 6 is- 720\n"
     ]
    }
   ],
   "source": [
    "def factorial(num):\n",
    "    '''\n",
    "    This Function takes integer value as an input and return its factorial  value\n",
    "    '''\n",
    "    if  num==0 or num==1:\n",
    "        return 1\n",
    "    else:\n",
    "        factor=1\n",
    "        \n",
    "        for item in range(1,num+1):\n",
    "            factor=factor*item\n",
    "        \n",
    "        return factor\n",
    "\n",
    "num=int(input(\"Enter a number to get its factorial value:- \"))\n",
    "\n",
    "print(f\"Factorial of {num} is- {factorial(num)}\")"
   ]
  },
  {
   "cell_type": "markdown",
   "id": "9ab0315a",
   "metadata": {},
   "source": [
    "5. Create a program to print the multiplication table of a given number using a `for` loop.\n"
   ]
  },
  {
   "cell_type": "code",
   "execution_count": 14,
   "id": "27bfc55f",
   "metadata": {},
   "outputs": [
    {
     "name": "stdout",
     "output_type": "stream",
     "text": [
      "Enter an integer value to print its multiplication table:- 5\n",
      "----------MULTIPLICATION TABLE----------\n",
      "5 * 1 = 5\n",
      "5 * 2 = 10\n",
      "5 * 3 = 15\n",
      "5 * 4 = 20\n",
      "5 * 5 = 25\n",
      "5 * 6 = 30\n",
      "5 * 7 = 35\n",
      "5 * 8 = 40\n",
      "5 * 9 = 45\n",
      "5 * 10 = 50\n"
     ]
    }
   ],
   "source": [
    "num=int(input(\"Enter an integer value to print its multiplication table:- \"))\n",
    "\n",
    "def multipli(num):\n",
    "    '''\n",
    "    THis Function print multiplication table of user given input\n",
    "    '''\n",
    "    print(\"MULTIPLICATION TABLE\".center(40,\"-\"))\n",
    "    for item in range(1,11):\n",
    "        print(f\"{num} * {item} = {num*item}\")\n",
    "        \n",
    "multipli(num)"
   ]
  },
  {
   "cell_type": "markdown",
   "id": "5f5208cd",
   "metadata": {},
   "source": [
    "6. Write a program that counts the number of even and odd numbers in a list using a `for` loop.\n"
   ]
  },
  {
   "cell_type": "code",
   "execution_count": 17,
   "id": "32e1af92",
   "metadata": {},
   "outputs": [
    {
     "name": "stdout",
     "output_type": "stream",
     "text": [
      "Number of odd numbers are- 4 and even numbers are 5 \n"
     ]
    }
   ],
   "source": [
    "def count_odd_even(lis):\n",
    "    '''\n",
    "    This Function returns the number of odd and even numbers in the given list\n",
    "    '''\n",
    "    codd,ceve=0,0 # initial values of both even and odd numbers are set to zero\n",
    "    \n",
    "    for item in lis:\n",
    "        if item%2==0: # checking even numbers\n",
    "            ceve+=1\n",
    "        elif item%2!=0: # checking odd numbers\n",
    "            codd+=1\n",
    "        else:\n",
    "            continue\n",
    "            \n",
    "    return ceve,codd\n",
    "\n",
    "lis=[1,3,2,4,8,5,19,16,18]\n",
    "\n",
    "even,odd=count_odd_even(lis)\n",
    "print(f\"Number of odd numbers are- {odd} and even numbers are {even} \")"
   ]
  },
  {
   "cell_type": "markdown",
   "id": "183f3bec",
   "metadata": {},
   "source": [
    "7. Develop a program that prints the squares of numbers from 1 to 5 using a `for` loop.\n"
   ]
  },
  {
   "cell_type": "code",
   "execution_count": 19,
   "id": "4b52c08e",
   "metadata": {},
   "outputs": [
    {
     "name": "stdout",
     "output_type": "stream",
     "text": [
      "___________Square Of numbers____________\n",
      "1^2 = 1\n",
      "2^2 = 4\n",
      "3^2 = 9\n",
      "4^2 = 16\n",
      "5^2 = 25\n"
     ]
    }
   ],
   "source": [
    "def squar():\n",
    "    '''\n",
    "    This Function return the square of numbers from 1 to 5\n",
    "    '''\n",
    "    print(\"Square Of numbers\".center(40,\"_\"))\n",
    "    for item in range(1,6):\n",
    "        print(f\"{item}^2 = {item**2}\")\n",
    "        \n",
    "squar()"
   ]
  },
  {
   "cell_type": "markdown",
   "id": "4c293ead",
   "metadata": {},
   "source": [
    "8. Create a program to find the length of a string without using the `len()` function.\n"
   ]
  },
  {
   "cell_type": "code",
   "execution_count": 21,
   "id": "4f8c81d5",
   "metadata": {},
   "outputs": [
    {
     "name": "stdout",
     "output_type": "stream",
     "text": [
      "Enter a String to find its length: Pwskills\n",
      "Length of Pwskills is: 8\n"
     ]
    }
   ],
   "source": [
    "def len_of_str(string):\n",
    "    '''\n",
    "    Returns the length of strings\n",
    "    '''\n",
    "    \n",
    "    lcount=0 # initial value of length is set to ZERO\n",
    "    \n",
    "    for item in string:\n",
    "        lcount+=1\n",
    "        \n",
    "    return lcount\n",
    "\n",
    "\n",
    "string=input(\"Enter a String to find its length: \")\n",
    "\n",
    "print(f\"Length of {string} is: {len_of_str(string)}\")"
   ]
  },
  {
   "cell_type": "markdown",
   "id": "5bcabde7",
   "metadata": {},
   "source": [
    "9. Write a program that calculates the average of a list of numbers using a `for` loop.\n"
   ]
  },
  {
   "cell_type": "code",
   "execution_count": 22,
   "id": "5c34e623",
   "metadata": {},
   "outputs": [
    {
     "name": "stdout",
     "output_type": "stream",
     "text": [
      "Average of all numbers in [1, 2, 3, 4, 5, 6, 7, 8, 9] is- 5.0\n"
     ]
    }
   ],
   "source": [
    "def avg_of_all_numbers_inlist(lis):\n",
    "    '''\n",
    "    This Function takes input as a list and return average of all numbers in that list\n",
    "    '''\n",
    "    summ,avg=0,0\n",
    "    for item in lis:\n",
    "        summ+=item\n",
    "        \n",
    "    avg=summ/len(lis)\n",
    "        \n",
    "    return avg\n",
    "\n",
    "lis=[1,2,3,4,5,6,7,8,9]\n",
    "\n",
    "print(f\"Average of all numbers in {lis} is- {avg_of_all_numbers_inlist(lis)}\")"
   ]
  },
  {
   "cell_type": "markdown",
   "id": "7a57cd0f",
   "metadata": {},
   "source": [
    "10. Develop a program that prints the first `n` Fibonacci numbers using a `for` loop.\n"
   ]
  },
  {
   "cell_type": "code",
   "execution_count": 31,
   "id": "984f5450",
   "metadata": {},
   "outputs": [
    {
     "name": "stdout",
     "output_type": "stream",
     "text": [
      "Enter how many terms you want in fibonacci seris: 9\n",
      "fibonacci series of first 9 numbers are 0 1 1 2 3 5 8 13 21 "
     ]
    }
   ],
   "source": [
    "def fibo(n):\n",
    "    '''\n",
    "    This Function return first n(user given input) fibonacci numbers\n",
    "    '''\n",
    "    a,b=0,1\n",
    "    \n",
    "    print(f\"fibonacci series of first {n} numbers are {a} {b}\",end=\" \")\n",
    "    \n",
    "    for i in range(2,n):\n",
    "        c=a+b\n",
    "        a=b\n",
    "        b=c\n",
    "        print(c,end=\" \")\n",
    "    \n",
    "    \n",
    "n=int(input(\"Enter how many terms you want in fibonacci seris: \"))\n",
    "\n",
    "fibo(n)\n",
    "    "
   ]
  },
  {
   "cell_type": "markdown",
   "id": "dee51766",
   "metadata": {},
   "source": [
    "# Intermediate Level:\n"
   ]
  },
  {
   "cell_type": "markdown",
   "id": "7861f2e3",
   "metadata": {},
   "source": [
    "11. Write a program to check if a given list contains any duplicates using a `for` loop.\n"
   ]
  },
  {
   "cell_type": "code",
   "execution_count": 33,
   "id": "d854c237",
   "metadata": {},
   "outputs": [
    {
     "name": "stdout",
     "output_type": "stream",
     "text": [
      "Duplicate Item list\n",
      "2 present in [1, 2, 3, 4, 2, 4, 2, 3, 44, 22, 55, 33, 44]- 3 times\n",
      "3 present in [1, 2, 3, 4, 2, 4, 2, 3, 44, 22, 55, 33, 44]- 2 times\n",
      "4 present in [1, 2, 3, 4, 2, 4, 2, 3, 44, 22, 55, 33, 44]- 2 times\n",
      "44 present in [1, 2, 3, 4, 2, 4, 2, 3, 44, 22, 55, 33, 44]- 2 times\n"
     ]
    }
   ],
   "source": [
    "def duplicat_list(lis):\n",
    "    '''\n",
    "    This function return the items of list that are duplicated\n",
    "    '''\n",
    "    print(\"Duplicate Item list\")\n",
    "    for item in set(lis):\n",
    "        if lis.count(item)>1:\n",
    "            print(f\"{item} present in {lis}- {lis.count(item)} times\")\n",
    "        else:\n",
    "            continue\n",
    "            \n",
    "            \n",
    "lis=[1,2,3,4,2,4,2,3,44,22,55,33,44]\n",
    "\n",
    "duplicat_list(lis)"
   ]
  },
  {
   "cell_type": "markdown",
   "id": "b8b42c7d",
   "metadata": {},
   "source": [
    "12. Create a program that prints the prime numbers in a given range using a `for` loop.\n"
   ]
  },
  {
   "cell_type": "code",
   "execution_count": 38,
   "id": "4ad00e06",
   "metadata": {},
   "outputs": [
    {
     "name": "stdout",
     "output_type": "stream",
     "text": [
      "Enter The Starting position of prime numbers: 13\n",
      "Enter The Ending position of prime numbers: 53\n",
      "Prime numbers in range 13- 53 are: \n",
      "13\n",
      "17\n",
      "19\n",
      "23\n",
      "29\n",
      "31\n",
      "37\n",
      "41\n",
      "43\n",
      "47\n",
      "53\n"
     ]
    }
   ],
   "source": [
    "def prime_in_range(lower,upper):\n",
    "    '''\n",
    "    This function return the prime numbers in a user defined range \n",
    "    \n",
    "    '''\n",
    "    print(f\"Prime numbers in range {lower}- {upper} are: \")\n",
    "    \n",
    "    for item in range(lower,upper+1):\n",
    "        \n",
    "        for inner in range(2,item-1): \n",
    "            if item%inner==0: \n",
    "                break\n",
    "        else:\n",
    "            print(item)\n",
    "            \n",
    "            \n",
    "lower=int(input(\"Enter The Starting position of prime numbers: \"))\n",
    "upper=int(input(\"Enter The Ending position of prime numbers: \"))\n",
    "\n",
    "prime_in_range(lower,upper)\n",
    "            "
   ]
  },
  {
   "cell_type": "markdown",
   "id": "c1d67597",
   "metadata": {},
   "source": [
    "13. Develop a program that counts the number of vowels in a string using a `for` loop.\n"
   ]
  },
  {
   "cell_type": "code",
   "execution_count": 40,
   "id": "77715375",
   "metadata": {},
   "outputs": [
    {
     "name": "stdout",
     "output_type": "stream",
     "text": [
      "Enter a string to find no of vowels it has: IneuronPwskills\n",
      "No of vowels in IneuronPwskills are 5\n"
     ]
    }
   ],
   "source": [
    "def num_of_vowels_str(string):\n",
    "    '''\n",
    "    This function return the no of vowels in a string\n",
    "    '''\n",
    "    no_vowel=0\n",
    "    \n",
    "    for item in string:\n",
    "        if item.islower()==True:\n",
    "            if item in ['a','e','i','o','u']:\n",
    "                no_vowel+=1\n",
    "        elif item.isupper()==True:\n",
    "            if item in ['A','E','I','O','U']:\n",
    "                no_vowel+=1\n",
    "                \n",
    "    else:\n",
    "        return no_vowel\n",
    "    \n",
    "string=input(\"Enter a string to find no of vowels it has: \")\n",
    "\n",
    "print(f\"No of vowels in {string} are {num_of_vowels_str(string)}\")"
   ]
  },
  {
   "cell_type": "markdown",
   "id": "43f64e0c",
   "metadata": {},
   "source": [
    "14. Write a program to find the maximum element in a 2D list using a nested `for` loop.\n"
   ]
  },
  {
   "cell_type": "code",
   "execution_count": 42,
   "id": "a588524e",
   "metadata": {},
   "outputs": [
    {
     "name": "stdout",
     "output_type": "stream",
     "text": [
      "Maximum element in [[2, 3, 4, 5, 6], [7, 89, 3], [0, 3, 2]] is 89\n"
     ]
    }
   ],
   "source": [
    "def max_element_2D_list(lis):\n",
    "    '''\n",
    "    Return the maximum element in  2D list\n",
    "    '''\n",
    "    l=[]#blank list for flatten the element first\n",
    "    \n",
    "    for outer in lis:\n",
    "        for item in outer:\n",
    "            l.append(item)\n",
    "     \n",
    "    return max(l)\n",
    "\n",
    "lis=[[2,3,4,5,6],[7,89,3],[0,3,2]]\n",
    "\n",
    "print(f\"Maximum element in {lis} is {max_element_2D_list(lis)}\")\n"
   ]
  },
  {
   "cell_type": "markdown",
   "id": "40eff966",
   "metadata": {},
   "source": [
    "15. Create a program that removes all occurrences of a specific element from a list using a `for` loop.\n"
   ]
  },
  {
   "cell_type": "code",
   "execution_count": 53,
   "id": "5e739238",
   "metadata": {},
   "outputs": [
    {
     "name": "stdout",
     "output_type": "stream",
     "text": [
      "Enter an element you want to remove all the occurrences from the list:  2\n",
      "List Before removal of 2- [1, 2, 3, 2, 1, 6, 4, 1, 4, 7, 8, 0, 4, 2, 3, 4]\n",
      "List After removal of 2- [1, 3, 1, 6, 4, 1, 4, 7, 8, 0, 4, 3, 4]\n"
     ]
    }
   ],
   "source": [
    "def remove_all_occurrence(element,lis):\n",
    "    '''\n",
    "    This function remove all occurrences of a specific element in agiven list\n",
    "    '''\n",
    "    count_element=lis.count(element)\n",
    "    \n",
    "\n",
    "    for i in range(count_element,0,-1):\n",
    "        lis.remove(element)\n",
    "        \n",
    "    else:\n",
    "        return lis\n",
    "\n",
    "    \n",
    "    \n",
    "lis=[1,2,3,2,1,6,4,1,4,7,8,0,4,2,3,4]    \n",
    "\n",
    "element=int(input(\"Enter an element you want to remove all the occurrences from the list:  \"))\n",
    "\n",
    "\n",
    "\n",
    "if lis.count(element)!=0:\n",
    "    print(f\"List Before removal of {element}- {lis}\")\n",
    "    print(f\"List After removal of {element}- {remove_all_occurrence(element,lis)}\")\n",
    "else:\n",
    "    print(f\"{element} not present in {lis}\")\n"
   ]
  },
  {
   "cell_type": "markdown",
   "id": "a85fe798",
   "metadata": {},
   "source": [
    "16. Develop a program that generates a multiplication table for numbers from 1 to 5 using a nested `for` loop.\n"
   ]
  },
  {
   "cell_type": "code",
   "execution_count": 68,
   "id": "1e6a4289",
   "metadata": {},
   "outputs": [
    {
     "name": "stdout",
     "output_type": "stream",
     "text": [
      "________________________________________Multiplication Table________________________________________\n",
      "1 * 1 = 1 ||1 * 2 = 2 ||1 * 3 = 3 ||1 * 4 = 4 ||1 * 5 = 5 ||1 * 6 = 6 ||1 * 7 = 7 ||1 * 8 = 8 ||1 * 9 = 9 ||1 * 10 = 10 ||\n",
      "2 * 1 = 2 ||2 * 2 = 4 ||2 * 3 = 6 ||2 * 4 = 8 ||2 * 5 = 10 ||2 * 6 = 12 ||2 * 7 = 14 ||2 * 8 = 16 ||2 * 9 = 18 ||2 * 10 = 20 ||\n",
      "3 * 1 = 3 ||3 * 2 = 6 ||3 * 3 = 9 ||3 * 4 = 12 ||3 * 5 = 15 ||3 * 6 = 18 ||3 * 7 = 21 ||3 * 8 = 24 ||3 * 9 = 27 ||3 * 10 = 30 ||\n",
      "4 * 1 = 4 ||4 * 2 = 8 ||4 * 3 = 12 ||4 * 4 = 16 ||4 * 5 = 20 ||4 * 6 = 24 ||4 * 7 = 28 ||4 * 8 = 32 ||4 * 9 = 36 ||4 * 10 = 40 ||\n",
      "5 * 1 = 5 ||5 * 2 = 10 ||5 * 3 = 15 ||5 * 4 = 20 ||5 * 5 = 25 ||5 * 6 = 30 ||5 * 7 = 35 ||5 * 8 = 40 ||5 * 9 = 45 ||5 * 10 = 50 ||\n"
     ]
    }
   ],
   "source": [
    "def muliplication_table():\n",
    "    '''\n",
    "    This function print multiplication table of 1 to 5\n",
    "    \n",
    "    '''\n",
    "    print(\"Multiplication Table\".center(100,'_'))\n",
    "    \n",
    "    for i in range(1,6):\n",
    "        for j in range(1,11):\n",
    "            print(f\"{i} * {j} = {i*j}\",end=\" ||\")\n",
    "        \n",
    "        print()\n",
    "\n",
    "            \n",
    "muliplication_table()\n",
    "            \n",
    "            "
   ]
  },
  {
   "cell_type": "markdown",
   "id": "6d223101",
   "metadata": {},
   "source": [
    "17. Write a program that converts a list of Fahrenheit temperatures to Celsius using a `for` loop.\n"
   ]
  },
  {
   "cell_type": "code",
   "execution_count": 70,
   "id": "9ac647a6",
   "metadata": {},
   "outputs": [
    {
     "name": "stdout",
     "output_type": "stream",
     "text": [
      "List of fahrenheit temperatures- [104, 102, 99, 94, 96, 114]\n",
      "After Converting to celsius temperature [40.0, 38.89, 37.22, 34.44, 35.56, 45.56]\n"
     ]
    }
   ],
   "source": [
    "def faren_to_celci(flis):\n",
    "    '''\n",
    "    This function return the list of celci after converting from fahrenheit\n",
    "    \n",
    "    '''\n",
    "    clis=[] # blank list of celcius temperature\n",
    "    c=0\n",
    "    \n",
    "    for item in flis:\n",
    "        c=((item-32)/9)*5 # converting to celsius temperature\n",
    "        clis.append(round(c,2))\n",
    "        \n",
    "    return clis\n",
    "\n",
    "flis=[104,102,99,94,96,114]\n",
    "\n",
    "print(f\"List of fahrenheit temperatures- {flis}\")\n",
    "print(f\"After Converting to celsius temperature {faren_to_celci(flis)}\")"
   ]
  },
  {
   "cell_type": "markdown",
   "id": "b97946c2",
   "metadata": {},
   "source": [
    "18. Create a program to print the common elements from two lists using a `for` loop.\n"
   ]
  },
  {
   "cell_type": "code",
   "execution_count": 72,
   "id": "a70c0b4a",
   "metadata": {},
   "outputs": [
    {
     "name": "stdout",
     "output_type": "stream",
     "text": [
      "Common element in both the lists are- [3, 4, 5]\n"
     ]
    }
   ],
   "source": [
    "def common_element_two_list(lis1,lis2):\n",
    "    '''\n",
    "    THis function return the element that are common to both the elements\n",
    "    '''\n",
    "    common_elments=[]\n",
    "    \n",
    "    for item in lis1:\n",
    "        if item in lis2:\n",
    "            common_elments.append(item)\n",
    "    else:\n",
    "        return common_elments\n",
    "    \n",
    "lis1=[1,2,3,4,5]\n",
    "lis2=[3,4,5,6,9]\n",
    "\n",
    "print(f\"Common element in both the lists are- {common_element_two_list(lis1,lis2)}\")"
   ]
  },
  {
   "cell_type": "markdown",
   "id": "e783de66",
   "metadata": {},
   "source": [
    "19. Develop a program that prints the pattern of right-angled triangles using a `for` loop. Use ‘*’ to draw the\n",
    "pattern\n"
   ]
  },
  {
   "cell_type": "code",
   "execution_count": 74,
   "id": "007ffdb4",
   "metadata": {},
   "outputs": [
    {
     "name": "stdout",
     "output_type": "stream",
     "text": [
      "Enter The length of the right angle triangle: 7\n",
      "* \n",
      "* * \n",
      "* * * \n",
      "* * * * \n",
      "* * * * * \n",
      "* * * * * * \n",
      "* * * * * * * \n"
     ]
    }
   ],
   "source": [
    "def right_angle_triangle(length):\n",
    "    '''\n",
    "    This function prints right angle triangle of  given length \n",
    "    '''\n",
    "    for item in range(1,length+1):\n",
    "        for inner in range(item):\n",
    "            print(\"*\",end=\" \")\n",
    "        print()\n",
    "        \n",
    "length=int(input(\"Enter The length of the right angle triangle: \"))\n",
    "\n",
    "right_angle_triangle(length)"
   ]
  },
  {
   "cell_type": "markdown",
   "id": "877809a8",
   "metadata": {},
   "source": [
    "20. Write a program to find the greatest common divisor (GCD) of two numbers using a `for` loop.\n",
    "\n"
   ]
  },
  {
   "cell_type": "code",
   "execution_count": 76,
   "id": "d514b6e5",
   "metadata": {},
   "outputs": [
    {
     "name": "stdout",
     "output_type": "stream",
     "text": [
      "Enter the 1st number: 48\n",
      "Enter the 2nd number: 60\n",
      "Gcd of 48 and 60 is:- 12\n"
     ]
    }
   ],
   "source": [
    "num1=int(input(\"Enter the 1st number: \"))\n",
    "num2=int(input(\"Enter the 2nd number: \"))\n",
    "\n",
    "def gcd(num1,num2):\n",
    "    '''\n",
    "    This function return the Gcd of two numbers\n",
    "    '''\n",
    "    gcd_list=[]\n",
    "    \n",
    "    for i in range(1,min(num1,num2)+1):\n",
    "        if num1%i==0 and num2%i==0:\n",
    "            gcd_list.append(i)\n",
    "            \n",
    "    else:\n",
    "        return max(gcd_list)\n",
    "    \n",
    "print(f\"Gcd of {num1} and {num2} is:- {gcd(num1,num2)}\")"
   ]
  },
  {
   "cell_type": "markdown",
   "id": "c91ba651",
   "metadata": {},
   "source": [
    "# Advanced Level:\n"
   ]
  },
  {
   "cell_type": "markdown",
   "id": "c2a12bda",
   "metadata": {},
   "source": [
    "21. Create a program that calculates the sum of the digits of numbers in a list using a list comprehension.\n"
   ]
  },
  {
   "cell_type": "code",
   "execution_count": 79,
   "id": "810988ac",
   "metadata": {},
   "outputs": [
    {
     "name": "stdout",
     "output_type": "stream",
     "text": [
      "List with numbers-  [11, 22, 24, 56, 295, 356]\n",
      "Sum of the digits of numbers in the list [2, 4, 6, 11, 16, 14]\n"
     ]
    }
   ],
   "source": [
    "def sum_of_digits(num):\n",
    "    summ=0\n",
    "    for item in str(num):\n",
    "        summ=summ+int(item)\n",
    "        \n",
    "    return summ\n",
    "\n",
    "\n",
    "list_of_numbers=[11,22,24,56,295,356]\n",
    "    \n",
    "sum_digit=[sum_of_digits(item) for item in list_of_numbers]\n",
    "\n",
    "print(\"List with numbers- \",list_of_numbers)\n",
    "print(\"Sum of the digits of numbers in the list\",sum_digit)"
   ]
  },
  {
   "cell_type": "markdown",
   "id": "e36ca441",
   "metadata": {},
   "source": [
    "22. Write a program to find the prime factors of a given number using a `for` loop and list comprehension.\n"
   ]
  },
  {
   "cell_type": "code",
   "execution_count": 93,
   "id": "ed1c5731",
   "metadata": {},
   "outputs": [
    {
     "name": "stdout",
     "output_type": "stream",
     "text": [
      "Enter a number to find its prime factors: 33\n",
      "Prime Factors are:- [1, 3, 11]\n"
     ]
    }
   ],
   "source": [
    "n=int(input(\"Enter a number to find its prime factors: \"))\n",
    "\n",
    "def prime(element): # to find prime factors\n",
    "    for item in range(2,element-1):\n",
    "        if element%item==0:\n",
    "            break\n",
    "    else:\n",
    "        return element\n",
    "\n",
    "\n",
    "def remove_None_occurrence(element,lis): #remove all None occurrrences\n",
    "    '''\n",
    "    This function remove all occurrences of None element in a given list\n",
    "    '''\n",
    "    count_element=lis.count(element)\n",
    "    \n",
    "\n",
    "    for i in range(count_element,0,-1):\n",
    "        lis.remove(element)\n",
    "        \n",
    "    else:\n",
    "        return lis\n",
    "\n",
    "\n",
    "prime_factors=[prime(i) for i in range(1,n+1) if n%i==0] #Usinf list comprehension method\n",
    "\n",
    "print(f\"Prime Factors are:- {remove_None_occurrence(None,prime_factors)}\")"
   ]
  },
  {
   "cell_type": "markdown",
   "id": "fe274223",
   "metadata": {},
   "source": [
    "23. Develop a program that extracts unique elements from a list and stores them in a new list using a list\n",
    "comprehension.\n"
   ]
  },
  {
   "cell_type": "code",
   "execution_count": 95,
   "id": "cd05428b",
   "metadata": {},
   "outputs": [
    {
     "name": "stdout",
     "output_type": "stream",
     "text": [
      "unique elements in ['a', 'b', 'c', 'd', 'a', 'b', 'e', 'f', 'g'] are: ['d', 'e', 'c', 'g', 'f']\n"
     ]
    }
   ],
   "source": [
    "li=['a','b','c','d','a','b','e','f','g']\n",
    "\n",
    "unique_elements=[item for item in set(li) if li.count(item)==1]\n",
    "\n",
    "print(f\"unique elements in {li} are: {unique_elements}\")"
   ]
  },
  {
   "cell_type": "markdown",
   "id": "5f9b8290",
   "metadata": {},
   "source": [
    "24. Create a program that generates a list of all palindromic numbers up to a specified limit using a list\n",
    "comprehension.\n"
   ]
  },
  {
   "cell_type": "code",
   "execution_count": 98,
   "id": "61cdcdbc",
   "metadata": {},
   "outputs": [
    {
     "name": "stdout",
     "output_type": "stream",
     "text": [
      "Enter the upper limit upto which you want to find palindromic number: 300\n",
      "[1, 2, 3, 4, 5, 6, 7, 8, 9, 11, 22, 33, 44, 55, 66, 77, 88, 99, 101, 111, 121, 131, 141, 151, 161, 171, 181, 191, 202, 212, 222, 232, 242, 252, 262, 272, 282, 292]\n"
     ]
    }
   ],
   "source": [
    "upper=int(input(\"Enter the upper limit upto which you want to find palindromic number: \"))\n",
    "\n",
    "palindrome_list=[item for item in range(1,upper) if str(item)==(str(item))[::-1]]\n",
    "\n",
    "print(palindrome_list)"
   ]
  },
  {
   "cell_type": "markdown",
   "id": "dcd37676",
   "metadata": {},
   "source": [
    "25. Write a program to flatten a nested list using list comprehension.\n"
   ]
  },
  {
   "cell_type": "code",
   "execution_count": 100,
   "id": "b9d8ec85",
   "metadata": {},
   "outputs": [
    {
     "name": "stdout",
     "output_type": "stream",
     "text": [
      "Original list: [[1, 2, 3], [4, 5, 7], [8, 9, 6]]\n",
      "After flatten: [1, 2, 3, 4, 5, 7, 8, 9, 6]\n"
     ]
    }
   ],
   "source": [
    "li=[[1,2,3],[4,5,7],[8,9,6]]\n",
    "flatten=[inner for item in li for inner in item ]\n",
    "\n",
    "print(f\"Original list: {li}\")\n",
    "print(f\"After flatten: {flatten }\")\n"
   ]
  },
  {
   "cell_type": "markdown",
   "id": "0b3a9263",
   "metadata": {},
   "source": [
    "26. Develop a program that computes the sum of even and odd numbers in a list separately using list\n",
    "comprehension.\n"
   ]
  },
  {
   "cell_type": "code",
   "execution_count": 104,
   "id": "45fd2b60",
   "metadata": {},
   "outputs": [
    {
     "name": "stdout",
     "output_type": "stream",
     "text": [
      "even numbers in the list- [2, 4, 6, 8, 10] \n",
      "Sum of even numbers in the list- 30 \n",
      "odd numbers in the list- [1, 3, 5, 7, 9] \n",
      "Sum of odd numbers in the list- 25 \n"
     ]
    }
   ],
   "source": [
    "l=[1,2,3,4,5,6,7,8,9,10]\n",
    "\n",
    "even_list=[item for item in l if item%2==0]\n",
    "\n",
    "odd_list=[item for item in l if item%2!=0]\n",
    "\n",
    "print(f\"even numbers in the list- {even_list} \")\n",
    "print(f\"Sum of even numbers in the list- {sum(even_list)} \")\n",
    "\n",
    "print(f\"odd numbers in the list- {odd_list} \")\n",
    "print(f\"Sum of odd numbers in the list- {sum(odd_list)} \")"
   ]
  },
  {
   "cell_type": "markdown",
   "id": "6051dc3a",
   "metadata": {},
   "source": [
    "27. Create a program that generates a list of squares of odd numbers between 1 and 10 using list\n",
    "comprehension.\n"
   ]
  },
  {
   "cell_type": "code",
   "execution_count": 105,
   "id": "5285abe1",
   "metadata": {},
   "outputs": [
    {
     "name": "stdout",
     "output_type": "stream",
     "text": [
      "List of square of odd numbers- [1, 9, 25, 49, 81]\n"
     ]
    }
   ],
   "source": [
    "square_odd=[ item**2 for item in range(1,10) if item%2!=0]\n",
    "\n",
    "print(f\"List of square of odd numbers- {square_odd}\")"
   ]
  },
  {
   "cell_type": "markdown",
   "id": "a3974485",
   "metadata": {},
   "source": [
    "28. Write a program that combines two lists into a dictionary using list comprehension.\n"
   ]
  },
  {
   "cell_type": "code",
   "execution_count": 111,
   "id": "8a126af3",
   "metadata": {},
   "outputs": [
    {
     "name": "stdout",
     "output_type": "stream",
     "text": [
      "Key list ['K1', 'K2', 'K3']\n",
      "value list ['V1', 'V2', 'V3']\n",
      "After Cobining Two list Dictionary is- {'K1': 'V1', 'K2': 'V2', 'K3': 'V3'}\n"
     ]
    }
   ],
   "source": [
    "key_list=['K1','K2','K3']\n",
    "val_list=['V1','V2','V3']\n",
    "\n",
    "diction={key:val for key,val in zip(key_list,val_list)}\n",
    "\n",
    "\n",
    "print(f\"Key list {key_list}\")\n",
    "print(f\"value list {val_list}\")\n",
    "print(f\"After Cobining Two list Dictionary is- {diction}\")"
   ]
  },
  {
   "cell_type": "markdown",
   "id": "228cccf3",
   "metadata": {},
   "source": [
    "29. Develop a program that extracts the vowels from a string and stores them in a list using list comprehension.\n"
   ]
  },
  {
   "cell_type": "code",
   "execution_count": 112,
   "id": "a3dfded5",
   "metadata": {},
   "outputs": [
    {
     "name": "stdout",
     "output_type": "stream",
     "text": [
      "Original String-  PwskillsIneuron\n",
      "Vowels in string is- ['i', 'I', 'e', 'u', 'o']\n"
     ]
    }
   ],
   "source": [
    "string=\"PwskillsIneuron\"\n",
    "\n",
    "vowel_list=['A','E','I','O','U']\n",
    "\n",
    "vowel_in_string=[item for item in string if item.upper() in vowel_list]\n",
    "\n",
    "print(\"Original String- \",string)\n",
    "print(f\"Vowels in string is- {vowel_in_string}\")"
   ]
  },
  {
   "cell_type": "markdown",
   "id": "dba88c49",
   "metadata": {},
   "source": [
    "30. Create a program that removes all non-numeric characters from a list of strings using list comprehension.\n"
   ]
  },
  {
   "cell_type": "code",
   "execution_count": 117,
   "id": "69d8cd9d",
   "metadata": {},
   "outputs": [
    {
     "name": "stdout",
     "output_type": "stream",
     "text": [
      "Numeric Character list- [1, 2, 4, 6, 9, 3, 5]\n"
     ]
    }
   ],
   "source": [
    "li=[1,2,4,6,'Pwskills','Ineuron','Data Science',9,3,5]\n",
    "\n",
    "numeric_list=[item for item in li if type(item)!=str]\n",
    "\n",
    "print(f\"Numeric Character list- {numeric_list}\")"
   ]
  },
  {
   "cell_type": "markdown",
   "id": "50bb942d",
   "metadata": {},
   "source": [
    "# Challenge Level:\n"
   ]
  },
  {
   "cell_type": "markdown",
   "id": "42bdc96c",
   "metadata": {},
   "source": [
    "39. Develop a program that calculates the sum of the digits of numbers from 1 to 1000 using list comprehension.\n"
   ]
  },
  {
   "cell_type": "code",
   "execution_count": 37,
   "id": "779f7dbf",
   "metadata": {},
   "outputs": [
    {
     "name": "stdout",
     "output_type": "stream",
     "text": [
      "Sum of Digits between range 1 to 1000- \n",
      "[1, 2, 3, 4, 5, 6, 7, 8, 9, 1, 2, 3, 4, 5, 6, 7, 8, 9, 10, 2, 3, 4, 5, 6, 7, 8, 9, 10, 11, 3, 4, 5, 6, 7, 8, 9, 10, 11, 12, 4, 5, 6, 7, 8, 9, 10, 11, 12, 13, 5, 6, 7, 8, 9, 10, 11, 12, 13, 14, 6, 7, 8, 9, 10, 11, 12, 13, 14, 15, 7, 8, 9, 10, 11, 12, 13, 14, 15, 16, 8, 9, 10, 11, 12, 13, 14, 15, 16, 17, 9, 10, 11, 12, 13, 14, 15, 16, 17, 18, 1, 2, 3, 4, 5, 6, 7, 8, 9, 10, 2, 3, 4, 5, 6, 7, 8, 9, 10, 11, 3, 4, 5, 6, 7, 8, 9, 10, 11, 12, 4, 5, 6, 7, 8, 9, 10, 11, 12, 13, 5, 6, 7, 8, 9, 10, 11, 12, 13, 14, 6, 7, 8, 9, 10, 11, 12, 13, 14, 15, 7, 8, 9, 10, 11, 12, 13, 14, 15, 16, 8, 9, 10, 11, 12, 13, 14, 15, 16, 17, 9, 10, 11, 12, 13, 14, 15, 16, 17, 18, 10, 11, 12, 13, 14, 15, 16, 17, 18, 19, 2, 3, 4, 5, 6, 7, 8, 9, 10, 11, 3, 4, 5, 6, 7, 8, 9, 10, 11, 12, 4, 5, 6, 7, 8, 9, 10, 11, 12, 13, 5, 6, 7, 8, 9, 10, 11, 12, 13, 14, 6, 7, 8, 9, 10, 11, 12, 13, 14, 15, 7, 8, 9, 10, 11, 12, 13, 14, 15, 16, 8, 9, 10, 11, 12, 13, 14, 15, 16, 17, 9, 10, 11, 12, 13, 14, 15, 16, 17, 18, 10, 11, 12, 13, 14, 15, 16, 17, 18, 19, 11, 12, 13, 14, 15, 16, 17, 18, 19, 20, 3, 4, 5, 6, 7, 8, 9, 10, 11, 12, 4, 5, 6, 7, 8, 9, 10, 11, 12, 13, 5, 6, 7, 8, 9, 10, 11, 12, 13, 14, 6, 7, 8, 9, 10, 11, 12, 13, 14, 15, 7, 8, 9, 10, 11, 12, 13, 14, 15, 16, 8, 9, 10, 11, 12, 13, 14, 15, 16, 17, 9, 10, 11, 12, 13, 14, 15, 16, 17, 18, 10, 11, 12, 13, 14, 15, 16, 17, 18, 19, 11, 12, 13, 14, 15, 16, 17, 18, 19, 20, 12, 13, 14, 15, 16, 17, 18, 19, 20, 21, 4, 5, 6, 7, 8, 9, 10, 11, 12, 13, 5, 6, 7, 8, 9, 10, 11, 12, 13, 14, 6, 7, 8, 9, 10, 11, 12, 13, 14, 15, 7, 8, 9, 10, 11, 12, 13, 14, 15, 16, 8, 9, 10, 11, 12, 13, 14, 15, 16, 17, 9, 10, 11, 12, 13, 14, 15, 16, 17, 18, 10, 11, 12, 13, 14, 15, 16, 17, 18, 19, 11, 12, 13, 14, 15, 16, 17, 18, 19, 20, 12, 13, 14, 15, 16, 17, 18, 19, 20, 21, 13, 14, 15, 16, 17, 18, 19, 20, 21, 22, 5, 6, 7, 8, 9, 10, 11, 12, 13, 14, 6, 7, 8, 9, 10, 11, 12, 13, 14, 15, 7, 8, 9, 10, 11, 12, 13, 14, 15, 16, 8, 9, 10, 11, 12, 13, 14, 15, 16, 17, 9, 10, 11, 12, 13, 14, 15, 16, 17, 18, 10, 11, 12, 13, 14, 15, 16, 17, 18, 19, 11, 12, 13, 14, 15, 16, 17, 18, 19, 20, 12, 13, 14, 15, 16, 17, 18, 19, 20, 21, 13, 14, 15, 16, 17, 18, 19, 20, 21, 22, 14, 15, 16, 17, 18, 19, 20, 21, 22, 23, 6, 7, 8, 9, 10, 11, 12, 13, 14, 15, 7, 8, 9, 10, 11, 12, 13, 14, 15, 16, 8, 9, 10, 11, 12, 13, 14, 15, 16, 17, 9, 10, 11, 12, 13, 14, 15, 16, 17, 18, 10, 11, 12, 13, 14, 15, 16, 17, 18, 19, 11, 12, 13, 14, 15, 16, 17, 18, 19, 20, 12, 13, 14, 15, 16, 17, 18, 19, 20, 21, 13, 14, 15, 16, 17, 18, 19, 20, 21, 22, 14, 15, 16, 17, 18, 19, 20, 21, 22, 23, 15, 16, 17, 18, 19, 20, 21, 22, 23, 24, 7, 8, 9, 10, 11, 12, 13, 14, 15, 16, 8, 9, 10, 11, 12, 13, 14, 15, 16, 17, 9, 10, 11, 12, 13, 14, 15, 16, 17, 18, 10, 11, 12, 13, 14, 15, 16, 17, 18, 19, 11, 12, 13, 14, 15, 16, 17, 18, 19, 20, 12, 13, 14, 15, 16, 17, 18, 19, 20, 21, 13, 14, 15, 16, 17, 18, 19, 20, 21, 22, 14, 15, 16, 17, 18, 19, 20, 21, 22, 23, 15, 16, 17, 18, 19, 20, 21, 22, 23, 24, 16, 17, 18, 19, 20, 21, 22, 23, 24, 25, 8, 9, 10, 11, 12, 13, 14, 15, 16, 17, 9, 10, 11, 12, 13, 14, 15, 16, 17, 18, 10, 11, 12, 13, 14, 15, 16, 17, 18, 19, 11, 12, 13, 14, 15, 16, 17, 18, 19, 20, 12, 13, 14, 15, 16, 17, 18, 19, 20, 21, 13, 14, 15, 16, 17, 18, 19, 20, 21, 22, 14, 15, 16, 17, 18, 19, 20, 21, 22, 23, 15, 16, 17, 18, 19, 20, 21, 22, 23, 24, 16, 17, 18, 19, 20, 21, 22, 23, 24, 25, 17, 18, 19, 20, 21, 22, 23, 24, 25, 26, 9, 10, 11, 12, 13, 14, 15, 16, 17, 18, 10, 11, 12, 13, 14, 15, 16, 17, 18, 19, 11, 12, 13, 14, 15, 16, 17, 18, 19, 20, 12, 13, 14, 15, 16, 17, 18, 19, 20, 21, 13, 14, 15, 16, 17, 18, 19, 20, 21, 22, 14, 15, 16, 17, 18, 19, 20, 21, 22, 23, 15, 16, 17, 18, 19, 20, 21, 22, 23, 24, 16, 17, 18, 19, 20, 21, 22, 23, 24, 25, 17, 18, 19, 20, 21, 22, 23, 24, 25, 26, 18, 19, 20, 21, 22, 23, 24, 25, 26, 27, 1]\n"
     ]
    }
   ],
   "source": [
    "all_num=[i for i in range(1,1001)]\n",
    "\n",
    "print(\"Sum of Digits between range 1 to 1000- \")\n",
    "print([sum([int(x) for x in str(item)]) for item in all_num ])"
   ]
  },
  {
   "cell_type": "markdown",
   "id": "1fdd4b1d",
   "metadata": {},
   "source": [
    "\n"
   ]
  },
  {
   "cell_type": "markdown",
   "id": "b92c74dd",
   "metadata": {},
   "source": [
    "33. Develop a program that generates a list of all possible combinations of two lists using list comprehension.\n"
   ]
  },
  {
   "cell_type": "code",
   "execution_count": 67,
   "id": "eff5fcce",
   "metadata": {},
   "outputs": [
    {
     "name": "stdout",
     "output_type": "stream",
     "text": [
      "All possible combinations are: [((1, 9), (9, 1)), ((1, 8), (8, 1)), ((1, 7), (7, 1)), ((2, 9), (9, 2)), ((2, 8), (8, 2)), ((2, 7), (7, 2)), ((3, 9), (9, 3)), ((3, 8), (8, 3)), ((3, 7), (7, 3))]\n"
     ]
    }
   ],
   "source": [
    "l1=[1,2,3] #list1\n",
    "l2=[9,8,7] #list2\n",
    "\n",
    "combi=[(i,j)for i in l1 for j in l2]\n",
    "\n",
    "possible_cobinatinon=[(i,i[::-1]) for i in combi]\n",
    "\n",
    "print(f\"All possible combinations are: {possible_cobinatinon}\")"
   ]
  },
  {
   "cell_type": "markdown",
   "id": "0f191b40",
   "metadata": {},
   "source": [
    "37. Write a program that finds the longest word in a sentence using list comprehension.\n"
   ]
  },
  {
   "cell_type": "code",
   "execution_count": 74,
   "id": "ac61ac34",
   "metadata": {},
   "outputs": [
    {
     "data": {
      "text/plain": [
       "['comprehension']"
      ]
     },
     "execution_count": 74,
     "metadata": {},
     "output_type": "execute_result"
    }
   ],
   "source": [
    "Sentence=\"Currently working On list comprehension under for loop assignment \"\n",
    "\n",
    "length=[len(item) for item in Sentence.split()] # counting the length of each word\n",
    "\n",
    "[item[0] for item in zip(Sentence.split(),length) if item[1]==max(length)]"
   ]
  },
  {
   "cell_type": "markdown",
   "id": "b7d40225",
   "metadata": {},
   "source": [
    "36. Develop a program that calculates the sum of the digits of a factorial of numbers from 1 to 5 using list\n",
    "comprehension.\n",
    "\n"
   ]
  },
  {
   "cell_type": "code",
   "execution_count": 82,
   "id": "d4e63cba",
   "metadata": {},
   "outputs": [
    {
     "name": "stdout",
     "output_type": "stream",
     "text": [
      "Factorial of 1 to 5 : [1, 2, 6, 24, 120]\n",
      "Sum of digits of factorials are: [1, 2, 6, 6, 3]\n"
     ]
    }
   ],
   "source": [
    "def factr(n):\n",
    "    factor=1\n",
    "    for i in range(1,n+1):\n",
    "        factor=factor*i\n",
    "    return factor\n",
    "\n",
    "\n",
    "factorial=[factr(i) for i in range(1,6)]\n",
    "\n",
    "print(f\"Factorial of 1 to 5 : {factorial}\")\n",
    "\n",
    "sum_of_digit=[sum([int(x)for x in str(item)]) for item in factorial]\n",
    "\n",
    "print(f\"Sum of digits of factorials are: {sum_of_digit}\")"
   ]
  },
  {
   "cell_type": "markdown",
   "id": "5f29af22",
   "metadata": {},
   "source": [
    "34. Write a program that calculates the mean, median, and mode of a list of numbers using list\n",
    "comprehension.\n",
    "\n"
   ]
  },
  {
   "cell_type": "code",
   "execution_count": 86,
   "id": "cc0d12dd",
   "metadata": {},
   "outputs": [
    {
     "name": "stdout",
     "output_type": "stream",
     "text": [
      "Mean is 37.14, Mode 45 and Median is 33\n"
     ]
    }
   ],
   "source": [
    "import statistics\n",
    "\n",
    "list_numbers=[12,19,45,33,28,78,45]\n",
    "\n",
    "Mean_of_numbers=statistics.mean([item for item in list_numbers])\n",
    "Median_of_numbers=statistics.median([item for item in list_numbers])\n",
    "Mode_of_numbers=statistics.mode([item for item in list_numbers])\n",
    "\n",
    "print(f\"Mean is {round(Mean_of_numbers,2)}, Mode {round(Mode_of_numbers,2)} and Median is {round(Median_of_numbers,2)}\")"
   ]
  },
  {
   "cell_type": "markdown",
   "id": "535a9e87",
   "metadata": {},
   "source": [
    "40. Write a program that generates a list of prime palindromic numbers using list comprehension.\n",
    "\n"
   ]
  },
  {
   "cell_type": "code",
   "execution_count": 103,
   "id": "42ecf66c",
   "metadata": {},
   "outputs": [
    {
     "name": "stdout",
     "output_type": "stream",
     "text": [
      "Enter the lower limit of numbers: 10\n",
      "Enter the upper limit of numbers: 300\n",
      "Prime palindromic numbers are  [11, 101, 131, 151, 181, 191]\n"
     ]
    }
   ],
   "source": [
    "def prime(n): # user defined function for prime checking\n",
    "    for x in range(2,n):\n",
    "        if n%x==0:\n",
    "            return None\n",
    "    else:\n",
    "        return n\n",
    "    \n",
    "\n",
    "    \n",
    "lower=int(input(\"Enter the lower limit of numbers: \"))\n",
    "upper=int(input(\"Enter the upper limit of numbers: \"))\n",
    "    \n",
    "prime_list=list(filter(lambda x:x!=None,[prime(item) for item in range(lower,upper)]))\n",
    "\n",
    "prime_palindrome=[item for item in prime_list if str(item)==str(item)[::-1]]\n",
    "\n",
    "print(\"Prime palindromic numbers are \",prime_palindrome)"
   ]
  },
  {
   "cell_type": "code",
   "execution_count": null,
   "id": "d09c15f3",
   "metadata": {},
   "outputs": [],
   "source": []
  }
 ],
 "metadata": {
  "kernelspec": {
   "display_name": "Python 3 (ipykernel)",
   "language": "python",
   "name": "python3"
  },
  "language_info": {
   "codemirror_mode": {
    "name": "ipython",
    "version": 3
   },
   "file_extension": ".py",
   "mimetype": "text/x-python",
   "name": "python",
   "nbconvert_exporter": "python",
   "pygments_lexer": "ipython3",
   "version": "3.10.9"
  }
 },
 "nbformat": 4,
 "nbformat_minor": 5
}
