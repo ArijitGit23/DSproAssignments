{
 "cells": [
  {
   "cell_type": "markdown",
   "id": "dc752427",
   "metadata": {},
   "source": [
    "# Set Based Practice Problem :"
   ]
  },
  {
   "cell_type": "markdown",
   "id": "307abdf0",
   "metadata": {},
   "source": [
    "1. Create a set with integers from 1 to 5."
   ]
  },
  {
   "cell_type": "code",
   "execution_count": 10,
   "id": "50ec78fe",
   "metadata": {},
   "outputs": [
    {
     "name": "stdout",
     "output_type": "stream",
     "text": [
      "{1, 2, 3, 4, 5}\n"
     ]
    }
   ],
   "source": [
    "s1=set() #creating an empty set\n",
    "\n",
    "for item in range(1,6):\n",
    "    s1.add(item) # adding element to the emptyy set\n",
    "\n",
    "print(s1)"
   ]
  },
  {
   "cell_type": "markdown",
   "id": "4b4d17cf",
   "metadata": {},
   "source": [
    "2. Add an element to a set."
   ]
  },
  {
   "cell_type": "code",
   "execution_count": 11,
   "id": "3e8e6e93",
   "metadata": {},
   "outputs": [
    {
     "data": {
      "text/plain": [
       "{'Pwskills'}"
      ]
     },
     "execution_count": 11,
     "metadata": {},
     "output_type": "execute_result"
    }
   ],
   "source": [
    "s1=set()\n",
    "\n",
    "s1.add(\"Pwskills\")\n",
    "\n",
    "s1"
   ]
  },
  {
   "cell_type": "markdown",
   "id": "f7690303",
   "metadata": {},
   "source": [
    "3. Remove an element from a set.\n"
   ]
  },
  {
   "cell_type": "code",
   "execution_count": 12,
   "id": "6e279679",
   "metadata": {},
   "outputs": [
    {
     "name": "stdout",
     "output_type": "stream",
     "text": [
      "{1, 2, 3, 5}\n"
     ]
    }
   ],
   "source": [
    "s1={1,2,3,4,5,2,1,3,5,3}\n",
    "\n",
    "s1 # set with initial element\n",
    "\n",
    "s1.remove(4) # it creates an error if item not present\n",
    "\n",
    "print(s1) # final elements after removing"
   ]
  },
  {
   "cell_type": "markdown",
   "id": "6bdbc786",
   "metadata": {},
   "source": [
    "4. Check if an element exists in a set."
   ]
  },
  {
   "cell_type": "code",
   "execution_count": 14,
   "id": "1c06373a",
   "metadata": {},
   "outputs": [
    {
     "name": "stdout",
     "output_type": "stream",
     "text": [
      "{1, 2, 3, 6, 7, 8}\n",
      "7  is present in the set\n"
     ]
    }
   ],
   "source": [
    "s1={2,3,2,1,6,7,3,2,8,6}\n",
    "\n",
    "print(s1) # initial elements\n",
    "\n",
    "val=7 #particular value to be checked whether present or not\n",
    "\n",
    "if val in s1:\n",
    "    print(val, \" is present in the set\")\n",
    "else:\n",
    "    print(val,\" is Not present in the set\")"
   ]
  },
  {
   "cell_type": "markdown",
   "id": "1029186a",
   "metadata": {},
   "source": [
    "5. Find the length of a set without using the `len()` function."
   ]
  },
  {
   "cell_type": "code",
   "execution_count": 15,
   "id": "125289ac",
   "metadata": {},
   "outputs": [
    {
     "name": "stdout",
     "output_type": "stream",
     "text": [
      "Total length of  {1, 2, 3, 4, 5, 6, 7, 8, 9}  is-  9\n"
     ]
    }
   ],
   "source": [
    "s1={1,2,2,3,4,5,2,6,7,8,9,3} # crating a set \n",
    "\n",
    "count=0 # initial value of length \n",
    "\n",
    "for item in s1:\n",
    "    count+=1 # incrementing value after each iteration\n",
    "    \n",
    "print(\"Total length of \",s1, \" is- \",count)"
   ]
  },
  {
   "cell_type": "markdown",
   "id": "15c70282",
   "metadata": {},
   "source": [
    "6. Clear all elements from a set."
   ]
  },
  {
   "cell_type": "code",
   "execution_count": 16,
   "id": "88a645db",
   "metadata": {},
   "outputs": [
    {
     "name": "stdout",
     "output_type": "stream",
     "text": [
      "set()\n"
     ]
    }
   ],
   "source": [
    "s1={1,2,2,3,4,5,2,6,7,8,9,3} # crating a set \n",
    "\n",
    "s1.clear() # it clears all the  element of the set\n",
    "\n",
    "print(s1)"
   ]
  },
  {
   "cell_type": "markdown",
   "id": "9a12824b",
   "metadata": {},
   "source": [
    "7. Create a set of even numbers from 1 to 10."
   ]
  },
  {
   "cell_type": "code",
   "execution_count": 22,
   "id": "f230b561",
   "metadata": {},
   "outputs": [
    {
     "name": "stdout",
     "output_type": "stream",
     "text": [
      "{8, 2, 4, 6}\n"
     ]
    }
   ],
   "source": [
    "s1=set()# empty set\n",
    "\n",
    "for item in range(1,10):\n",
    "    if item%2==0: # checks even numbers\n",
    "        s1.add(item)\n",
    "\n",
    "print(s1)"
   ]
  },
  {
   "cell_type": "markdown",
   "id": "d903b411",
   "metadata": {},
   "source": [
    "8. Create a set of odd numbers from 1 to 10."
   ]
  },
  {
   "cell_type": "code",
   "execution_count": 23,
   "id": "27b0c8b4",
   "metadata": {},
   "outputs": [
    {
     "name": "stdout",
     "output_type": "stream",
     "text": [
      "{1, 3, 5, 7, 9}\n"
     ]
    }
   ],
   "source": [
    "s2=set()# empty set\n",
    "\n",
    "for item in range(1,10):\n",
    "    if item%2!=0: # checks odd numbers\n",
    "        s2.add(item)\n",
    "\n",
    "print(s2)"
   ]
  },
  {
   "cell_type": "markdown",
   "id": "7b6730db",
   "metadata": {},
   "source": [
    "9. Find the union of two sets."
   ]
  },
  {
   "cell_type": "code",
   "execution_count": 25,
   "id": "7b4c6300",
   "metadata": {},
   "outputs": [
    {
     "data": {
      "text/plain": [
       "{1, 2, 3, 4, 5, 6, 7, 8, 10}"
      ]
     },
     "execution_count": 25,
     "metadata": {},
     "output_type": "execute_result"
    }
   ],
   "source": [
    "s1={1,2,3,4,5} #set1\n",
    "s2={3,4,5,6,7,2,10,8} #set2\n",
    "\n",
    "s1.union(s2) # union of two sets ,all element including the common"
   ]
  },
  {
   "cell_type": "markdown",
   "id": "890aaa91",
   "metadata": {},
   "source": [
    "10. Find the intersection of two sets."
   ]
  },
  {
   "cell_type": "code",
   "execution_count": 26,
   "id": "2e556c7c",
   "metadata": {},
   "outputs": [
    {
     "data": {
      "text/plain": [
       "{2, 3, 4, 5}"
      ]
     },
     "execution_count": 26,
     "metadata": {},
     "output_type": "execute_result"
    }
   ],
   "source": [
    "s1={1,2,3,4,5} #set1\n",
    "s2={3,4,5,6,7,2,10,8} #set2\n",
    "\n",
    "s1.intersection(s2) # intersection of two sets,common element in two sets"
   ]
  },
  {
   "cell_type": "markdown",
   "id": "7beec000",
   "metadata": {},
   "source": [
    "11. Find the difference between two sets."
   ]
  },
  {
   "cell_type": "code",
   "execution_count": 27,
   "id": "26e0ae86",
   "metadata": {},
   "outputs": [
    {
     "data": {
      "text/plain": [
       "{1}"
      ]
     },
     "execution_count": 27,
     "metadata": {},
     "output_type": "execute_result"
    }
   ],
   "source": [
    "s1={1,2,3,4,5} #set1\n",
    "s2={3,4,5,6,7,2,10,8} #set2\n",
    "\n",
    "s1.difference(s2) # element present in s1 but not s2"
   ]
  },
  {
   "cell_type": "markdown",
   "id": "cf9f4577",
   "metadata": {},
   "source": [
    "12. Check if a set is a subset of another set."
   ]
  },
  {
   "cell_type": "code",
   "execution_count": 29,
   "id": "63bd0348",
   "metadata": {},
   "outputs": [
    {
     "data": {
      "text/plain": [
       "True"
      ]
     },
     "execution_count": 29,
     "metadata": {},
     "output_type": "execute_result"
    }
   ],
   "source": [
    "s1={3,4,5} #set1\n",
    "s2={3,4,5,6,7,2,10,8} #set2\n",
    "\n",
    "s1.issubset(s2) # whether s1 subset of s2 or not"
   ]
  },
  {
   "cell_type": "markdown",
   "id": "5ce7c7a5",
   "metadata": {},
   "source": [
    "13. Check if a set is a superset of another set."
   ]
  },
  {
   "cell_type": "code",
   "execution_count": 30,
   "id": "cc0e00ee",
   "metadata": {},
   "outputs": [
    {
     "data": {
      "text/plain": [
       "True"
      ]
     },
     "execution_count": 30,
     "metadata": {},
     "output_type": "execute_result"
    }
   ],
   "source": [
    "s1={3,4,5} #set1\n",
    "s2={3,4,5,6,7,2,10,8} #set2\n",
    "\n",
    "s2.issuperset(s1) # whether s2 superset of s1 or not"
   ]
  },
  {
   "cell_type": "markdown",
   "id": "7f3c29b9",
   "metadata": {},
   "source": [
    "14. Create a set from a list."
   ]
  },
  {
   "cell_type": "code",
   "execution_count": 33,
   "id": "b1bf78f7",
   "metadata": {},
   "outputs": [
    {
     "name": "stdout",
     "output_type": "stream",
     "text": [
      "[2, 3, 4, 5, 6, 7, 8, 10]\n"
     ]
    }
   ],
   "source": [
    "s={3,4,5,6,7,2,10,8} \n",
    "\n",
    "l=list(s) #converting to list\n",
    "\n",
    "print(l)"
   ]
  },
  {
   "cell_type": "markdown",
   "id": "5dcfe304",
   "metadata": {},
   "source": [
    "15. Convert a set to a list."
   ]
  },
  {
   "cell_type": "code",
   "execution_count": 37,
   "id": "67189985",
   "metadata": {},
   "outputs": [
    {
     "name": "stdout",
     "output_type": "stream",
     "text": [
      "{1, 2, 3, 4, 5, 6, 7, 8, 10}\n"
     ]
    }
   ],
   "source": [
    "l=[2,3,4,5,6,7,8,10,2,4,2,1] #list elemnts\n",
    "\n",
    "s=set(l) # converting to set\n",
    "      \n",
    "print(s)\n"
   ]
  },
  {
   "cell_type": "markdown",
   "id": "1e9f3f74",
   "metadata": {},
   "source": [
    "16. Remove a random element from a set."
   ]
  },
  {
   "cell_type": "code",
   "execution_count": 38,
   "id": "f9b4a84c",
   "metadata": {},
   "outputs": [
    {
     "data": {
      "text/plain": [
       "3"
      ]
     },
     "execution_count": 38,
     "metadata": {},
     "output_type": "execute_result"
    }
   ],
   "source": [
    "s={2,1,7,3,2,22,4,4,55,244,33,77} #initial elements\n",
    "\n",
    "s1.pop() #removing random element\n"
   ]
  },
  {
   "cell_type": "markdown",
   "id": "d45d5562",
   "metadata": {},
   "source": [
    "17. Pop an element from a set."
   ]
  },
  {
   "cell_type": "code",
   "execution_count": 40,
   "id": "fe2f578d",
   "metadata": {},
   "outputs": [
    {
     "data": {
      "text/plain": [
       "5"
      ]
     },
     "execution_count": 40,
     "metadata": {},
     "output_type": "execute_result"
    }
   ],
   "source": [
    "s={2,1,7,3,2,22,4,4,55,244,33,77} #initial elements\n",
    "\n",
    "s1.pop() #poping an element"
   ]
  },
  {
   "cell_type": "markdown",
   "id": "627e6fa0",
   "metadata": {},
   "source": [
    "18. Check if two sets have no elements in common."
   ]
  },
  {
   "cell_type": "code",
   "execution_count": 42,
   "id": "905dc120",
   "metadata": {},
   "outputs": [
    {
     "data": {
      "text/plain": [
       "True"
      ]
     },
     "execution_count": 42,
     "metadata": {},
     "output_type": "execute_result"
    }
   ],
   "source": [
    "s1={2,3,4,2,1,6,7,7,8,5,9} #set1\n",
    "s2={10,21,23,45,44,45,66,33} #set2\n",
    "\n",
    "s1.isdisjoint(s2) #checking whether two sets have no elemnts in common"
   ]
  },
  {
   "cell_type": "markdown",
   "id": "fa3b2b0c",
   "metadata": {},
   "source": [
    "19.Find the symmetric difference between two sets."
   ]
  },
  {
   "cell_type": "code",
   "execution_count": 43,
   "id": "2fa70325",
   "metadata": {},
   "outputs": [
    {
     "data": {
      "text/plain": [
       "{1, 2, 3, 6, 7, 8}"
      ]
     },
     "execution_count": 43,
     "metadata": {},
     "output_type": "execute_result"
    }
   ],
   "source": [
    "s1={1,2,3,4,5} # set1\n",
    "s2={4,5,6,7,8} # set2\n",
    "\n",
    "#symmetric difference means all the elements present in set1 and s2 but not in common\n",
    "s1.difference(s2).union(s2.difference(s1))"
   ]
  },
  {
   "cell_type": "markdown",
   "id": "76d45f8f",
   "metadata": {},
   "source": [
    "20.Update a set with elements from another set."
   ]
  },
  {
   "cell_type": "code",
   "execution_count": 45,
   "id": "2d3f4de6",
   "metadata": {},
   "outputs": [
    {
     "name": "stdout",
     "output_type": "stream",
     "text": [
      "{1, 2, 3, 4, 5, 6, 7, 8}\n"
     ]
    }
   ],
   "source": [
    "s1={1,2,3,4,5} # set1\n",
    "s2={4,5,6,7,8} # set2\n",
    "\n",
    "s1.update(s2)\n",
    "print(s1)"
   ]
  },
  {
   "cell_type": "markdown",
   "id": "08cd7979",
   "metadata": {},
   "source": [
    "22. Check if two sets are identical.\n"
   ]
  },
  {
   "cell_type": "code",
   "execution_count": 48,
   "id": "e1af436a",
   "metadata": {},
   "outputs": [
    {
     "data": {
      "text/plain": [
       "False"
      ]
     },
     "execution_count": 48,
     "metadata": {},
     "output_type": "execute_result"
    }
   ],
   "source": [
    "s1={1,2,3,4,5} # set1\n",
    "s2={2,3,4,5} # set2\n",
    "\n",
    "s1==s2 # checking whether they are same or not"
   ]
  },
  {
   "cell_type": "markdown",
   "id": "d1960df4",
   "metadata": {},
   "source": [
    "23. Create a frozen set."
   ]
  },
  {
   "cell_type": "code",
   "execution_count": 54,
   "id": "deb5ae86",
   "metadata": {},
   "outputs": [
    {
     "name": "stdout",
     "output_type": "stream",
     "text": [
      "frozenset({32, 1, 2, 3, 18, 9, 29})\n"
     ]
    }
   ],
   "source": [
    "s={1,2,3,9,3,2,1,18,29,32} #inital set\n",
    "f=frozenset(s) #frozenset ,immutable set\n",
    "print(f)"
   ]
  },
  {
   "cell_type": "markdown",
   "id": "83efa46c",
   "metadata": {},
   "source": [
    "24. Check if a set is disjoint with another set."
   ]
  },
  {
   "cell_type": "code",
   "execution_count": 57,
   "id": "4df01602",
   "metadata": {},
   "outputs": [
    {
     "data": {
      "text/plain": [
       "False"
      ]
     },
     "execution_count": 57,
     "metadata": {},
     "output_type": "execute_result"
    }
   ],
   "source": [
    "s={1,2,3,2,9,7,3} #set1\n",
    "s1={9,0,3,2,7,2} #set2\n",
    "\n",
    "s1.isdisjoint(s) #disjoint function to check whether two sets are disjoint or not\n"
   ]
  },
  {
   "cell_type": "markdown",
   "id": "3659562c",
   "metadata": {},
   "source": [
    "25. Create a set of squares of numbers from 1 to 5."
   ]
  },
  {
   "cell_type": "code",
   "execution_count": 59,
   "id": "289d7c0b",
   "metadata": {},
   "outputs": [
    {
     "name": "stdout",
     "output_type": "stream",
     "text": [
      "{1, 4, 9, 16, 25}\n"
     ]
    }
   ],
   "source": [
    "s1=set() #empty set\n",
    "\n",
    "for item in range(1,6):\n",
    "    s1.add(item**2) #adding square of the elements\n",
    "    \n",
    "print(s1)"
   ]
  },
  {
   "cell_type": "markdown",
   "id": "125d5bf6",
   "metadata": {},
   "source": [
    "26. Filter out all even numbers from a set."
   ]
  },
  {
   "cell_type": "code",
   "execution_count": 65,
   "id": "1755bd93",
   "metadata": {},
   "outputs": [
    {
     "name": "stdout",
     "output_type": "stream",
     "text": [
      "{2, 4, 34, 8, 56}\n"
     ]
    }
   ],
   "source": [
    "s={1,2,3,4,5,2,4,2,2,8,9,56,34,21} # initial elements\n",
    "s1=s.copy() #crating a copy of original set\n",
    "\n",
    "s1\n",
    "\n",
    "for item in s1:\n",
    "    if item % 2 !=0: # if the elemnt is odd remove that ,keep only even numbers\n",
    "        s.remove(item)\n",
    "\n",
    "print(s) #final set with even numbers"
   ]
  },
  {
   "cell_type": "markdown",
   "id": "659b6784",
   "metadata": {},
   "source": [
    "27. Multiply all elements in a set by 2."
   ]
  },
  {
   "cell_type": "code",
   "execution_count": 66,
   "id": "d6c705e7",
   "metadata": {},
   "outputs": [
    {
     "name": "stdout",
     "output_type": "stream",
     "text": [
      "{2, 4, 68, 6, 8, 10, 42, 16, 112, 18}\n"
     ]
    }
   ],
   "source": [
    "s={1,2,3,4,5,2,4,2,2,8,9,56,34,21} # initial elements\n",
    "s1=set() #creating an empty set\n",
    "\n",
    "for item in s:\n",
    "    s1.add(item*2) #adding element multiplied by 2\n",
    "    \n",
    "print(s1)"
   ]
  },
  {
   "cell_type": "markdown",
   "id": "89e8d74d",
   "metadata": {},
   "source": [
    "28. Create a set of random numbers."
   ]
  },
  {
   "cell_type": "code",
   "execution_count": 67,
   "id": "4a173c51",
   "metadata": {},
   "outputs": [
    {
     "name": "stdout",
     "output_type": "stream",
     "text": [
      "{0.8990631489752535, 0.6519604572464541, 0.4669310469032323, 0.2900955175618868, 0.37885595024899654, 0.18563668479039241, 0.4345191604655192, 0.029581065893250824, 0.37531388100679763}\n"
     ]
    }
   ],
   "source": [
    "import random \n",
    "\n",
    "s=set()\n",
    "\n",
    "for item in range(1,10):\n",
    "    s.add(random.random()) # generating random numbers\n",
    "    \n",
    "print(s) # final elements\n"
   ]
  },
  {
   "cell_type": "markdown",
   "id": "d8935dbc",
   "metadata": {},
   "source": [
    "29. Check if a set is empty."
   ]
  },
  {
   "cell_type": "code",
   "execution_count": 70,
   "id": "53bd1d72",
   "metadata": {},
   "outputs": [
    {
     "name": "stdout",
     "output_type": "stream",
     "text": [
      "set()  is empty\n"
     ]
    }
   ],
   "source": [
    "s=set() # ceating an empty set\n",
    "\n",
    "length=len(s) # length of the set\n",
    "\n",
    "if length==0:\n",
    "    print(s,\" is empty\")\n",
    "else:\n",
    "    print(s,\" is not empty\")"
   ]
  },
  {
   "cell_type": "markdown",
   "id": "5fb8fb5e",
   "metadata": {},
   "source": [
    "30. Create a nested set (hint: use frozenset)."
   ]
  },
  {
   "cell_type": "code",
   "execution_count": 73,
   "id": "165e8460",
   "metadata": {},
   "outputs": [
    {
     "name": "stdout",
     "output_type": "stream",
     "text": [
      "frozenset({1, 2, 3, 6, 8, 9})\n"
     ]
    }
   ],
   "source": [
    "s={1,2,3,2,6,8,9,9}\n",
    "fs=frozenset(s)\n",
    "print(fs)"
   ]
  },
  {
   "cell_type": "markdown",
   "id": "4960edc8",
   "metadata": {},
   "source": [
    "31. Remove an element from a set using the discard method."
   ]
  },
  {
   "cell_type": "code",
   "execution_count": 77,
   "id": "97ada095",
   "metadata": {},
   "outputs": [
    {
     "name": "stdout",
     "output_type": "stream",
     "text": [
      "{32, 2, 3, 4, 6, 7}\n"
     ]
    }
   ],
   "source": [
    "s={2,3,4,1,4,6,7,4,32,1,3} # initial set\n",
    "\n",
    "s.discard(55) # creats no error if value not present\n",
    "s.discard(1)\n",
    "\n",
    "print(s)"
   ]
  },
  {
   "cell_type": "markdown",
   "id": "7db7a55c",
   "metadata": {},
   "source": [
    "32. Compare two sets."
   ]
  },
  {
   "cell_type": "code",
   "execution_count": 79,
   "id": "5fe8e811",
   "metadata": {},
   "outputs": [
    {
     "data": {
      "text/plain": [
       "{1, 2, 3, 4, 8}"
      ]
     },
     "execution_count": 79,
     "metadata": {},
     "output_type": "execute_result"
    }
   ],
   "source": [
    "s1={1,2,3,4,5,2,1,2,3,8} #set1\n",
    "s2={4,2,4,7,7,1,3,57,8,8} #set2\n",
    "\n",
    "s1.issubset(s2)# check whether s1 subset of s2 or not\n",
    "s2.issuperset(s1)# check whether s2 superset of s1 or not\n",
    "\n",
    "s1.difference(s2) # elements preent in s1 but not in s2\n",
    "s2.difference(s1) # elements present in s2 but not in s1\n",
    "s1.intersection(s2) # elements common to both the sets"
   ]
  },
  {
   "cell_type": "markdown",
   "id": "fbb61e63",
   "metadata": {},
   "source": [
    "33. Create a set from a string."
   ]
  },
  {
   "cell_type": "code",
   "execution_count": 82,
   "id": "63d3b325",
   "metadata": {},
   "outputs": [
    {
     "name": "stdout",
     "output_type": "stream",
     "text": [
      "{'this', 'and', 'a', 'set', 'to', 'is', 'very', 'THis', 'releated', 'useful', 'understand', 'assignment', 'problem'}\n"
     ]
    }
   ],
   "source": [
    "s=\"THis is a set releated problem assignment and this assignment is very useful to understand set\"\n",
    "\n",
    "s1=set() #creating empty set\n",
    "\n",
    "for item in s.split(): # iterate over the words of the string\n",
    "    s1.add(item)\n",
    "    \n",
    "print(s1)"
   ]
  },
  {
   "cell_type": "markdown",
   "id": "950f7781",
   "metadata": {},
   "source": [
    "34. Convert a set of strings to a set of integers."
   ]
  },
  {
   "cell_type": "code",
   "execution_count": 83,
   "id": "165f0632",
   "metadata": {},
   "outputs": [
    {
     "name": "stdout",
     "output_type": "stream",
     "text": [
      "{1, 2, 3, 4, 5, 6}\n"
     ]
    }
   ],
   "source": [
    "s={\"1\",\"3\",\"2\",\"4\",\"3\",\"5\",\"6\",\"2\"} #set of strings\n",
    "\n",
    "s_integer=set() #creating empty set\n",
    "\n",
    "for item in s:\n",
    "    s_integer.add(int(item)) #converting strings to integers\n",
    "    \n",
    "    \n",
    "print(s_integer)"
   ]
  },
  {
   "cell_type": "markdown",
   "id": "a44749c2",
   "metadata": {},
   "source": [
    "35. Convert a set of integers to a set of strings."
   ]
  },
  {
   "cell_type": "code",
   "execution_count": 84,
   "id": "73f0775a",
   "metadata": {},
   "outputs": [
    {
     "name": "stdout",
     "output_type": "stream",
     "text": [
      "{'1', '6', '42', '2', '7', '4', '8', '3'}\n"
     ]
    }
   ],
   "source": [
    "s={1,2,3,42,4,6,7,3,2,6,8} #set of integers\n",
    "\n",
    "s_string=set() #creating empty set\n",
    "\n",
    "for item in s:\n",
    "    s_string.add(str(item)) #converting strings to integers\n",
    "    \n",
    "    \n",
    "print(s_string)"
   ]
  },
  {
   "cell_type": "markdown",
   "id": "d49cb357",
   "metadata": {},
   "source": [
    "36. Create a set from a tuple."
   ]
  },
  {
   "cell_type": "code",
   "execution_count": 85,
   "id": "7acb16ec",
   "metadata": {},
   "outputs": [
    {
     "name": "stdout",
     "output_type": "stream",
     "text": [
      "{1, 2, 3, 4, 6, 7, 8, 9}\n"
     ]
    }
   ],
   "source": [
    "t=(1,3,2,1,4,6,7,2,8,9) # tuple creation\n",
    "\n",
    "s=set(t) #converting to set\n",
    "\n",
    "print(s)"
   ]
  },
  {
   "cell_type": "markdown",
   "id": "78705ed6",
   "metadata": {},
   "source": [
    "37. Convert a set to a tuple."
   ]
  },
  {
   "cell_type": "code",
   "execution_count": 86,
   "id": "cb9dd344",
   "metadata": {},
   "outputs": [
    {
     "name": "stdout",
     "output_type": "stream",
     "text": [
      "(1, 2, 3, 4, 6, 7, 8, 9)\n"
     ]
    }
   ],
   "source": [
    "s={2,3,1,2,3,2,4,6,7,8,9,3,2,4} # set creation\n",
    "\n",
    "t=tuple(s) #converting to tuple\n",
    "\n",
    "print(t)"
   ]
  },
  {
   "cell_type": "markdown",
   "id": "39398a5f",
   "metadata": {},
   "source": [
    "38. Find the maximum value in a set."
   ]
  },
  {
   "cell_type": "code",
   "execution_count": 87,
   "id": "e306c3b0",
   "metadata": {},
   "outputs": [
    {
     "name": "stdout",
     "output_type": "stream",
     "text": [
      "maximum value 99\n"
     ]
    }
   ],
   "source": [
    "s={2,4,2,1,54,6,7,3,2,26,7,8,53,99} #creating set\n",
    "\n",
    "max_val=max(list(s))\n",
    "\n",
    "print(\"maximum value\",max_val)"
   ]
  },
  {
   "cell_type": "markdown",
   "id": "74c5749f",
   "metadata": {},
   "source": [
    "39. Find the minimum value in a set."
   ]
  },
  {
   "cell_type": "code",
   "execution_count": 88,
   "id": "32c29810",
   "metadata": {},
   "outputs": [
    {
     "name": "stdout",
     "output_type": "stream",
     "text": [
      "maximum value 1\n"
     ]
    }
   ],
   "source": [
    "s={2,4,2,1,54,6,7,3,2,26,7,8,53,99} #creating set\n",
    "\n",
    "min_val=min(list(s))\n",
    "\n",
    "print(\"maximum value\",min_val)"
   ]
  },
  {
   "cell_type": "markdown",
   "id": "8fef6ff9",
   "metadata": {},
   "source": [
    "40. Create a set from user input."
   ]
  },
  {
   "cell_type": "code",
   "execution_count": 89,
   "id": "622693ee",
   "metadata": {},
   "outputs": [
    {
     "name": "stdout",
     "output_type": "stream",
     "text": [
      "Enter the value3\n",
      "Enter the value2\n",
      "Enter the value1\n",
      "Enter the value7\n",
      "Enter the value3\n",
      "{'1', '2', '3', '7'}\n"
     ]
    }
   ],
   "source": [
    "s=set() # creating empty set\n",
    "\n",
    "for item in range(5):\n",
    "    s.add(input(\"Enter the value\")) # user defined input\n",
    "    \n",
    "print(s) #final set values"
   ]
  },
  {
   "cell_type": "markdown",
   "id": "a72e6ef4",
   "metadata": {},
   "source": [
    "41. Check if the intersection of two sets is empty."
   ]
  },
  {
   "cell_type": "code",
   "execution_count": 92,
   "id": "15a27ce9",
   "metadata": {},
   "outputs": [
    {
     "name": "stdout",
     "output_type": "stream",
     "text": [
      "Intersection-  not Empty set\n"
     ]
    }
   ],
   "source": [
    "s={1,2,3,3,4,5,67,43} # set1\n",
    "s1={3,2,4,5,6,7,8,3,2,2,4,79,99} # set2\n",
    "\n",
    "if len(s1.intersection(s2))==0:\n",
    "    print(\"Intersection- Empty set\")\n",
    "else:\n",
    "    print(\"Intersection-  not Empty set\")"
   ]
  },
  {
   "cell_type": "markdown",
   "id": "4ade9bd3",
   "metadata": {},
   "source": [
    "43. Remove duplicates from a list using sets."
   ]
  },
  {
   "cell_type": "code",
   "execution_count": 93,
   "id": "aaa646da",
   "metadata": {},
   "outputs": [
    {
     "name": "stdout",
     "output_type": "stream",
     "text": [
      "[1, 2, 34, 4, 5, 3, 7, 8, 56]\n"
     ]
    }
   ],
   "source": [
    "l=[1,2,1,1,2,34,4,5,3,2,2,3,56,7,8] # creating list with duplicate elements\n",
    "\n",
    "new_list=list(set(l)) # removing duplicate items from a list\n",
    "\n",
    "print(new_list)"
   ]
  },
  {
   "cell_type": "markdown",
   "id": "329efd67",
   "metadata": {},
   "source": [
    "45. Create a set of the first `n` powers of 2."
   ]
  },
  {
   "cell_type": "code",
   "execution_count": 97,
   "id": "a284c684",
   "metadata": {},
   "outputs": [
    {
     "name": "stdout",
     "output_type": "stream",
     "text": [
      "Ente the power upto which value should be in the set- 5\n",
      "{32, 2, 4, 8, 16}\n"
     ]
    }
   ],
   "source": [
    "n=int(input(\"Ente the power upto which value should be in the set- \"))\n",
    "\n",
    "s=set() # empty set\n",
    "\n",
    "for item in range(1,n+1):\n",
    "    s.add(2**item)\n",
    "\n",
    "print(s)\n",
    "\n"
   ]
  },
  {
   "cell_type": "markdown",
   "id": "a4c3be3c",
   "metadata": {},
   "source": [
    "46. Find the common elements between a set and a list."
   ]
  },
  {
   "cell_type": "code",
   "execution_count": 98,
   "id": "7b4e2e71",
   "metadata": {},
   "outputs": [
    {
     "data": {
      "text/plain": [
       "{1, 2, 3, 4, 5}"
      ]
     },
     "execution_count": 98,
     "metadata": {},
     "output_type": "execute_result"
    }
   ],
   "source": [
    "s={1,2,2,3,4,5,6,2,2,6,3,4,2} # creating set  of elements\n",
    "l=[1,2,2,43,4,5,3,2,16,77,4] # creating list of elements\n",
    "\n",
    "s.intersection(set(l)) # intersection elemnet between set and list"
   ]
  },
  {
   "cell_type": "markdown",
   "id": "6963f0d2",
   "metadata": {},
   "source": [
    "47. Create a set of the first `n` triangular numbers."
   ]
  },
  {
   "cell_type": "code",
   "execution_count": 102,
   "id": "ac9b80d1",
   "metadata": {},
   "outputs": [
    {
     "name": "stdout",
     "output_type": "stream",
     "text": [
      "Enter the number of triangular numbers you want4\n",
      "{1, 10, 3, 6}\n"
     ]
    }
   ],
   "source": [
    "n=int(input(\"Enter the number of triangular numbers you want\"))\n",
    "\n",
    "s=set()\n",
    "\n",
    "for item in range(1,n+1):\n",
    "    sum1=0\n",
    "    for inner_item in range(1,item+1):\n",
    "        sum1=sum1+inner_item\n",
    "    \n",
    "    s.add(sum1)\n",
    "        \n",
    "print(s)"
   ]
  },
  {
   "cell_type": "markdown",
   "id": "462059ec",
   "metadata": {},
   "source": [
    "48. Check if a set contains another set as a subset."
   ]
  },
  {
   "cell_type": "code",
   "execution_count": 105,
   "id": "48c7d3d0",
   "metadata": {},
   "outputs": [
    {
     "data": {
      "text/plain": [
       "True"
      ]
     },
     "execution_count": 105,
     "metadata": {},
     "output_type": "execute_result"
    }
   ],
   "source": [
    "s={1,2,3,4,5} #set1 \n",
    "s1={1,2,3,4,5,6,1,7} #set2\n",
    "\n",
    "s.issubset(s1) # to check whether subset or not"
   ]
  },
  {
   "cell_type": "markdown",
   "id": "fad5c980",
   "metadata": {},
   "source": [
    "49. Create a set of alternating 1s and 0s of length `n`."
   ]
  },
  {
   "cell_type": "code",
   "execution_count": 117,
   "id": "614dcc87",
   "metadata": {},
   "outputs": [
    {
     "name": "stdout",
     "output_type": "stream",
     "text": [
      "Enter the length-9\n"
     ]
    },
    {
     "data": {
      "text/plain": [
       "{'010101010'}"
      ]
     },
     "execution_count": 117,
     "metadata": {},
     "output_type": "execute_result"
    }
   ],
   "source": [
    "n=int(input(\"Enter the length-\"))\n",
    "s=set()\n",
    "s1=\" \"\n",
    "for item in range(1,n+1):\n",
    "    if item%2==0:\n",
    "        s1=s1+\"1\"\n",
    "    else:\n",
    "        s1=s1+\"0\"\n",
    "\n",
    "set(s1.split())"
   ]
  },
  {
   "cell_type": "markdown",
   "id": "b7948289",
   "metadata": {},
   "source": [
    "50. Merge multiple sets into one."
   ]
  },
  {
   "cell_type": "code",
   "execution_count": 1,
   "id": "ab5e473d",
   "metadata": {},
   "outputs": [
    {
     "name": "stdout",
     "output_type": "stream",
     "text": [
      "{1, 2, 3, 4, 5, 6, 7, 8, 9, 99}\n"
     ]
    }
   ],
   "source": [
    "l=[{1,2,3},{4,6,7},{2,5,8},{7,5,9,99}] # creating list with multiple sets\n",
    "\n",
    "s=set()\n",
    "\n",
    "for item in range(len(l)):\n",
    "    s.update(l[item])\n",
    "\n",
    "print(s)"
   ]
  },
  {
   "cell_type": "markdown",
   "id": "3be9dd68",
   "metadata": {},
   "source": [
    "42. Create a set of the first 5 Fibonacci numbers."
   ]
  },
  {
   "cell_type": "code",
   "execution_count": 3,
   "id": "6464d898",
   "metadata": {},
   "outputs": [
    {
     "data": {
      "text/plain": [
       "{0, 1, 2, 3}"
      ]
     },
     "execution_count": 3,
     "metadata": {},
     "output_type": "execute_result"
    }
   ],
   "source": []
  },
  {
   "cell_type": "code",
   "execution_count": null,
   "id": "351f8e73",
   "metadata": {},
   "outputs": [],
   "source": []
  },
  {
   "cell_type": "code",
   "execution_count": null,
   "id": "b664db79",
   "metadata": {},
   "outputs": [],
   "source": []
  },
  {
   "cell_type": "code",
   "execution_count": null,
   "id": "f3988cbe",
   "metadata": {},
   "outputs": [],
   "source": []
  },
  {
   "cell_type": "code",
   "execution_count": null,
   "id": "c281449e",
   "metadata": {},
   "outputs": [],
   "source": []
  },
  {
   "cell_type": "code",
   "execution_count": null,
   "id": "95c71eda",
   "metadata": {},
   "outputs": [],
   "source": []
  },
  {
   "cell_type": "markdown",
   "id": "e06cd136",
   "metadata": {},
   "source": [
    "# Tuple Based Practice Problem :"
   ]
  },
  {
   "cell_type": "markdown",
   "id": "18e24a8a",
   "metadata": {},
   "source": [
    "1. Create a tuple with integers from 1 to 5."
   ]
  },
  {
   "cell_type": "code",
   "execution_count": 3,
   "id": "e069bdd8",
   "metadata": {},
   "outputs": [
    {
     "name": "stdout",
     "output_type": "stream",
     "text": [
      "The tuple with integers from 1 to 5 is- (1, 2, 3, 4, 5)\n"
     ]
    }
   ],
   "source": [
    "l=[] #creation of empty list\n",
    "\n",
    "for item in range(1,6):\n",
    "    l.append(item) # appending item to the list\n",
    "\n",
    "print(\"The tuple with integers from 1 to 5 is-\",tuple(l))\n",
    "    "
   ]
  },
  {
   "cell_type": "markdown",
   "id": "477d4f1f",
   "metadata": {},
   "source": [
    "2. Access the third element of a tuple."
   ]
  },
  {
   "cell_type": "code",
   "execution_count": 4,
   "id": "6ec0251d",
   "metadata": {},
   "outputs": [
    {
     "name": "stdout",
     "output_type": "stream",
     "text": [
      "3rd element in the tuple is- 3\n"
     ]
    }
   ],
   "source": [
    "t=(1,2,3,4,5,6,7) # tuple with items from 1 to 7\n",
    "\n",
    "print(\"3rd element in the tuple is-\",t[2])# nth element t[n-1]"
   ]
  },
  {
   "cell_type": "markdown",
   "id": "7154abd3",
   "metadata": {},
   "source": [
    "3. Find the length of a tuple without using the `len()` function."
   ]
  },
  {
   "cell_type": "code",
   "execution_count": 6,
   "id": "53847946",
   "metadata": {},
   "outputs": [
    {
     "name": "stdout",
     "output_type": "stream",
     "text": [
      "Total length of this tuple  (3, 2, 4, 5, 6, 7, 8, 2, 2, 6, 8)  is-  11\n"
     ]
    }
   ],
   "source": [
    "t=(3,2,4,5,6,7,8,2,2,6,8) # tuple with following items\n",
    "\n",
    "count=0 # initial value of length is set to be 0\n",
    "\n",
    "for item in t:\n",
    "    count+=1\n",
    "    \n",
    "print(\"Total length of this tuple \",t ,\" is- \",count)"
   ]
  },
  {
   "cell_type": "markdown",
   "id": "b879f3e5",
   "metadata": {},
   "source": [
    "4. Count the occurrences of an element in a tuple."
   ]
  },
  {
   "cell_type": "code",
   "execution_count": 9,
   "id": "c07d9767",
   "metadata": {},
   "outputs": [
    {
     "data": {
      "text/plain": [
       "3"
      ]
     },
     "execution_count": 9,
     "metadata": {},
     "output_type": "execute_result"
    }
   ],
   "source": [
    "t=(3,2,4,5,6,7,8,2,2,6,8) # tuple with following items\n",
    "\n",
    "t.count(2) #count the occurrences of a particular item ,if the item is not present it returns zero"
   ]
  },
  {
   "cell_type": "markdown",
   "id": "41c3b102",
   "metadata": {},
   "source": [
    "5. Find the index of the first occurrence of an element in a tuple."
   ]
  },
  {
   "cell_type": "code",
   "execution_count": 11,
   "id": "18a51ad8",
   "metadata": {},
   "outputs": [
    {
     "data": {
      "text/plain": [
       "1"
      ]
     },
     "execution_count": 11,
     "metadata": {},
     "output_type": "execute_result"
    }
   ],
   "source": [
    "t=(3,2,4,5,6,7,8,2,2,6,8) # tuple with following items\n",
    "\n",
    "t.index(2) # return  first occurrence of a item in the tuple ,if not found return error"
   ]
  },
  {
   "cell_type": "markdown",
   "id": "bdbf08de",
   "metadata": {},
   "source": [
    "6. Check if an element exists in a tuple."
   ]
  },
  {
   "cell_type": "code",
   "execution_count": 15,
   "id": "e066980a",
   "metadata": {},
   "outputs": [
    {
     "name": "stdout",
     "output_type": "stream",
     "text": [
      "4  is present in  (3, 2, 4, 5, 6, 7, 8, 2, 2, 6, 8)\n"
     ]
    }
   ],
   "source": [
    "t=(3,2,4,5,6,7,8,2,2,6,8) # tuple with following items\n",
    "\n",
    "val=4 #particular element\n",
    "\n",
    "if val in t:\n",
    "    print(val ,\" is present in \",t)\n",
    "else:\n",
    "    print(val ,\" is  not present in \",t)"
   ]
  },
  {
   "cell_type": "markdown",
   "id": "13d3006c",
   "metadata": {},
   "source": [
    "7. Convert a tuple to a list."
   ]
  },
  {
   "cell_type": "code",
   "execution_count": 17,
   "id": "35b7bc6f",
   "metadata": {},
   "outputs": [
    {
     "name": "stdout",
     "output_type": "stream",
     "text": [
      "After conversion to list  [3, 2, 4, 5, 6, 7, 8, 2, 2, 6, 8]\n"
     ]
    }
   ],
   "source": [
    "t=(3,2,4,5,6,7,8,2,2,6,8) # tuple with following items\n",
    "\n",
    "l=list(t) # conversion of tuple to list\n",
    "\n",
    "print(\"After conversion to list \",l)"
   ]
  },
  {
   "cell_type": "markdown",
   "id": "84f79229",
   "metadata": {},
   "source": [
    "8. Convert a list to a tuple.\n"
   ]
  },
  {
   "cell_type": "code",
   "execution_count": 20,
   "id": "68f8fc6c",
   "metadata": {},
   "outputs": [
    {
     "name": "stdout",
     "output_type": "stream",
     "text": [
      "After conversion to tuple  (3, 2, 4, 5, 6, 7, 8, 2, 2, 6, 8)\n"
     ]
    }
   ],
   "source": [
    "l=[3, 2, 4, 5, 6, 7, 8, 2, 2, 6, 8] # list with following items\n",
    "\n",
    "t=tuple(l) # conversion to tuple \n",
    "\n",
    "print(\"After conversion to tuple \",t)"
   ]
  },
  {
   "cell_type": "markdown",
   "id": "e24f9fd0",
   "metadata": {},
   "source": [
    "9. Unpack the elements of a tuple into variables."
   ]
  },
  {
   "cell_type": "code",
   "execution_count": 23,
   "id": "428e1361",
   "metadata": {},
   "outputs": [
    {
     "name": "stdout",
     "output_type": "stream",
     "text": [
      "values are- 1 2 3 4\n"
     ]
    }
   ],
   "source": [
    "t=(1,2,3,4) # tuple with items of 1 to 4\n",
    "\n",
    "a,b,c,d=t[0],t[1],t[2],t[3] # placing values to different variables\n",
    "\n",
    "print(\"values are-\",a,b,c,d) # printing the values"
   ]
  },
  {
   "cell_type": "markdown",
   "id": "c564272f",
   "metadata": {},
   "source": [
    "10. Create a tuple of even numbers from 1 to 10."
   ]
  },
  {
   "cell_type": "code",
   "execution_count": 26,
   "id": "6b347c9c",
   "metadata": {},
   "outputs": [
    {
     "name": "stdout",
     "output_type": "stream",
     "text": [
      "tuple with even nos-  (2, 4, 6, 8, 10)\n"
     ]
    }
   ],
   "source": [
    "l=[] #Creating an empty list\n",
    "\n",
    "for item in range(1,11):\n",
    "    if item%2==0:\n",
    "        l.append(item) # appending even nos to the list\n",
    "        \n",
    "t=tuple(l) # conversion to tuple with even nos\n",
    "\n",
    "print(\"tuple with even nos- \",t)"
   ]
  },
  {
   "cell_type": "markdown",
   "id": "d889eff0",
   "metadata": {},
   "source": [
    "11. Create a tuple of odd numbers from 1 to 10."
   ]
  },
  {
   "cell_type": "code",
   "execution_count": 27,
   "id": "9a0793ca",
   "metadata": {},
   "outputs": [
    {
     "name": "stdout",
     "output_type": "stream",
     "text": [
      "tuple with odd nos-  (1, 3, 5, 7, 9)\n"
     ]
    }
   ],
   "source": [
    "l=[] #Creating an empty list\n",
    "\n",
    "for item in range(1,11):\n",
    "    if item%2!=0:\n",
    "        l.append(item) # appending odd nos to the list\n",
    "        \n",
    "t=tuple(l) # conversion to tuple with odd nos\n",
    "\n",
    "print(\"tuple with odd nos- \",t)"
   ]
  },
  {
   "cell_type": "markdown",
   "id": "020bfda1",
   "metadata": {},
   "source": [
    "12. Concatenate two tuples."
   ]
  },
  {
   "cell_type": "code",
   "execution_count": 28,
   "id": "84af483c",
   "metadata": {},
   "outputs": [
    {
     "name": "stdout",
     "output_type": "stream",
     "text": [
      "After concatination -  (1, 2, 3, 4, 3, 5)\n"
     ]
    }
   ],
   "source": [
    "t=(1,2,3) #1st tuple\n",
    "t1=(4,3,5) #2nd tuple\n",
    "\n",
    "t2=t+t1 # concatination of two tuple\n",
    "\n",
    "print(\"After concatination - \",t2)"
   ]
  },
  {
   "cell_type": "markdown",
   "id": "9d4b7790",
   "metadata": {},
   "source": [
    "13. Repeat a tuple three times."
   ]
  },
  {
   "cell_type": "code",
   "execution_count": 29,
   "id": "00673aa3",
   "metadata": {},
   "outputs": [
    {
     "name": "stdout",
     "output_type": "stream",
     "text": [
      "New tuple  (1, 2, 3, 1, 2, 3, 1, 2, 3)\n"
     ]
    }
   ],
   "source": [
    "t=(1,2,3) # 1st tuple\n",
    "\n",
    "t1=t*3 # repeating 3 times\n",
    "\n",
    "print(\"New tuple \",t1)"
   ]
  },
  {
   "cell_type": "markdown",
   "id": "ddf00597",
   "metadata": {},
   "source": [
    "14. Check if a tuple is empty."
   ]
  },
  {
   "cell_type": "code",
   "execution_count": 30,
   "id": "5915330a",
   "metadata": {},
   "outputs": [
    {
     "name": "stdout",
     "output_type": "stream",
     "text": [
      "Not empty\n"
     ]
    }
   ],
   "source": [
    "t=(1,2,4) #tuple creation\n",
    "\n",
    "if len(t)==0: # condition checking\n",
    "    print(\"Empty tuple\")\n",
    "else:\n",
    "    print(\"Not empty\")"
   ]
  },
  {
   "cell_type": "markdown",
   "id": "e945f08d",
   "metadata": {},
   "source": [
    "15. Create a nested tuple."
   ]
  },
  {
   "cell_type": "code",
   "execution_count": 31,
   "id": "75546623",
   "metadata": {},
   "outputs": [
    {
     "name": "stdout",
     "output_type": "stream",
     "text": [
      "((1, 2, 3), (4, 5, 6))\n"
     ]
    }
   ],
   "source": [
    "l=[(1,2,3),(4,5,6)] # list with tuple items\n",
    "\n",
    "t=tuple(l) #conversion the list into tuple\n",
    "\n",
    "print(t)"
   ]
  },
  {
   "cell_type": "markdown",
   "id": "08929681",
   "metadata": {},
   "source": [
    "16. Access the first element of a nested tuple."
   ]
  },
  {
   "cell_type": "code",
   "execution_count": 34,
   "id": "87ed43e0",
   "metadata": {},
   "outputs": [
    {
     "name": "stdout",
     "output_type": "stream",
     "text": [
      "1st element in nested tuple-  (1, 2, 3)\n"
     ]
    }
   ],
   "source": [
    "t=((1,2,3),(4,5,6),(7,8,9)) # nested tuple\n",
    "\n",
    "print(\"1st element in nested tuple- \" ,t[0])"
   ]
  },
  {
   "cell_type": "markdown",
   "id": "2cdd52ae",
   "metadata": {},
   "source": [
    "17. Create a tuple with a single element."
   ]
  },
  {
   "cell_type": "code",
   "execution_count": 35,
   "id": "26d024fd",
   "metadata": {},
   "outputs": [
    {
     "name": "stdout",
     "output_type": "stream",
     "text": [
      "Single element tuple-  (1,)\n"
     ]
    }
   ],
   "source": [
    "l=[1] # list with single element\n",
    "\n",
    "t=tuple(l) #conversion to tuple\n",
    "\n",
    "print(\"Single element tuple- \",t)\n"
   ]
  },
  {
   "cell_type": "markdown",
   "id": "5a9ce3c8",
   "metadata": {},
   "source": [
    "18. Compare two tuples."
   ]
  },
  {
   "cell_type": "code",
   "execution_count": 39,
   "id": "d6a7618c",
   "metadata": {},
   "outputs": [
    {
     "name": "stdout",
     "output_type": "stream",
     "text": [
      "2nd tuple is shorter\n"
     ]
    },
    {
     "data": {
      "text/plain": [
       "(6, 7)"
      ]
     },
     "execution_count": 39,
     "metadata": {},
     "output_type": "execute_result"
    }
   ],
   "source": [
    "t=(1,2,3,4,5,2,2,4,9) # 1st tuple\n",
    "t1=(3,4,5,6,7,7,3,2) #2nd tuple\n",
    "\n",
    "if len(t)<len(t1):\n",
    "    print(\"1st tuple is shorter in length\")\n",
    "else:\n",
    "    print(\"2nd tuple is shorter\")\n",
    "    \n",
    "tuple(set(t).intersection(t1)) # intersecting elements of the two tuples\n",
    "tuple(set(t).difference(t1)) # element only present in 1st one but not 2nd one\n",
    "tuple(set(t1).difference(t)) # element only present in 2nd one but not 1st one"
   ]
  },
  {
   "cell_type": "markdown",
   "id": "167f7855",
   "metadata": {},
   "source": [
    "19. Delete a tuple."
   ]
  },
  {
   "cell_type": "code",
   "execution_count": 50,
   "id": "aad400d3",
   "metadata": {},
   "outputs": [
    {
     "data": {
      "text/plain": [
       "(1, 3, 2, 4)"
      ]
     },
     "execution_count": 50,
     "metadata": {},
     "output_type": "execute_result"
    }
   ],
   "source": [
    "t=(1,3,2,4) #tuple creation\n",
    "\n"
   ]
  },
  {
   "cell_type": "markdown",
   "id": "4ace8038",
   "metadata": {},
   "source": [
    "20. Slice a tuple."
   ]
  },
  {
   "cell_type": "code",
   "execution_count": 47,
   "id": "f5ebbaab",
   "metadata": {},
   "outputs": [
    {
     "data": {
      "text/plain": [
       "(3, 7, 8)"
      ]
     },
     "execution_count": 47,
     "metadata": {},
     "output_type": "execute_result"
    }
   ],
   "source": [
    "t=(3,5,7,2,8,9,2) # tuple creation\n",
    "\n",
    "t[:5:2] #starting with 0th element upto 6th but not including 6th skipping every alternate element "
   ]
  },
  {
   "cell_type": "markdown",
   "id": "20bbfce0",
   "metadata": {},
   "source": [
    "21. Find the maximum value in a tuple."
   ]
  },
  {
   "cell_type": "code",
   "execution_count": 53,
   "id": "d23facfb",
   "metadata": {},
   "outputs": [
    {
     "data": {
      "text/plain": [
       "456"
      ]
     },
     "execution_count": 53,
     "metadata": {},
     "output_type": "execute_result"
    }
   ],
   "source": [
    "t=(12,4,2,2,456,8,4,3) # tuple creation\n",
    "\n",
    "max(t) # maximium value of a tuple"
   ]
  },
  {
   "cell_type": "markdown",
   "id": "757f7a8d",
   "metadata": {},
   "source": [
    "22. Find the minimum value in a tuple."
   ]
  },
  {
   "cell_type": "code",
   "execution_count": 55,
   "id": "60046242",
   "metadata": {},
   "outputs": [
    {
     "data": {
      "text/plain": [
       "2"
      ]
     },
     "execution_count": 55,
     "metadata": {},
     "output_type": "execute_result"
    }
   ],
   "source": [
    "t=(12,4,2,2,456,8,4,3) # tuple creation\n",
    "\n",
    "min(t) # minimum value of a tuple"
   ]
  },
  {
   "cell_type": "markdown",
   "id": "8c88469b",
   "metadata": {},
   "source": [
    "23. Convert a string to a tuple of characters."
   ]
  },
  {
   "cell_type": "code",
   "execution_count": 58,
   "id": "97b657e3",
   "metadata": {},
   "outputs": [],
   "source": [
    "string=\"Pwskills\"\n",
    "\n",
    "t=tuple(string) # conversion of a string  into tuple of characters"
   ]
  },
  {
   "cell_type": "markdown",
   "id": "b53c82e9",
   "metadata": {},
   "source": [
    "24. Convert a tuple of characters to a string."
   ]
  },
  {
   "cell_type": "code",
   "execution_count": 65,
   "id": "a7b40043",
   "metadata": {},
   "outputs": [
    {
     "name": "stdout",
     "output_type": "stream",
     "text": [
      "FInal string-  Pwskills\n"
     ]
    }
   ],
   "source": [
    "t # previously created tuple of characters\n",
    "\n",
    "stri=''# empty string\n",
    "\n",
    "for item in t:\n",
    "    stri=stri+str(item)\n",
    "    \n",
    "print('FInal string- ',stri)"
   ]
  },
  {
   "cell_type": "markdown",
   "id": "290270ec",
   "metadata": {},
   "source": [
    " 25. Create a tuple from multiple data types."
   ]
  },
  {
   "cell_type": "code",
   "execution_count": 66,
   "id": "74117699",
   "metadata": {},
   "outputs": [],
   "source": [
    "t=(1,3.4,\"Pwskills\",4+6j,[3,2,4,5])"
   ]
  },
  {
   "cell_type": "markdown",
   "id": "3dd24817",
   "metadata": {},
   "source": [
    "26. Check if two tuples are identical."
   ]
  },
  {
   "cell_type": "code",
   "execution_count": 67,
   "id": "7db73892",
   "metadata": {},
   "outputs": [
    {
     "name": "stdout",
     "output_type": "stream",
     "text": [
      "Not Identical\n"
     ]
    }
   ],
   "source": [
    "t=(1,2,3,4)# 1st tuple\n",
    "t1=(23,2,1,14,5) #2nd tuple\n",
    "\n",
    "if t==t1:\n",
    "    print(\"identical\")\n",
    "else:\n",
    "    print(\"Not Identical\")\n"
   ]
  },
  {
   "cell_type": "markdown",
   "id": "65682aec",
   "metadata": {},
   "source": [
    "27. Sort the elements of a tuple."
   ]
  },
  {
   "cell_type": "code",
   "execution_count": 74,
   "id": "af7d4c16",
   "metadata": {},
   "outputs": [
    {
     "data": {
      "text/plain": [
       "(2, 3, 3, 6, 7, 9, 23, 33)"
      ]
     },
     "execution_count": 74,
     "metadata": {},
     "output_type": "execute_result"
    }
   ],
   "source": [
    "t=(3,2,6,7,3,9,33,23) # tuple creation\n",
    "\n",
    "#converting the items to a list and then sort\n",
    "\n",
    "l=list(t)\n",
    "l.sort()\n",
    "\n",
    "# converting the sorted list to again tuple format\n",
    "tuple(l)"
   ]
  },
  {
   "cell_type": "markdown",
   "id": "e53cb5d8",
   "metadata": {},
   "source": [
    "28. Convert a tuple of integers to a tuple of strings."
   ]
  },
  {
   "cell_type": "code",
   "execution_count": 75,
   "id": "c755806a",
   "metadata": {},
   "outputs": [
    {
     "data": {
      "text/plain": [
       "('1', '2', '3', '4', '5')"
      ]
     },
     "execution_count": 75,
     "metadata": {},
     "output_type": "execute_result"
    }
   ],
   "source": [
    "t=(1,2,3,4,5) # tuple with integers\n",
    "\n",
    "l=[] # empty list\n",
    "\n",
    "for item in t:\n",
    "    l.append(str(item)) # appending items to list after string conversion\n",
    "    \n",
    "tuple(l)"
   ]
  },
  {
   "cell_type": "markdown",
   "id": "04a45eb2",
   "metadata": {},
   "source": [
    "29. Convert a tuple of strings to a tuple of integers."
   ]
  },
  {
   "cell_type": "code",
   "execution_count": 76,
   "id": "afcac767",
   "metadata": {},
   "outputs": [
    {
     "data": {
      "text/plain": [
       "(1, 2, 3, 4, 5)"
      ]
     },
     "execution_count": 76,
     "metadata": {},
     "output_type": "execute_result"
    }
   ],
   "source": [
    "t=('1', '2', '3', '4', '5') # tuple with string of integers\n",
    "\n",
    "l=[] # empty list\n",
    "\n",
    "for item in t:\n",
    "    l.append(int(item)) # appending items to list after string conversion\n",
    "    \n",
    "tuple(l)\n"
   ]
  },
  {
   "cell_type": "markdown",
   "id": "4afa554a",
   "metadata": {},
   "source": [
    "30. Merge two tuples."
   ]
  },
  {
   "cell_type": "code",
   "execution_count": 78,
   "id": "d4093c10",
   "metadata": {},
   "outputs": [
    {
     "data": {
      "text/plain": [
       "(1, 2, 3, 4, 2, 3, 5, 6)"
      ]
     },
     "execution_count": 78,
     "metadata": {},
     "output_type": "execute_result"
    }
   ],
   "source": [
    "t=(1,2,3,4) # 1st tuple\n",
    "t1=(2,3,5,6) # 2nd tuple\n",
    "\n",
    "new_tuple=t+t1\n",
    "\n",
    "new_tuple"
   ]
  },
  {
   "cell_type": "markdown",
   "id": "5c16a655",
   "metadata": {},
   "source": [
    "31. Flatten a nested tuple."
   ]
  },
  {
   "cell_type": "code",
   "execution_count": 85,
   "id": "bd513f2b",
   "metadata": {},
   "outputs": [
    {
     "name": "stdout",
     "output_type": "stream",
     "text": [
      "Flatten tuple-  (1, 2, 3, 4, 5, 6, 5, 6, 8, 9)\n"
     ]
    }
   ],
   "source": [
    "t=((1,2,3),(4,5,6),(5,6,8,9))\n",
    "\n",
    "l=[] # empty list\n",
    "\n",
    "def nested_tuple(tup):\n",
    "    for item in tup:\n",
    "        if type(item)==tuple:\n",
    "            nested_tuple(item)\n",
    "        else:\n",
    "            l.append(item)\n",
    "            \n",
    "    return l      \n",
    "\n",
    "p=nested_tuple(t)\n",
    "\n",
    "print(\"Flatten tuple- \",tuple(p))"
   ]
  },
  {
   "cell_type": "markdown",
   "id": "0e3bf92e",
   "metadata": {},
   "source": [
    "34. Create a tuple of squares of numbers from 1 to 5."
   ]
  },
  {
   "cell_type": "code",
   "execution_count": 87,
   "id": "8f0a94c8",
   "metadata": {},
   "outputs": [
    {
     "name": "stdout",
     "output_type": "stream",
     "text": [
      "(1, 4, 9, 16, 25)\n"
     ]
    }
   ],
   "source": [
    "l=[] # empty list\n",
    "\n",
    "for item in range(1,6):\n",
    "    l.append(item**2)\n",
    "    \n",
    "print(tuple(l)) # tuple with square of numbers"
   ]
  },
  {
   "cell_type": "markdown",
   "id": "69553380",
   "metadata": {},
   "source": [
    "35. Filter out all even numbers from a tuple."
   ]
  },
  {
   "cell_type": "code",
   "execution_count": 88,
   "id": "45c1fadc",
   "metadata": {},
   "outputs": [
    {
     "name": "stdout",
     "output_type": "stream",
     "text": [
      "Tuple with even nos-  (2, 4, 6, 8, 10)\n"
     ]
    }
   ],
   "source": [
    "t=(1,2,3,4,5,6,7,8,9,10) # tuple with integers 1 to 10\n",
    "\n",
    "l=[]#empty list\n",
    "\n",
    "for item in t:\n",
    "    if item%2==0:\n",
    "        l.append(item)\n",
    "        \n",
    "print(\"Tuple with even nos- \",tuple(l))"
   ]
  },
  {
   "cell_type": "markdown",
   "id": "3385e8ef",
   "metadata": {},
   "source": [
    "36. Multiply all elements in a tuple by 2."
   ]
  },
  {
   "cell_type": "code",
   "execution_count": 89,
   "id": "19a7c59c",
   "metadata": {},
   "outputs": [
    {
     "name": "stdout",
     "output_type": "stream",
     "text": [
      "Tuple with even nos-  (2, 4, 6, 8, 10, 12, 14, 16, 18, 20)\n"
     ]
    }
   ],
   "source": [
    "t=(1,2,3,4,5,6,7,8,9,10) # tuple with integers 1 to 10\n",
    "\n",
    "l=[]#empty list\n",
    "\n",
    "for item in t:\n",
    "    l.append(item*2)\n",
    "        \n",
    "print(\"Tuple with even nos- \",tuple(l))"
   ]
  },
  {
   "cell_type": "markdown",
   "id": "5bf4844a",
   "metadata": {},
   "source": [
    "37. Create a tuple of random numbers."
   ]
  },
  {
   "cell_type": "code",
   "execution_count": 91,
   "id": "97a59621",
   "metadata": {},
   "outputs": [
    {
     "name": "stdout",
     "output_type": "stream",
     "text": [
      "TUple with random numbers-  (0.1184417255302811, 0.7614256110766401, 0.28075228486412784, 0.1868117333571322)\n"
     ]
    }
   ],
   "source": [
    "import random\n",
    "\n",
    "l=[] # empty list\n",
    "\n",
    "for item in range(1,5):\n",
    "    l.append(random.random())\n",
    "    \n",
    "print(\"TUple with random numbers- \",tuple(l))"
   ]
  },
  {
   "cell_type": "markdown",
   "id": "aa574dc5",
   "metadata": {},
   "source": [
    "38. Check if a tuple is sorted"
   ]
  },
  {
   "cell_type": "code",
   "execution_count": 95,
   "id": "ad6f3e04",
   "metadata": {},
   "outputs": [
    {
     "name": "stdout",
     "output_type": "stream",
     "text": [
      "not sorted\n"
     ]
    }
   ],
   "source": [
    "t=(1,2,3,3,2,1) # tuple creation\n",
    "\n",
    "l=list(t) # converting it to a list\n",
    "\n",
    "if l==sorted(t):\n",
    "    print(\"tuple is sorted\")\n",
    "else:\n",
    "    print(\"not sorted\")"
   ]
  },
  {
   "cell_type": "markdown",
   "id": "1b149878",
   "metadata": {},
   "source": [
    "39. Rotate a tuple to the left by `n` positions."
   ]
  },
  {
   "cell_type": "code",
   "execution_count": 97,
   "id": "75876b65",
   "metadata": {},
   "outputs": [
    {
     "name": "stdout",
     "output_type": "stream",
     "text": [
      "Enter the index4\n",
      "(5, 4, 3, 2, 1, 6, 7, 8, 9)\n"
     ]
    }
   ],
   "source": [
    "t=(1,2,3,4,5,6,7,8,9) #initial tuple\n",
    "\n",
    "n=int(input(\"Enter the index\"))\n",
    "\n",
    "newtup=t[n::-1]+t[n+1::1]\n",
    "\n",
    "print(newtup)\n"
   ]
  },
  {
   "cell_type": "markdown",
   "id": "9fda63a9",
   "metadata": {},
   "source": [
    "40. Rotate a tuple to the right by `n` positions."
   ]
  },
  {
   "cell_type": "code",
   "execution_count": 98,
   "id": "e79be7e3",
   "metadata": {},
   "outputs": [
    {
     "name": "stdout",
     "output_type": "stream",
     "text": [
      "Enter the index4\n",
      "(1, 2, 3, 4, 5, 9, 8, 7, 6)\n"
     ]
    }
   ],
   "source": [
    "t=(1,2,3,4,5,6,7,8,9) #initial tuple\n",
    "\n",
    "n=int(input(\"Enter the index\"))\n",
    "\n",
    "newtup=t[:n+1:1]+t[:n:-1]\n",
    "\n",
    "print(newtup)"
   ]
  },
  {
   "cell_type": "markdown",
   "id": "811d659a",
   "metadata": {},
   "source": [
    "42. Create a tuple from user input."
   ]
  },
  {
   "cell_type": "code",
   "execution_count": 99,
   "id": "2ce2c6bb",
   "metadata": {},
   "outputs": [
    {
     "name": "stdout",
     "output_type": "stream",
     "text": [
      "5\n",
      "2\n",
      "\"Hi\"\n",
      "5\n",
      "final tuple -  ('5', '2', '\"Hi\"', '5')\n"
     ]
    }
   ],
   "source": [
    "l=[] # empty list\n",
    "\n",
    "for item in range(1,5):\n",
    "    l.append(input())\n",
    "\n",
    "print(\"final tuple - \",tuple(l))"
   ]
  },
  {
   "cell_type": "markdown",
   "id": "1a295345",
   "metadata": {},
   "source": [
    "43. Swap two elements in a tuple."
   ]
  },
  {
   "cell_type": "code",
   "execution_count": 102,
   "id": "76dc32c9",
   "metadata": {},
   "outputs": [
    {
     "name": "stdout",
     "output_type": "stream",
     "text": [
      "new list [2, 1, 3, 4]\n",
      "New tuple after swapping values (2, 1, 3, 4)\n"
     ]
    }
   ],
   "source": [
    "t=(1,2,3,4) # tuple creation\n",
    "\n",
    "l=list(t) # conversion to a list\n",
    "\n",
    "l1=l.copy() # creating a copy of the list\n",
    "\n",
    "l1[0],l1[1]=l[1],l[0]\n",
    "\n",
    "print(\"new list\",l1)\n",
    "\n",
    "print(\"New tuple after swapping values\", tuple(l1))\n"
   ]
  },
  {
   "cell_type": "markdown",
   "id": "3d06566b",
   "metadata": {},
   "source": [
    "44. Reverse the elements of a tuple."
   ]
  },
  {
   "cell_type": "code",
   "execution_count": 106,
   "id": "031e5c1a",
   "metadata": {},
   "outputs": [
    {
     "name": "stdout",
     "output_type": "stream",
     "text": [
      "Reversed Tuple-  (4, 3, 2, 1)\n"
     ]
    }
   ],
   "source": [
    "t=(1,2,3,4) # tuple creation\n",
    "\n",
    "l=sorted(t,reverse=True) #reversing\n",
    "\n",
    "print(\"Reversed Tuple- \",tuple(l))"
   ]
  },
  {
   "cell_type": "markdown",
   "id": "b5cb7f51",
   "metadata": {},
   "source": [
    "45. Create a tuple of the first `n` powers of 2."
   ]
  },
  {
   "cell_type": "code",
   "execution_count": 108,
   "id": "0a2c9c4b",
   "metadata": {},
   "outputs": [
    {
     "name": "stdout",
     "output_type": "stream",
     "text": [
      "Enter the power value 6\n",
      "Tuple with  6  powers of 2 (2, 4, 8, 16, 32, 64)\n"
     ]
    }
   ],
   "source": [
    "n=int(input(\"Enter the power value \"))\n",
    "\n",
    "l=[] # empty list\n",
    "\n",
    "for item in range(1,n+1):\n",
    "    l.append(2**item)\n",
    "    \n",
    "print(\"Tuple with \",n, \" powers of 2\",tuple(l))"
   ]
  },
  {
   "cell_type": "markdown",
   "id": "eca3d4af",
   "metadata": {},
   "source": [
    "46. Find the longest string in a tuple of strings."
   ]
  },
  {
   "cell_type": "code",
   "execution_count": 117,
   "id": "0b315d07",
   "metadata": {},
   "outputs": [
    {
     "name": "stdout",
     "output_type": "stream",
     "text": [
      "String with max_length value in the tuple- is  Machine Learnig   at index value -  3\n"
     ]
    }
   ],
   "source": [
    "t=(\"Pwskills\",\"DataScience\",\"AI\",\"Machine Learnig\") # tuple with string\n",
    "\n",
    "l=[] # empty list\n",
    "\n",
    "for item in t:\n",
    "    l.append(len(item)) # creating a list with the length of the string\n",
    "\n",
    "index_val=l.index(max(l))\n",
    "\n",
    "print(\"String with max_length value in the tuple- is \",str(t[index_val]),\"  at index value - \",index_val)"
   ]
  },
  {
   "cell_type": "markdown",
   "id": "f94e0c89",
   "metadata": {},
   "source": [
    "47. Find the shortest string in a tuple of strings."
   ]
  },
  {
   "cell_type": "code",
   "execution_count": 118,
   "id": "3409f608",
   "metadata": {},
   "outputs": [
    {
     "name": "stdout",
     "output_type": "stream",
     "text": [
      "String with min_length value in the tuple- is  AI   at index value -  2\n"
     ]
    }
   ],
   "source": [
    "t=(\"Pwskills\",\"DataScience\",\"AI\",\"Machine Learnig\") # tuple with string\n",
    "\n",
    "l=[] # empty list\n",
    "\n",
    "for item in t:\n",
    "    l.append(len(item)) # creating a list with the length of the string\n",
    "\n",
    "index_val=l.index(min(l))\n",
    "\n",
    "print(\"String with min_length value in the tuple- is \",str(t[index_val]),\"  at index value - \",index_val)"
   ]
  },
  {
   "cell_type": "markdown",
   "id": "3d58f9a7",
   "metadata": {},
   "source": [
    "48. Create a tuple of the first `n` triangular numbers."
   ]
  },
  {
   "cell_type": "code",
   "execution_count": 121,
   "id": "240350e8",
   "metadata": {},
   "outputs": [
    {
     "name": "stdout",
     "output_type": "stream",
     "text": [
      "Enter how many triangular no you want - 5\n",
      "Tuple with  5  triangular nos is  (0, 1, 3, 6, 10)\n"
     ]
    }
   ],
   "source": [
    "n=int(input(\"Enter how many triangular no you want - \"))\n",
    "\n",
    "l=[] # empty list creation\n",
    "\n",
    "for item in range(1,n+1):\n",
    "    sum1=0\n",
    "    for inner_item in range(1,item):\n",
    "        sum1=sum1+inner_item\n",
    "    l.append(sum1)\n",
    "    \n",
    "print(\"Tuple with \",n,\" triangular nos is \",tuple(l))"
   ]
  },
  {
   "cell_type": "markdown",
   "id": "1e55597d",
   "metadata": {},
   "source": [
    "50. Create a tuple of alternating 1s and 0s of length `n`."
   ]
  },
  {
   "cell_type": "code",
   "execution_count": 126,
   "id": "dd028f2c",
   "metadata": {},
   "outputs": [
    {
     "name": "stdout",
     "output_type": "stream",
     "text": [
      "Enter the length  you want 9\n",
      "Final tuple-  (1, 0, 1, 0, 1, 0, 1, 0, 1, 0)\n"
     ]
    }
   ],
   "source": [
    "n=int(input(\"Enter the length  you want \"))\n",
    "\n",
    "l=[] # empty list\n",
    "\n",
    "for item in range(0,n+1):\n",
    "    if item%2==0:\n",
    "        l.append(1)\n",
    "    else:\n",
    "        l.append(0)\n",
    "        \n",
    "print(\"Final tuple- \",tuple(l))\n",
    "        "
   ]
  },
  {
   "cell_type": "markdown",
   "id": "836e5225",
   "metadata": {},
   "source": [
    "# List Based Practice Problem :"
   ]
  },
  {
   "cell_type": "markdown",
   "id": "4521173b",
   "metadata": {},
   "source": [
    "1. Create a list with integers from 1 to 10."
   ]
  },
  {
   "cell_type": "code",
   "execution_count": 127,
   "id": "eb5ad9e1",
   "metadata": {},
   "outputs": [
    {
     "name": "stdout",
     "output_type": "stream",
     "text": [
      "Final list-  [1, 2, 3, 4, 5, 6, 7, 8, 9, 10]\n"
     ]
    }
   ],
   "source": [
    "l=[] # empty list\n",
    "\n",
    "for item in range(1,11):\n",
    "    l.append(item)\n",
    "    \n",
    "print(\"Final list- \",l)"
   ]
  },
  {
   "cell_type": "markdown",
   "id": "955b9d03",
   "metadata": {},
   "source": [
    "2. Find the length of a list without using the `len()` function."
   ]
  },
  {
   "cell_type": "code",
   "execution_count": 128,
   "id": "c972cfa1",
   "metadata": {},
   "outputs": [
    {
     "name": "stdout",
     "output_type": "stream",
     "text": [
      "The length of  [1, 2, 3, 4, 5, 6, 7, 8, 9, 10]  is  10\n"
     ]
    }
   ],
   "source": [
    "l=[1, 2, 3, 4, 5, 6, 7, 8, 9, 10]\n",
    "\n",
    "count=0 # initial value of length\n",
    "\n",
    "for item in l:\n",
    "    count+=1\n",
    "\n",
    "print(\"The length of \",l,\" is \",count)"
   ]
  },
  {
   "cell_type": "markdown",
   "id": "f71d7583",
   "metadata": {},
   "source": [
    "3. Append an element to the end of a list."
   ]
  },
  {
   "cell_type": "code",
   "execution_count": 131,
   "id": "e036ef5e",
   "metadata": {},
   "outputs": [
    {
     "name": "stdout",
     "output_type": "stream",
     "text": [
      "Enter the value to be apppended87\n",
      "Final list [1, 2, 3, 4, 5, 6, 7, 8, 9, 10, '87']\n"
     ]
    }
   ],
   "source": [
    "l=[1, 2, 3, 4, 5, 6, 7, 8, 9, 10] \n",
    "\n",
    "l.append(input(\"Enter the value to be apppended\")) # appending a user input to the list\n",
    "\n",
    "print(\"Final list\",l)"
   ]
  },
  {
   "cell_type": "markdown",
   "id": "0346dd73",
   "metadata": {},
   "source": [
    "4. Insert an element at a specific index in a list."
   ]
  },
  {
   "cell_type": "code",
   "execution_count": 132,
   "id": "04d92503",
   "metadata": {},
   "outputs": [
    {
     "name": "stdout",
     "output_type": "stream",
     "text": [
      "Enter the position value 3\n",
      "Enter the value to be inclded 88\n",
      "Final list  [1, 2, 3, '88', 4, 5, 6, 7, 8, 9, 10]\n"
     ]
    }
   ],
   "source": [
    "l=[1, 2, 3, 4, 5, 6, 7, 8, 9, 10] \n",
    "\n",
    "position=int(input(\"Enter the position value \"))\n",
    "val=input(\"Enter the value to be inclded \")\n",
    "\n",
    "l.insert(position,val)\n",
    "\n",
    "print(\"Final list \",l)"
   ]
  },
  {
   "cell_type": "markdown",
   "id": "db0eb471",
   "metadata": {},
   "source": [
    "5. Remove an element from a list by its value."
   ]
  },
  {
   "cell_type": "code",
   "execution_count": 134,
   "id": "e423d9e1",
   "metadata": {},
   "outputs": [
    {
     "name": "stdout",
     "output_type": "stream",
     "text": [
      "Enter the value to be removed 99\n",
      "Value not in list\n",
      "Final list [1, 2, 3, 4, 5, 6, 7, 8, 9, 10]\n"
     ]
    }
   ],
   "source": [
    "l=[1, 2, 3, 4, 5, 6, 7, 8, 9, 10] \n",
    "\n",
    "val=int(input(\"Enter the value to be removed \"))\n",
    "\n",
    "if val in l:\n",
    "    l.remove(val)\n",
    "else:\n",
    "    print(\"Value not in list\")\n",
    "    \n",
    "print(\"Final list\",l)"
   ]
  },
  {
   "cell_type": "markdown",
   "id": "cfd7206d",
   "metadata": {},
   "source": [
    "6. Remove an element from a list by its index."
   ]
  },
  {
   "cell_type": "code",
   "execution_count": 135,
   "id": "229e3a67",
   "metadata": {},
   "outputs": [
    {
     "name": "stdout",
     "output_type": "stream",
     "text": [
      "Enter the  index value to be removed 3\n",
      "Final list [1, 2, 3, 5, 6, 7, 8, 9, 10]\n"
     ]
    }
   ],
   "source": [
    "l=[1, 2, 3, 4, 5, 6, 7, 8, 9, 10] \n",
    "\n",
    "val=int(input(\"Enter the  index value to be removed \"))\n",
    "\n",
    "if val in l:\n",
    "    l.pop(val)\n",
    "    \n",
    "print(\"Final list\",l)"
   ]
  },
  {
   "cell_type": "markdown",
   "id": "144e2664",
   "metadata": {},
   "source": [
    "7. Check if an element exists in a list."
   ]
  },
  {
   "cell_type": "code",
   "execution_count": 136,
   "id": "4679e770",
   "metadata": {},
   "outputs": [
    {
     "name": "stdout",
     "output_type": "stream",
     "text": [
      "Enter the  value to be checked 99\n",
      "99  is not present in  [1, 2, 3, 4, 5, 6, 7, 8, 9, 10]\n"
     ]
    }
   ],
   "source": [
    "l=[1, 2, 3, 4, 5, 6, 7, 8, 9, 10] \n",
    "\n",
    "val=int(input(\"Enter the  value to be checked \"))\n",
    "\n",
    "if val in l:\n",
    "    print(val,\" is present in \",l)\n",
    "else:\n",
    "    print(val,\" is not present in \",l)\n",
    "    \n"
   ]
  },
  {
   "cell_type": "markdown",
   "id": "3dbd4333",
   "metadata": {},
   "source": [
    "8. Find the index of the first occurrence of an element in a list."
   ]
  },
  {
   "cell_type": "code",
   "execution_count": 138,
   "id": "55006569",
   "metadata": {},
   "outputs": [
    {
     "name": "stdout",
     "output_type": "stream",
     "text": [
      "Enter the  value to be checked 2\n",
      "first occurrence  of  2  is at index position  1\n"
     ]
    }
   ],
   "source": [
    "l=[1, 2, 3, 4, 2, 6, 2, 8, 9, 10] \n",
    "\n",
    "val=int(input(\"Enter the  value to be checked \"))\n",
    "\n",
    "print(\"first occurrence  of \",val ,\" is at index position \",l.index(val))"
   ]
  },
  {
   "cell_type": "markdown",
   "id": "db1e2fe3",
   "metadata": {},
   "source": [
    "9. Count the occurrences of an element in a list."
   ]
  },
  {
   "cell_type": "code",
   "execution_count": 139,
   "id": "f7affbca",
   "metadata": {},
   "outputs": [
    {
     "name": "stdout",
     "output_type": "stream",
     "text": [
      "Enter the  value to be checked 2\n",
      "2  is present   3  times\n"
     ]
    }
   ],
   "source": [
    "l=[1, 2, 3, 4, 2, 6, 2, 8, 9, 10] \n",
    "\n",
    "val=int(input(\"Enter the  value to be checked \"))\n",
    "\n",
    "print(val ,\" is present  \",l.count(val),\" times\")"
   ]
  },
  {
   "cell_type": "markdown",
   "id": "86b76e07",
   "metadata": {},
   "source": [
    "10. Reverse the order of elements in a list."
   ]
  },
  {
   "cell_type": "code",
   "execution_count": 144,
   "id": "97e04562",
   "metadata": {},
   "outputs": [
    {
     "name": "stdout",
     "output_type": "stream",
     "text": [
      "The reversed list is-  [10, 9, 8, 6, 4, 3, 2, 2, 2, 1]\n"
     ]
    }
   ],
   "source": [
    "l=[1, 2, 3, 4, 2, 6, 2, 8, 9, 10] \n",
    "\n",
    "l.sort(reverse=True)\n",
    "\n",
    "print(\"The reversed list is- \",l)"
   ]
  },
  {
   "cell_type": "markdown",
   "id": "80a9142d",
   "metadata": {},
   "source": [
    "11. Sort a list in ascending order."
   ]
  },
  {
   "cell_type": "code",
   "execution_count": 145,
   "id": "4fb140aa",
   "metadata": {},
   "outputs": [
    {
     "name": "stdout",
     "output_type": "stream",
     "text": [
      "Final list after sorting [0, 1, 2, 2, 2, 3, 4, 4, 8, 9, 21, 25]\n"
     ]
    }
   ],
   "source": [
    "l=[4,2,2,4,2,1,8,9,0,3,25,21] # list with random elements\n",
    "\n",
    "l.sort() #applying sort method by defualt ascending order\n",
    "\n",
    "print(\"Final list after sorting\",l)"
   ]
  },
  {
   "cell_type": "markdown",
   "id": "0ee67230",
   "metadata": {},
   "source": [
    "12. Sort a list in descending order."
   ]
  },
  {
   "cell_type": "code",
   "execution_count": 146,
   "id": "35303fbc",
   "metadata": {},
   "outputs": [
    {
     "name": "stdout",
     "output_type": "stream",
     "text": [
      "Final list after sorting [25, 21, 9, 8, 4, 4, 3, 2, 2, 2, 1, 0]\n"
     ]
    }
   ],
   "source": [
    "l=[4,2,2,4,2,1,8,9,0,3,25,21] # list with random elements\n",
    "\n",
    "l.sort(reverse=True) \n",
    "\n",
    "print(\"Final list after sorting\",l)"
   ]
  },
  {
   "cell_type": "markdown",
   "id": "db225934",
   "metadata": {},
   "source": [
    "13. Create a list of even numbers from 1 to 20."
   ]
  },
  {
   "cell_type": "code",
   "execution_count": 149,
   "id": "99a82fc8",
   "metadata": {},
   "outputs": [
    {
     "name": "stdout",
     "output_type": "stream",
     "text": [
      "Final list [2, 4, 6, 8, 10, 12, 14, 16, 18, 20]\n"
     ]
    }
   ],
   "source": [
    "l=[item for item in range(1,21) if item%2==0] #creating list using list comprehension\n",
    "print(\"Final list\",l)"
   ]
  },
  {
   "cell_type": "markdown",
   "id": "df3db8a0",
   "metadata": {},
   "source": [
    "14. Create a list of odd numbers from 1 to 20."
   ]
  },
  {
   "cell_type": "code",
   "execution_count": 150,
   "id": "d13a3c88",
   "metadata": {},
   "outputs": [
    {
     "name": "stdout",
     "output_type": "stream",
     "text": [
      "Final list [1, 3, 5, 7, 9, 11, 13, 15, 17, 19]\n"
     ]
    }
   ],
   "source": [
    "l=[item for item in range(1,21) if item%2!=0] #creating list using list comprehension\n",
    "print(\"Final list\",l)"
   ]
  },
  {
   "cell_type": "markdown",
   "id": "72203335",
   "metadata": {},
   "source": [
    "15. Find the sum of all elements in a list."
   ]
  },
  {
   "cell_type": "code",
   "execution_count": 152,
   "id": "d6ade3ea",
   "metadata": {},
   "outputs": [
    {
     "name": "stdout",
     "output_type": "stream",
     "text": [
      "Sum of all the elements in a list-  30\n"
     ]
    }
   ],
   "source": [
    "l=[2,1,3,4,5,6,3,6] # list with random elements\n",
    "\n",
    "print(\"Sum of all the elements in a list- \",sum(l)) # used sum function here"
   ]
  },
  {
   "cell_type": "markdown",
   "id": "507e7aa0",
   "metadata": {},
   "source": [
    "16. Find the maximum value in a list."
   ]
  },
  {
   "cell_type": "code",
   "execution_count": 153,
   "id": "b632a7e8",
   "metadata": {},
   "outputs": [
    {
     "name": "stdout",
     "output_type": "stream",
     "text": [
      "maximum of all the elements in a list-  6\n"
     ]
    }
   ],
   "source": [
    "l=[2,1,3,4,5,6,3,6] # list with random elements\n",
    "\n",
    "print(\"maximum of all the elements in a list- \",max(l)) # used max function here"
   ]
  },
  {
   "cell_type": "markdown",
   "id": "9365b40e",
   "metadata": {},
   "source": [
    "17. Find the minimum value in a list."
   ]
  },
  {
   "cell_type": "code",
   "execution_count": 154,
   "id": "88e77c24",
   "metadata": {},
   "outputs": [
    {
     "name": "stdout",
     "output_type": "stream",
     "text": [
      "minimum of all the elements in a list-  1\n"
     ]
    }
   ],
   "source": [
    "l=[2,1,3,4,5,6,3,6] # list with random elements\n",
    "\n",
    "print(\"minimum of all the elements in a list- \",min(l)) # used min function here"
   ]
  },
  {
   "cell_type": "markdown",
   "id": "fd31fcd6",
   "metadata": {},
   "source": [
    "18. Create a list of squares of numbers from 1 to 10."
   ]
  },
  {
   "cell_type": "code",
   "execution_count": 157,
   "id": "7b3f317e",
   "metadata": {},
   "outputs": [
    {
     "name": "stdout",
     "output_type": "stream",
     "text": [
      "Final list with squares is-  [1, 4, 9, 16, 25, 36, 49, 64, 81, 100]\n"
     ]
    }
   ],
   "source": [
    "l=[item**2 for item in range(1,11)] # using list comprehension method here\n",
    "\n",
    "print(\"Final list with squares is- \",l)"
   ]
  },
  {
   "cell_type": "markdown",
   "id": "c3bd7ce7",
   "metadata": {},
   "source": [
    "19. Create a list of random numbers."
   ]
  },
  {
   "cell_type": "code",
   "execution_count": 158,
   "id": "9887a756",
   "metadata": {},
   "outputs": [
    {
     "name": "stdout",
     "output_type": "stream",
     "text": [
      "Final list with squares is-  [0.5142915542968972, 0.5956158914381054, 0.6314315083418727, 0.5556005388312992]\n"
     ]
    }
   ],
   "source": [
    "import random\n",
    "l=[random.random() for item in range(1,5)] # using list comprehension method here creating five random numbers\n",
    "\n",
    "print(\"Final list with squares is- \",l)"
   ]
  },
  {
   "cell_type": "markdown",
   "id": "bc9133bd",
   "metadata": {},
   "source": [
    "20. Remove duplicates from a list."
   ]
  },
  {
   "cell_type": "code",
   "execution_count": 159,
   "id": "d474e616",
   "metadata": {},
   "outputs": [
    {
     "name": "stdout",
     "output_type": "stream",
     "text": [
      "Final list without duplicate values  [1, 2, 3, 4, 5, 6, 7]\n"
     ]
    }
   ],
   "source": [
    "l=[1,2,1,3,5,4,6,4,7,3,2,1] # list with duplicate elements\n",
    "\n",
    "list_without_duplicate=list(set(l))\n",
    "\n",
    "print(\"Final list without duplicate values \",list_without_duplicate)"
   ]
  },
  {
   "cell_type": "markdown",
   "id": "a807cfe0",
   "metadata": {},
   "source": [
    "21. Find the common elements between two lists."
   ]
  },
  {
   "cell_type": "code",
   "execution_count": 161,
   "id": "835d2ab1",
   "metadata": {},
   "outputs": [
    {
     "name": "stdout",
     "output_type": "stream",
     "text": [
      "list with common elements is- [2, 3]\n"
     ]
    }
   ],
   "source": [
    "l1=[1,2,3] # list1\n",
    "l2=[2,3,5,6,9] # list2\n",
    "\n",
    "common_element_list=list(set(l1).intersection(set(l2)))\n",
    "\n",
    "print(\"list with common elements is-\",common_element_list)"
   ]
  },
  {
   "cell_type": "markdown",
   "id": "f294cac2",
   "metadata": {},
   "source": [
    "22. Find the difference between two lists."
   ]
  },
  {
   "cell_type": "code",
   "execution_count": 166,
   "id": "e6c425d9",
   "metadata": {},
   "outputs": [
    {
     "data": {
      "text/plain": [
       "[9, 5, 6]"
      ]
     },
     "execution_count": 166,
     "metadata": {},
     "output_type": "execute_result"
    }
   ],
   "source": [
    "l1=[1,2,3] # list1\n",
    "l2=[2,3,5,6,9] # list2\n",
    "\n",
    "#elements present in l1 only\n",
    "list(set(l1).difference(set(l2)))\n",
    "\n",
    "#elements present in l2 only\n",
    "list(set(l2).difference(set(l1)))"
   ]
  },
  {
   "cell_type": "markdown",
   "id": "2b3bd493",
   "metadata": {},
   "source": [
    "23. Merge two lists."
   ]
  },
  {
   "cell_type": "code",
   "execution_count": 167,
   "id": "851d1652",
   "metadata": {},
   "outputs": [
    {
     "data": {
      "text/plain": [
       "[1, 2, 3, 2, 3, 5, 6, 9]"
      ]
     },
     "execution_count": 167,
     "metadata": {},
     "output_type": "execute_result"
    }
   ],
   "source": [
    "l1=[1,2,3] # list1\n",
    "l2=[2,3,5,6,9] # list2\n",
    "\n",
    "#after merging new list\n",
    "l1+l2"
   ]
  },
  {
   "cell_type": "markdown",
   "id": "58138ea1",
   "metadata": {},
   "source": [
    "24. Multiply all elements in a list by 2."
   ]
  },
  {
   "cell_type": "code",
   "execution_count": 168,
   "id": "d70224a8",
   "metadata": {},
   "outputs": [
    {
     "name": "stdout",
     "output_type": "stream",
     "text": [
      "New multiplied by 2 list  [2, 6, 4, 12, 8, 18]\n"
     ]
    }
   ],
   "source": [
    "l=[1,3,2,6,4,9] # initial list\n",
    "\n",
    "new_list=[item *2 for item in l]\n",
    "\n",
    "print(\"New multiplied by 2 list \", new_list)"
   ]
  },
  {
   "cell_type": "markdown",
   "id": "4975b30e",
   "metadata": {},
   "source": [
    "25. Filter out all even numbers from a list."
   ]
  },
  {
   "cell_type": "code",
   "execution_count": 170,
   "id": "a21c8624",
   "metadata": {},
   "outputs": [
    {
     "name": "stdout",
     "output_type": "stream",
     "text": [
      "New even no list  [2, 6, 4]\n"
     ]
    }
   ],
   "source": [
    "l=[1,3,2,6,4,9] # initial list\n",
    "\n",
    "new_list=[item for item in l if item%2==0]\n",
    "\n",
    "print(\"New even no list \", new_list)"
   ]
  },
  {
   "cell_type": "markdown",
   "id": "18f5608b",
   "metadata": {},
   "source": [
    "26. Convert a list of strings to a list of integers."
   ]
  },
  {
   "cell_type": "code",
   "execution_count": 171,
   "id": "131d5cba",
   "metadata": {},
   "outputs": [
    {
     "name": "stdout",
     "output_type": "stream",
     "text": [
      "New list with integers  [1, 4, 6, 8]\n"
     ]
    }
   ],
   "source": [
    "l=['1','4','6','8'] # list with string \n",
    "\n",
    "new_int_list=[int(item) for item in l] # type cast string to integers\n",
    "\n",
    "print(\"New list with integers \",new_int_list)"
   ]
  },
  {
   "cell_type": "markdown",
   "id": "a3b77287",
   "metadata": {},
   "source": [
    "27. Convert a list of integers to a list of strings."
   ]
  },
  {
   "cell_type": "code",
   "execution_count": 172,
   "id": "1afc9462",
   "metadata": {},
   "outputs": [
    {
     "name": "stdout",
     "output_type": "stream",
     "text": [
      "New list with integers  ['1', '4', '6', '8']\n"
     ]
    }
   ],
   "source": [
    "l=[1, 4, 6, 8]# list with integers \n",
    "\n",
    "new_str_list=[str(item) for item in l] # type cast integers to string\n",
    "\n",
    "print(\"New list with integers \",new_str_list)"
   ]
  },
  {
   "cell_type": "markdown",
   "id": "a27a38ae",
   "metadata": {},
   "source": [
    "28. Flatten a nested list."
   ]
  },
  {
   "cell_type": "code",
   "execution_count": 177,
   "id": "1292ed51",
   "metadata": {},
   "outputs": [
    {
     "name": "stdout",
     "output_type": "stream",
     "text": [
      "Final list after flatten  [1, 2, 3, 4, 5, 6, 7, 8, 9, 2, 1]\n"
     ]
    }
   ],
   "source": [
    "l=[1,2,3,4,[5,6,7,8],[9,2,1]]\n",
    "\n",
    "l1=[] # empty list\n",
    "\n",
    "def nest_list(lis):\n",
    "    for item in lis:\n",
    "        if type(item)==list:\n",
    "            nest_list(item)\n",
    "        else:\n",
    "            l1.append(item)\n",
    "    \n",
    "    return l1\n",
    "\n",
    "print(\"Final list after flatten \",nest_list(l))\n",
    "\n"
   ]
  },
  {
   "cell_type": "markdown",
   "id": "103a5b45",
   "metadata": {},
   "source": [
    "30. Check if a list is sorted."
   ]
  },
  {
   "cell_type": "code",
   "execution_count": 178,
   "id": "58be95cf",
   "metadata": {},
   "outputs": [
    {
     "name": "stdout",
     "output_type": "stream",
     "text": [
      "List not sorted\n"
     ]
    }
   ],
   "source": [
    "l= [1, 2, 3, 4, 5, 6, 7, 8, 9, 2, 1] # list with random elements\n",
    "\n",
    "new_list=l.copy() # creating copy of the list\n",
    "\n",
    "l.sort() # sorting th original list\n",
    "\n",
    "if new_list==l:\n",
    "    print(\"List is sorted\")\n",
    "else:\n",
    "    print(\"List not sorted\")\n"
   ]
  },
  {
   "cell_type": "markdown",
   "id": "000e02d5",
   "metadata": {},
   "source": [
    "31. Rotate a list to the left by `n` positions."
   ]
  },
  {
   "cell_type": "code",
   "execution_count": 180,
   "id": "5ef67e0d",
   "metadata": {},
   "outputs": [
    {
     "name": "stdout",
     "output_type": "stream",
     "text": [
      "Enter the position value 4\n",
      "After rotating  [5, 4, 3, 2, 1, 6, 7, 8, 9]\n"
     ]
    }
   ],
   "source": [
    "n=int(input(\"Enter the position value \"))\n",
    "\n",
    "l=[1,2,3,4,5,6,7,8,9] # original list\n",
    "\n",
    "new_list=l[n::-1]+l[n+1::1]\n",
    "\n",
    "print(\"After rotating \",new_list)"
   ]
  },
  {
   "cell_type": "markdown",
   "id": "9266f04f",
   "metadata": {},
   "source": [
    "32. Rotate a list to the right by `n` positions."
   ]
  },
  {
   "cell_type": "code",
   "execution_count": 209,
   "id": "d7312844",
   "metadata": {},
   "outputs": [
    {
     "name": "stdout",
     "output_type": "stream",
     "text": [
      "Enter the position value 3\n",
      "After rotating  [1, 2, 9, 8, 7, 6, 5, 4, 3]\n"
     ]
    }
   ],
   "source": [
    "n=int(input(\"Enter the position value \"))\n",
    "\n",
    "l=[1,2,3,4,5,6,7,8,9] # original list\n",
    "\n",
    "new_list=l[:n-1:1]+l[:n-2:-1]\n",
    "\n",
    "print(\"After rotating \",new_list)"
   ]
  },
  {
   "cell_type": "markdown",
   "id": "d9cc3029",
   "metadata": {},
   "source": [
    "35. Find the second largest number in a list."
   ]
  },
  {
   "cell_type": "code",
   "execution_count": 211,
   "id": "bfbfc7d9",
   "metadata": {},
   "outputs": [
    {
     "data": {
      "text/plain": [
       "7"
      ]
     },
     "execution_count": 211,
     "metadata": {},
     "output_type": "execute_result"
    }
   ],
   "source": [
    "l=[2,3,2,1,7,6,9,3] # original list\n",
    "\n",
    "l.sort(reverse=True) # sorting in reverse order\n",
    "\n",
    "#after sorted in reverse order \n",
    "l\n",
    "\n",
    "#2nd largest element\n",
    "l[1]"
   ]
  },
  {
   "cell_type": "markdown",
   "id": "9193e416",
   "metadata": {},
   "source": [
    "36. Replace every element in a list with its square."
   ]
  },
  {
   "cell_type": "code",
   "execution_count": 213,
   "id": "e287586d",
   "metadata": {},
   "outputs": [
    {
     "name": "stdout",
     "output_type": "stream",
     "text": [
      "[4, 9, 4, 1, 49, 36, 81, 9]\n"
     ]
    }
   ],
   "source": [
    "l=[2,3,2,1,7,6,9,3] # original list\n",
    "\n",
    "new_list=[item**2 for item in l]\n",
    "\n",
    "print(new_list)"
   ]
  },
  {
   "cell_type": "markdown",
   "id": "606f2905",
   "metadata": {},
   "source": [
    "37. Convert a list to a dictionary where list elements become keys and their\n",
    "indices become values."
   ]
  },
  {
   "cell_type": "code",
   "execution_count": 214,
   "id": "b9cc9d5a",
   "metadata": {},
   "outputs": [
    {
     "name": "stdout",
     "output_type": "stream",
     "text": [
      "New dictionary  {2: 0, 3: 1, 1: 3, 7: 4, 6: 5, 9: 6}\n"
     ]
    }
   ],
   "source": [
    "l=[2,3,2,1,7,6,9,3] # original list\n",
    "\n",
    "new_diction={item:l.index(item) for item in l}\n",
    "\n",
    "print(\"New dictionary \",new_diction)"
   ]
  },
  {
   "cell_type": "markdown",
   "id": "86ff61fc",
   "metadata": {},
   "source": [
    "38. Shuffle the elements of a list randomly."
   ]
  },
  {
   "cell_type": "code",
   "execution_count": 215,
   "id": "50cc5449",
   "metadata": {},
   "outputs": [
    {
     "name": "stdout",
     "output_type": "stream",
     "text": [
      "[6, 6, 5, 4, 8, 2, 7, 3, 4, 1, 9]\n"
     ]
    }
   ],
   "source": [
    "import random\n",
    "\n",
    "mylist = [1,4,2,7,9,4,6,3,8,5,6]\n",
    "random.shuffle(mylist)\n",
    "\n",
    "print(mylist)"
   ]
  },
  {
   "cell_type": "markdown",
   "id": "1bd0333c",
   "metadata": {},
   "source": [
    "39. Create a list of the first 10 factorial numbers.\n"
   ]
  },
  {
   "cell_type": "code",
   "execution_count": 217,
   "id": "ecf37fa6",
   "metadata": {},
   "outputs": [
    {
     "data": {
      "text/plain": [
       "[1, 2, 6, 24, 120, 720, 5040, 40320, 362880, 3628800]"
      ]
     },
     "execution_count": 217,
     "metadata": {},
     "output_type": "execute_result"
    }
   ],
   "source": [
    "def facto(): #defining function of factorial\n",
    "    \n",
    "    new_list=[] # empty list    \n",
    "    \n",
    "    for item in range(1,11):\n",
    "        fact=1 # for multiplication\n",
    "        for inner_item in range(1,item+1):\n",
    "            fact=fact*inner_item\n",
    "        \n",
    "        new_list.append(fact)\n",
    "    \n",
    "    return new_list\n",
    "\n",
    "\n",
    "facto() # calling factorial function"
   ]
  },
  {
   "cell_type": "markdown",
   "id": "d9c7340f",
   "metadata": {},
   "source": [
    "40. Check if two lists have at least one element in common."
   ]
  },
  {
   "cell_type": "code",
   "execution_count": 218,
   "id": "227d1717",
   "metadata": {},
   "outputs": [
    {
     "name": "stdout",
     "output_type": "stream",
     "text": [
      "at least one element common\n"
     ]
    }
   ],
   "source": [
    "l=[1,2,3,4] # list1\n",
    "l1=[2,3,4,5,6] # list2\n",
    "\n",
    "if len(set(l1).intersection(set(l2)))>=1:\n",
    "    print(\"at least one element common\")\n",
    "else:\n",
    "    print(\"No element in common\")"
   ]
  },
  {
   "cell_type": "markdown",
   "id": "54286cc6",
   "metadata": {},
   "source": [
    "41. Remove all elements from a list."
   ]
  },
  {
   "cell_type": "code",
   "execution_count": 221,
   "id": "9f9bb5a1",
   "metadata": {},
   "outputs": [
    {
     "name": "stdout",
     "output_type": "stream",
     "text": [
      "New_list- []\n"
     ]
    }
   ],
   "source": [
    "l=[3,4,5,2,2,1,5,7,8,9] # initial list\n",
    "\n",
    "l.clear() # remove all elements from the list\n",
    "\n",
    "print(\"New_list-\",l)"
   ]
  },
  {
   "cell_type": "markdown",
   "id": "bf14f4bd",
   "metadata": {},
   "source": [
    "42. Replace negative numbers in a list with 0."
   ]
  },
  {
   "cell_type": "code",
   "execution_count": 223,
   "id": "9219077f",
   "metadata": {},
   "outputs": [
    {
     "name": "stdout",
     "output_type": "stream",
     "text": [
      "New list-  [2, 4, 2, 0, 2, 0, 0, 0]\n"
     ]
    }
   ],
   "source": [
    "l=[2,4,2,2-4,2,-5,-6,-2] # initial elements\n",
    "\n",
    "for item in range(len(l)):\n",
    "    if l[item]<0:\n",
    "        l[item]=0\n",
    "        \n",
    "print(\"New list- \",l)\n",
    "        "
   ]
  },
  {
   "cell_type": "markdown",
   "id": "05b2c61c",
   "metadata": {},
   "source": [
    "43. Convert a string into a list of words."
   ]
  },
  {
   "cell_type": "code",
   "execution_count": 226,
   "id": "6e2fd240",
   "metadata": {},
   "outputs": [
    {
     "data": {
      "text/plain": [
       "['Now', 'i', 'am', 'in', 'the', 'list', 'assignment', 'section']"
      ]
     },
     "execution_count": 226,
     "metadata": {},
     "output_type": "execute_result"
    }
   ],
   "source": [
    "string=\"Now i am in the list assignment section\"\n",
    "\n",
    "string.split(\" \") # list of words"
   ]
  },
  {
   "cell_type": "markdown",
   "id": "4f1f67d6",
   "metadata": {},
   "source": [
    "44. Convert a list of words into a string."
   ]
  },
  {
   "cell_type": "code",
   "execution_count": 228,
   "id": "d6b8f531",
   "metadata": {},
   "outputs": [
    {
     "name": "stdout",
     "output_type": "stream",
     "text": [
      "New string-    Now i am in the list assignment section\n"
     ]
    }
   ],
   "source": [
    "l=['Now', 'i', 'am', 'in', 'the', 'list', 'assignment', 'section']# list of words\n",
    "\n",
    "string=\" \" # empty string\n",
    "\n",
    "for item in l:\n",
    "    string=string+\" \"+str(item)\n",
    "    \n",
    "print(\"New string- \",string)"
   ]
  },
  {
   "cell_type": "markdown",
   "id": "8d7e5acf",
   "metadata": {},
   "source": [
    "45. Create a list of the first `n` powers of 2."
   ]
  },
  {
   "cell_type": "code",
   "execution_count": 230,
   "id": "a28352be",
   "metadata": {},
   "outputs": [
    {
     "name": "stdout",
     "output_type": "stream",
     "text": [
      "Enter The power value6\n",
      "New List-  [2, 4, 8, 16, 32, 64]\n"
     ]
    }
   ],
   "source": [
    "n=int(input(\"Enter The power value\"))\n",
    "\n",
    "l=[] # empty list\n",
    "\n",
    "for item in range(1,n+1):\n",
    "    l.append(2**item)\n",
    "    \n",
    "print(\"New List- \",l)"
   ]
  },
  {
   "cell_type": "markdown",
   "id": "354e98f1",
   "metadata": {},
   "source": [
    "# String Based Assignment Problem"
   ]
  },
  {
   "cell_type": "markdown",
   "id": "4c219957",
   "metadata": {},
   "source": [
    "1. Write a program to reverse a string."
   ]
  },
  {
   "cell_type": "code",
   "execution_count": 1,
   "id": "12294057",
   "metadata": {},
   "outputs": [
    {
     "name": "stdout",
     "output_type": "stream",
     "text": [
      "Reversed String - melborp tnemngissa esab gnirts ts1 ym si sihT\n"
     ]
    }
   ],
   "source": [
    "string=\"This is my 1st string base assignment problem\"\n",
    "\n",
    "print(\"Reversed String -\",string[::-1])"
   ]
  },
  {
   "cell_type": "markdown",
   "id": "304a8ba5",
   "metadata": {},
   "source": [
    "2. Check if a string is a palindrome."
   ]
  },
  {
   "cell_type": "code",
   "execution_count": 2,
   "id": "9f6ecc8e",
   "metadata": {},
   "outputs": [
    {
     "name": "stdout",
     "output_type": "stream",
     "text": [
      "This is a Palindrome string\n"
     ]
    }
   ],
   "source": [
    "string=\"MadaM\"\n",
    "\n",
    "if string==string[::-1]:\n",
    "    print(\"This is a Palindrome string\")\n",
    "else:\n",
    "    print(\"This is not a palindrome string\")"
   ]
  },
  {
   "cell_type": "markdown",
   "id": "d7d4dec4",
   "metadata": {},
   "source": [
    "3. Convert a string to uppercase."
   ]
  },
  {
   "cell_type": "code",
   "execution_count": 3,
   "id": "a55d04b3",
   "metadata": {},
   "outputs": [
    {
     "data": {
      "text/plain": [
       "'STRING UPPERCASE CONVERSION'"
      ]
     },
     "execution_count": 3,
     "metadata": {},
     "output_type": "execute_result"
    }
   ],
   "source": [
    "string=\"String uppercase conversion\"\n",
    "\n",
    "string.upper() # upper() changes every character of a string yo uppercase letter"
   ]
  },
  {
   "cell_type": "markdown",
   "id": "f0f0bdf6",
   "metadata": {},
   "source": [
    "4. Convert a string to lowercase."
   ]
  },
  {
   "cell_type": "code",
   "execution_count": 4,
   "id": "00ea25d2",
   "metadata": {},
   "outputs": [
    {
     "data": {
      "text/plain": [
       "'string uppercase conversion'"
      ]
     },
     "execution_count": 4,
     "metadata": {},
     "output_type": "execute_result"
    }
   ],
   "source": [
    "string='STRING UPPERCASE CONVERSION'\n",
    "\n",
    "string.lower() # lower() changes every character of a string yo lowercase letter"
   ]
  },
  {
   "cell_type": "markdown",
   "id": "8f6d68f4",
   "metadata": {},
   "source": [
    "5. Count the number of vowels in a string."
   ]
  },
  {
   "cell_type": "code",
   "execution_count": 6,
   "id": "ecda158a",
   "metadata": {},
   "outputs": [
    {
     "name": "stdout",
     "output_type": "stream",
     "text": [
      "Total number of vowels in the string is-  8\n"
     ]
    }
   ],
   "source": [
    "string=\"this is th fifTh Assignment problem\"\n",
    "\n",
    "vowel_list=['a','e','i','o','u']\n",
    "\n",
    "vowel_count=0\n",
    "\n",
    "for item in string.lower():\n",
    "    if item in vowel_list:\n",
    "        vowel_count+=1\n",
    "        \n",
    "print(\"Total number of vowels in the string is- \",vowel_count)"
   ]
  },
  {
   "cell_type": "markdown",
   "id": "7eb30686",
   "metadata": {},
   "source": [
    "6. Count the number of consonants in a string."
   ]
  },
  {
   "cell_type": "code",
   "execution_count": 8,
   "id": "92fd144e",
   "metadata": {},
   "outputs": [
    {
     "name": "stdout",
     "output_type": "stream",
     "text": [
      "Total number of consonent in the string is-  22\n"
     ]
    }
   ],
   "source": [
    "string=\"this is th fifTh Assignment problem\"\n",
    "\n",
    "vowel_space_list=['a','e','i','o','u',\" \"]\n",
    "\n",
    "consonent_count=0\n",
    "\n",
    "for item in string.lower():\n",
    "    if item  not in vowel_space_list:\n",
    "        consonent_count+=1\n",
    "        \n",
    "print(\"Total number of consonent in the string is- \",consonent_count)"
   ]
  },
  {
   "cell_type": "markdown",
   "id": "11f8174a",
   "metadata": {},
   "source": [
    "7. Remove all whitespaces from a string."
   ]
  },
  {
   "cell_type": "code",
   "execution_count": 9,
   "id": "532ae231",
   "metadata": {},
   "outputs": [
    {
     "name": "stdout",
     "output_type": "stream",
     "text": [
      "Enter the stringspace removal program\n",
      "The new string without space is-  spaceremovalprogram\n"
     ]
    }
   ],
   "source": [
    "#user given input for space removal\n",
    "\n",
    "string=input(\"Enter the string\")\n",
    "new_string='' #creating a blank string\n",
    "\n",
    "for character in string.strip():\n",
    "    if character.isspace()==True:\n",
    "        continue\n",
    "    else:\n",
    "        new_string=new_string+character\n",
    "\n",
    "print(\"The new string without space is- \",new_string)\n"
   ]
  },
  {
   "cell_type": "markdown",
   "id": "a66ed234",
   "metadata": {},
   "source": [
    "8. Find the length of a string without using the `len()` function."
   ]
  },
  {
   "cell_type": "code",
   "execution_count": 12,
   "id": "8b043310",
   "metadata": {},
   "outputs": [
    {
     "name": "stdout",
     "output_type": "stream",
     "text": [
      "Enter the string- length count problem\n",
      "Total length of the string-  20\n"
     ]
    }
   ],
   "source": [
    "string=input(\"Enter the string- \")\n",
    "\n",
    "length_count=0 # initial value of length is set to be zero\n",
    "\n",
    "for item in string:\n",
    "    length_count+=1\n",
    "    \n",
    "print(\"Total length of the string- \",length_count)"
   ]
  },
  {
   "cell_type": "markdown",
   "id": "9ebe612b",
   "metadata": {},
   "source": [
    "9. Check if a string contains a specific word."
   ]
  },
  {
   "cell_type": "code",
   "execution_count": 14,
   "id": "56bddc09",
   "metadata": {},
   "outputs": [
    {
     "name": "stdout",
     "output_type": "stream",
     "text": [
      "Enter the string- find specific word\n",
      "Enter the word to be checked- word\n",
      "word  is present in  find specific word\n"
     ]
    }
   ],
   "source": [
    "string=input(\"Enter the string- \")\n",
    "val=input(\"Enter the word to be checked- \")\n",
    "\n",
    "if val in string:\n",
    "    print(val,\" is present in \",string)\n",
    "else:\n",
    "     print(val,\" is not present in \",string)"
   ]
  },
  {
   "cell_type": "markdown",
   "id": "abf1f878",
   "metadata": {},
   "source": [
    "10. Replace a word in a string with another word."
   ]
  },
  {
   "cell_type": "code",
   "execution_count": 25,
   "id": "517b576d",
   "metadata": {},
   "outputs": [
    {
     "name": "stdout",
     "output_type": "stream",
     "text": [
      "Enter the original string- hi this is\n",
      "ENter the word to be replaced-my\n",
      "Enter the replaced word- with\n",
      "my  not present in  hi this is\n"
     ]
    }
   ],
   "source": [
    "string=input(\"Enter the original string- \")\n",
    "\n",
    "old_string=input(\"ENter the word to be replaced-\")\n",
    "new_string=input(\"Enter the replaced word- \")\n",
    "\n",
    "l=string.split() # list of separated words\n",
    "\n",
    "if old_string in l:\n",
    "    \n",
    "    l[l.index(old_string)]=new_string\n",
    "\n",
    "    final_string='' # creating an empty string\n",
    "\n",
    "    for item in l:\n",
    "        final_string=final_string+\" \"+item # word concatination and creating final string\n",
    "    \n",
    "    print(\"Final string is - \",final_string)\n",
    "\n",
    "else:\n",
    "    print(old_string,\" not present in \",string)"
   ]
  },
  {
   "cell_type": "markdown",
   "id": "3d52172a",
   "metadata": {},
   "source": [
    "11. Count the occurrences of a word in a string.\n"
   ]
  },
  {
   "cell_type": "code",
   "execution_count": 29,
   "id": "0de55a1c",
   "metadata": {},
   "outputs": [
    {
     "name": "stdout",
     "output_type": "stream",
     "text": [
      "Enter the original string- hi this is\n",
      "ENter the word for which count to be checked- my\n",
      "my  is not present in  hi this is\n"
     ]
    }
   ],
   "source": [
    "string=input(\"Enter the original string- \")\n",
    "\n",
    "old_string=input(\"ENter the word for which count to be checked- \")\n",
    "\n",
    "l=string.split() # list of separated words\n",
    "\n",
    "if old_string in string:\n",
    "        print(old_string ,\" - \",l.count(old_string),\" times present in \",string)\n",
    "else:\n",
    "    print(old_string ,\" is not present in \",string)"
   ]
  },
  {
   "cell_type": "markdown",
   "id": "569c79ed",
   "metadata": {},
   "source": [
    "12. Find the first occurrence of a word in a string."
   ]
  },
  {
   "cell_type": "code",
   "execution_count": 31,
   "id": "c48eeed2",
   "metadata": {},
   "outputs": [
    {
     "name": "stdout",
     "output_type": "stream",
     "text": [
      "Enter the original string- hi this is my\n",
      "ENter the word for which first occurrence to be checked- pwskills\n",
      "pwskills  is not present in  hi this is my\n"
     ]
    }
   ],
   "source": [
    "string=input(\"Enter the original string- \")\n",
    "\n",
    "old_string=input(\"ENter the word for which first occurrence to be checked- \")\n",
    "\n",
    "l=string.split() # list of separated words\n",
    "\n",
    "if old_string in string:\n",
    "        print(old_string ,\" - is at index no- \",l.index(old_string))\n",
    "else:\n",
    "    print(old_string ,\" is not present in \",string)"
   ]
  },
  {
   "cell_type": "markdown",
   "id": "db40f323",
   "metadata": {},
   "source": [
    "13. Find the last occurrence of a word in a string."
   ]
  },
  {
   "cell_type": "code",
   "execution_count": 37,
   "id": "2792299b",
   "metadata": {},
   "outputs": [
    {
     "name": "stdout",
     "output_type": "stream",
     "text": [
      "Enter the original string- hi this is this is\n",
      "ENter the word for which first occurrence to be checked- this\n",
      "this is present at index nummber  3  position\n"
     ]
    }
   ],
   "source": [
    "string=input(\"Enter the original string- \")\n",
    "\n",
    "old_string=input(\"ENter the word for which first occurrence to be checked- \")\n",
    "\n",
    "l=string.split() # list of separated words\n",
    "\n",
    "if old_string in l:\n",
    "    for item in range(len(l),0,-1):\n",
    "        if l[item-1]==old_string:\n",
    "            print(old_string ,\"is present at index nummber \",item-1,\" position \")\n",
    "            break\n",
    "\n",
    "else:\n",
    "    print(old_string,\" not present in \",string)"
   ]
  },
  {
   "cell_type": "markdown",
   "id": "1e0ee51b",
   "metadata": {},
   "source": [
    "14. Split a string into a list of words."
   ]
  },
  {
   "cell_type": "code",
   "execution_count": 39,
   "id": "2cf6b61a",
   "metadata": {},
   "outputs": [
    {
     "name": "stdout",
     "output_type": "stream",
     "text": [
      "Enter the original string- hi this is my\n",
      "list of separated words-  ['hi', 'this', 'is', 'my']\n"
     ]
    }
   ],
   "source": [
    "string=input(\"Enter the original string- \")\n",
    "\n",
    "l=string.split() # list of separated words\n",
    "\n",
    "print(\"list of separated words- \",l)"
   ]
  },
  {
   "cell_type": "markdown",
   "id": "493057a4",
   "metadata": {},
   "source": [
    "15. Join a list of words into a string."
   ]
  },
  {
   "cell_type": "code",
   "execution_count": 41,
   "id": "882225a9",
   "metadata": {},
   "outputs": [
    {
     "name": "stdout",
     "output_type": "stream",
     "text": [
      "final string-   hi this is my\n"
     ]
    }
   ],
   "source": [
    "l=['hi', 'this', 'is', 'my'] # list of separated words\n",
    "\n",
    "string='' # creating empty string\n",
    "\n",
    "for item in l:\n",
    "    string=string+\" \"+item\n",
    "    \n",
    "print(\"final string- \",string)"
   ]
  },
  {
   "cell_type": "markdown",
   "id": "97dee393",
   "metadata": {},
   "source": [
    "16. Convert a string where words are separated by spaces to one where words\n",
    "are separated by underscores."
   ]
  },
  {
   "cell_type": "code",
   "execution_count": 44,
   "id": "4284d3f4",
   "metadata": {},
   "outputs": [
    {
     "data": {
      "text/plain": [
       "'space_to_be_replaced_by_underscore'"
      ]
     },
     "execution_count": 44,
     "metadata": {},
     "output_type": "execute_result"
    }
   ],
   "source": [
    "string=\"space to be replaced by underscore\"\n",
    "string.replace(\" \",\"_\") # conversion of space to underscore using replace function"
   ]
  },
  {
   "cell_type": "markdown",
   "id": "1707d652",
   "metadata": {},
   "source": [
    "17. Check if a string starts with a specific word or phrase."
   ]
  },
  {
   "cell_type": "code",
   "execution_count": 47,
   "id": "cc25de40",
   "metadata": {},
   "outputs": [
    {
     "name": "stdout",
     "output_type": "stream",
     "text": [
      "Enter the original string- hi this is\n",
      "Enter the word to be checked in the original string- no\n",
      "No,  hi this is   not starts with  no\n"
     ]
    }
   ],
   "source": [
    "string=input(\"Enter the original string- \")\n",
    "\n",
    "string_to_be=input(\"Enter the word to be checked in the original string- \")\n",
    "\n",
    "if string.startswith(string_to_be):\n",
    "    print(\"Yes, \",string,\" starts with \",string_to_be)\n",
    "else:\n",
    "    print(\"No, \",string,\"  not starts with \",string_to_be)"
   ]
  },
  {
   "cell_type": "markdown",
   "id": "1fb7a914",
   "metadata": {},
   "source": [
    "18. Check if a string ends with a specific word or phrase."
   ]
  },
  {
   "cell_type": "code",
   "execution_count": 48,
   "id": "be4c10cf",
   "metadata": {},
   "outputs": [
    {
     "name": "stdout",
     "output_type": "stream",
     "text": [
      "Enter the original string- hi this is\n",
      "Enter the word to be checked in the original string- is\n",
      "Yes,  hi this is  ends with  is\n"
     ]
    }
   ],
   "source": [
    "string=input(\"Enter the original string- \")\n",
    "\n",
    "string_to_be=input(\"Enter the word to be checked in the original string- \")\n",
    "\n",
    "if string.endswith(string_to_be):\n",
    "    print(\"Yes, \",string,\" ends with \",string_to_be)\n",
    "else:\n",
    "    print(\"No, \",string,\"  not ends with \",string_to_be)"
   ]
  },
  {
   "cell_type": "markdown",
   "id": "6a77c00c",
   "metadata": {},
   "source": [
    "19. Convert a string to title case (e.g., \"hello world\" to \"Hello World\")."
   ]
  },
  {
   "cell_type": "code",
   "execution_count": 49,
   "id": "fc6180b7",
   "metadata": {},
   "outputs": [
    {
     "name": "stdout",
     "output_type": "stream",
     "text": [
      "Enter the original string- hello world\n",
      "After conversion it becomes-  Hello World\n"
     ]
    }
   ],
   "source": [
    "string=input(\"Enter the original string- \")\n",
    "\n",
    "print(\"After conversion it becomes- \",string.title())\n"
   ]
  },
  {
   "cell_type": "markdown",
   "id": "5ec2b57a",
   "metadata": {},
   "source": [
    "20. Find the longest word in a string."
   ]
  },
  {
   "cell_type": "code",
   "execution_count": 65,
   "id": "92b44c07",
   "metadata": {},
   "outputs": [
    {
     "name": "stdout",
     "output_type": "stream",
     "text": [
      "longest words in the string-  ['program', 'longest']\n"
     ]
    }
   ],
   "source": [
    "string=\"This is a program for longest word\"\n",
    "\n",
    "l=string.split()# list of words from the string\n",
    "\n",
    "length_list=[] #empty list\n",
    "\n",
    "final_words=[] # final word empty list\n",
    "\n",
    "for item in l:\n",
    "    length_list.append(len(item))\n",
    "    \n",
    "combine_list=list(zip(l,length_list)) # combining words with its length\n",
    "\n",
    "for item in range(len(combine_list)):\n",
    "    if combine_list[item][1]==max(length_list):\n",
    "        final_words.append(combine_list[item][0])\n",
    "    else:\n",
    "        continue\n",
    "\n",
    "else:\n",
    "    print(\"longest words in the string- \",final_words)\n"
   ]
  },
  {
   "cell_type": "markdown",
   "id": "2b42139c",
   "metadata": {},
   "source": [
    "21. Find the shortest word in a string."
   ]
  },
  {
   "cell_type": "code",
   "execution_count": 66,
   "id": "68bac9ed",
   "metadata": {},
   "outputs": [
    {
     "name": "stdout",
     "output_type": "stream",
     "text": [
      "shortest words in the string-  ['a']\n"
     ]
    }
   ],
   "source": [
    "string=\"This is a program for shortest word\"\n",
    "\n",
    "l=string.split()# list of words from the string\n",
    "\n",
    "length_list=[] #empty list\n",
    "\n",
    "final_words=[] # final word empty list\n",
    "\n",
    "for item in l:\n",
    "    length_list.append(len(item))\n",
    "    \n",
    "combine_list=list(zip(l,length_list)) # combining words with its length\n",
    "\n",
    "for item in range(len(combine_list)):\n",
    "    if combine_list[item][1]==min(length_list):\n",
    "        final_words.append(combine_list[item][0])\n",
    "    else:\n",
    "        continue\n",
    "\n",
    "else:\n",
    "    print(\"shortest words in the string- \",final_words)\n"
   ]
  },
  {
   "cell_type": "markdown",
   "id": "7abe9ba1",
   "metadata": {},
   "source": [
    "22. Reverse the order of words in a string."
   ]
  },
  {
   "cell_type": "code",
   "execution_count": 77,
   "id": "3a6fb223",
   "metadata": {},
   "outputs": [
    {
     "name": "stdout",
     "output_type": "stream",
     "text": [
      " words of order the reversing for is program this\n"
     ]
    }
   ],
   "source": [
    "string=\" this program is for reversing the order of words\"\n",
    "\n",
    "new_str='' #empty string\n",
    "\n",
    "list_of_words=string.split()\n",
    "\n",
    "list_of_words\n",
    "\n",
    "for item in range(len(list_of_words)-1,-1,-1):\n",
    "     new_str=new_str+\" \"+list_of_words[item]\n",
    "        \n",
    "print(new_str)"
   ]
  },
  {
   "cell_type": "markdown",
   "id": "1c94271d",
   "metadata": {},
   "source": [
    "23. Check if a string is alphanumeric."
   ]
  },
  {
   "cell_type": "code",
   "execution_count": 83,
   "id": "54a43dc3",
   "metadata": {},
   "outputs": [
    {
     "name": "stdout",
     "output_type": "stream",
     "text": [
      "Not alphanumeric\n"
     ]
    }
   ],
   "source": [
    "st=\"This progam is forchecking whether it is alphanumeric or not\"\n",
    "\n",
    "if st.isalnum()==True:\n",
    "    print(\"It is alpha numeric\")\n",
    "else:\n",
    "    print(\"Not alphanumeric\")\n",
    "    "
   ]
  },
  {
   "cell_type": "markdown",
   "id": "f298e307",
   "metadata": {},
   "source": [
    "24. Extract all digits from a string."
   ]
  },
  {
   "cell_type": "code",
   "execution_count": 86,
   "id": "8e869e9c",
   "metadata": {},
   "outputs": [
    {
     "name": "stdout",
     "output_type": "stream",
     "text": [
      "1 2 3 4 7 6 5 4 8 9 7 6 1 2 3 4 7 6 5 4 8 9 7 6 "
     ]
    }
   ],
   "source": [
    "stri=\"A1234B7654C8976D A1234B7654C8976D \"\n",
    "\n",
    "for item in stri:\n",
    "    if item.isdigit()==True: # for checking whether digit or not\n",
    "        print(item,end=' ',)\n",
    "    else:\n",
    "        continue"
   ]
  },
  {
   "cell_type": "markdown",
   "id": "d128c088",
   "metadata": {},
   "source": [
    "25. Extract all alphabets from a string."
   ]
  },
  {
   "cell_type": "code",
   "execution_count": 87,
   "id": "a00fbceb",
   "metadata": {},
   "outputs": [
    {
     "name": "stdout",
     "output_type": "stream",
     "text": [
      "A B C D A B C D "
     ]
    }
   ],
   "source": [
    "stri=\"A1234B7654C8976D A1234B7654C8976D \"\n",
    "\n",
    "for item in stri:\n",
    "    if item.isalpha()==True: # for checking whether alphabet or not\n",
    "        print(item,end=' ',)\n",
    "    else:\n",
    "        continue"
   ]
  },
  {
   "cell_type": "markdown",
   "id": "bca31b8e",
   "metadata": {},
   "source": [
    "26. Count the number of uppercase letters in a string."
   ]
  },
  {
   "cell_type": "code",
   "execution_count": 92,
   "id": "a4113a8d",
   "metadata": {},
   "outputs": [
    {
     "name": "stdout",
     "output_type": "stream",
     "text": [
      "A B D C D ,Total uppercase letters-  5\n"
     ]
    }
   ],
   "source": [
    "stri=\"A1234B7654c8976D a1234b7654C8976D \"\n",
    "\n",
    "count_up=0 # initial value of upper case char is 0\n",
    "\n",
    "for item in stri:\n",
    "    if item.isupper()==True: # for checking uppercase character\n",
    "        print(item,end=' ')\n",
    "        count_up=count_up+1\n",
    "    else:\n",
    "        continue\n",
    "        \n",
    "else:\n",
    "    print(\",Total uppercase letters- \", count_up)"
   ]
  },
  {
   "cell_type": "markdown",
   "id": "ec3d95e9",
   "metadata": {},
   "source": [
    "27. Count the number of lowercase letters in a string."
   ]
  },
  {
   "cell_type": "code",
   "execution_count": 93,
   "id": "f772b946",
   "metadata": {},
   "outputs": [
    {
     "name": "stdout",
     "output_type": "stream",
     "text": [
      "c a b ,Total uppercase letters-  3\n"
     ]
    }
   ],
   "source": [
    "stri=\"A1234B7654c8976D a1234b7654C8976D \"\n",
    "\n",
    "count_low=0 # initial value of lower case char is 0\n",
    "\n",
    "for item in stri:\n",
    "    if item.islower()==True: # for checking lowercase character\n",
    "        print(item,end=' ')\n",
    "        count_low=count_low+1\n",
    "    else:\n",
    "        continue\n",
    "        \n",
    "else:\n",
    "    print(\",Total uppercase letters- \", count_low)"
   ]
  },
  {
   "cell_type": "markdown",
   "id": "54022d53",
   "metadata": {},
   "source": [
    "49. Insert a word at the nth position in a string."
   ]
  },
  {
   "cell_type": "code",
   "execution_count": 94,
   "id": "875e4be7",
   "metadata": {},
   "outputs": [
    {
     "name": "stdout",
     "output_type": "stream",
     "text": [
      "Enter the position value- 3\n",
      "Enter the word to be inserted- hiiiiii\n",
      "final string-   Hi this hiiiiii progrm is for word insert at postion\n"
     ]
    }
   ],
   "source": [
    "st=\"Hi this progrm is for word insert at postion\"\n",
    "\n",
    "list_of_wrd=st.split() \n",
    "\n",
    "new_str='' #empty string\n",
    "\n",
    "position=int(input(\"Enter the position value- \"))\n",
    "wrd=input(\"Enter the word to be inserted- \")\n",
    "\n",
    "list_of_wrd.insert(position-1,wrd)\n",
    "\n",
    "for item in list_of_wrd:\n",
    "    new_str=new_str+\" \"+item\n",
    "    \n",
    "print(\"final string- \",new_str)"
   ]
  },
  {
   "cell_type": "markdown",
   "id": "6db281fc",
   "metadata": {},
   "source": [
    "48. Remove the nth word from a string."
   ]
  },
  {
   "cell_type": "code",
   "execution_count": 96,
   "id": "2db8eae4",
   "metadata": {},
   "outputs": [
    {
     "name": "stdout",
     "output_type": "stream",
     "text": [
      "Enter the position value- 3\n",
      "final string-   Hi this is for word deletion at postion\n"
     ]
    }
   ],
   "source": [
    "st=\"Hi this progrm is for word deletion at postion\"\n",
    "\n",
    "list_of_wrd=st.split() \n",
    "\n",
    "new_str='' #empty string\n",
    "\n",
    "position=int(input(\"Enter the position value- \"))\n",
    "\n",
    "list_of_wrd.pop(position-1)\n",
    "\n",
    "for item in list_of_wrd:\n",
    "    new_str=new_str+\" \"+item\n",
    "    \n",
    "print(\"final string- \",new_str)\n",
    "\n"
   ]
  },
  {
   "cell_type": "markdown",
   "id": "9a4857f9",
   "metadata": {},
   "source": [
    "28. Swap the case of each character in a string."
   ]
  },
  {
   "cell_type": "code",
   "execution_count": 1,
   "id": "e5b5122b",
   "metadata": {},
   "outputs": [
    {
     "name": "stdout",
     "output_type": "stream",
     "text": [
      "After Swapping each character it becomes:- thIS pROgRAM IS FOR SwAppING eacH CHARACTER IN a StRINg\n"
     ]
    }
   ],
   "source": [
    "string=\"THis ProGram is for sWaPPing EACh character in A sTrinG\"\n",
    "\n",
    "print(\"After Swapping each character it becomes:-\",string.swapcase())"
   ]
  },
  {
   "cell_type": "markdown",
   "id": "31c1f312",
   "metadata": {},
   "source": [
    "29. Remove a specific word from a string."
   ]
  },
  {
   "cell_type": "code",
   "execution_count": 2,
   "id": "5a727464",
   "metadata": {},
   "outputs": [
    {
     "name": "stdout",
     "output_type": "stream",
     "text": [
      "Enter the word to be removed- is\n",
      "After removing-   This Program for removing specic word\n"
     ]
    }
   ],
   "source": [
    "string=\"This Program is for removing specic word\"\n",
    "\n",
    "l=string.split() # list of words \n",
    "\n",
    "new_str=''#Empty string\n",
    "\n",
    "removed_word=input(\"Enter the word to be removed- \")\n",
    "\n",
    "if removed_word in l:\n",
    "    l.remove(removed_word)\n",
    "    for item in l:\n",
    "        new_str=new_str+\" \"+item\n",
    "    \n",
    "    print(\"After removing- \",new_str)\n",
    "\n",
    "else:\n",
    "    print(removed_word,\" is not present in the sentence\")"
   ]
  },
  {
   "cell_type": "markdown",
   "id": "9887f083",
   "metadata": {},
   "source": [
    "34. Check if a string is a valid URL."
   ]
  },
  {
   "cell_type": "code",
   "execution_count": 9,
   "id": "5757e823",
   "metadata": {},
   "outputs": [
    {
     "name": "stdout",
     "output_type": "stream",
     "text": [
      "valid Url\n"
     ]
    }
   ],
   "source": [
    "url_str=\"https://learn.pwskills.com/lesson/20th-Aug'23-:-Python-basicdata-types/64e1e64b78681465bb214892/course/Full-Stack-Data-Science-Pro/64a264076977ccc0a0e20c13\"\n",
    "\n",
    "from urllib.parse import urlparse\n",
    "\n",
    "parsed_url=urlparse(url_str)\n",
    "\n",
    "if parsed_url.netloc and parsed_url.scheme:\n",
    "    print(\"valid Url\")\n",
    "else:\n",
    "    print(\"Invalid Url\")"
   ]
  },
  {
   "cell_type": "markdown",
   "id": "a408157e",
   "metadata": {},
   "source": [
    "35. Extract the protocol (http or https) from a URL string."
   ]
  },
  {
   "cell_type": "code",
   "execution_count": 12,
   "id": "90504e10",
   "metadata": {},
   "outputs": [
    {
     "name": "stdout",
     "output_type": "stream",
     "text": [
      "Protocol-  https\n"
     ]
    }
   ],
   "source": [
    "url_str=\"https://learn.pwskills.com/lesson/20th-Aug'23-:-Python-basicdata-types/64e1e64b78681465bb214892/course/Full-Stack-Data-Science-Pro/64a264076977ccc0a0e20c13\"\n",
    "\n",
    "from urllib.parse import urlparse\n",
    "\n",
    "parsed_url=urlparse(url_str)\n",
    "\n",
    "if parsed_url.scheme:\n",
    "    print(\"Protocol- \",parsed_url.scheme)"
   ]
  },
  {
   "cell_type": "markdown",
   "id": "66aca846",
   "metadata": {},
   "source": [
    "36. Find the frequency of each character in a string."
   ]
  },
  {
   "cell_type": "code",
   "execution_count": 16,
   "id": "d3454a5f",
   "metadata": {},
   "outputs": [
    {
     "name": "stdout",
     "output_type": "stream",
     "text": [
      "n  is present  1  times\n",
      "r  is present  3  times\n",
      "F  is present  1  times\n",
      "o  is present  1  times\n",
      "a  is present  2  times\n",
      "u  is present  1  times\n",
      "y  is present  1  times\n",
      "c  is present  3  times\n",
      "e  is present  3  times\n",
      "f  is present  1  times\n",
      "t  is present  1  times\n",
      "h  is present  1  times\n",
      "q  is present  1  times\n"
     ]
    }
   ],
   "source": [
    "string=\"Frequency of character\"\n",
    "\n",
    "unique_character=set(string)\n",
    "\n",
    "if ' ' in unique_character:\n",
    "    unique_character.remove(' ')\n",
    "    \n",
    "for item in unique_character:\n",
    "    print(item ,\" is present \",string.count(item),\" times\")"
   ]
  },
  {
   "cell_type": "markdown",
   "id": "d7bc4786",
   "metadata": {},
   "source": [
    "38. Check if a string contains only digits."
   ]
  },
  {
   "cell_type": "code",
   "execution_count": 19,
   "id": "8255f2f3",
   "metadata": {},
   "outputs": [
    {
     "name": "stdout",
     "output_type": "stream",
     "text": [
      " All characters are not digit\n"
     ]
    }
   ],
   "source": [
    "string='0123kkk489'\n",
    "\n",
    "if string.isdigit():\n",
    "    print(\" All characters are digit \")\n",
    "else:\n",
    "    print(\" All characters are not digit\")"
   ]
  },
  {
   "cell_type": "markdown",
   "id": "d3d3836f",
   "metadata": {},
   "source": [
    "39. Check if a string contains only alphabets."
   ]
  },
  {
   "cell_type": "code",
   "execution_count": 20,
   "id": "ff95dc5d",
   "metadata": {},
   "outputs": [
    {
     "name": "stdout",
     "output_type": "stream",
     "text": [
      " All characters are not alphabets\n"
     ]
    }
   ],
   "source": [
    "string='0123kkk489'\n",
    "\n",
    "if string.isalpha():\n",
    "    print(\" All characters are alphabets \")\n",
    "else:\n",
    "    print(\" All characters are not alphabets\")"
   ]
  },
  {
   "cell_type": "markdown",
   "id": "5128c4e1",
   "metadata": {},
   "source": [
    "40. Convert a string to a list of characters."
   ]
  },
  {
   "cell_type": "code",
   "execution_count": 21,
   "id": "fabf2a24",
   "metadata": {},
   "outputs": [
    {
     "name": "stdout",
     "output_type": "stream",
     "text": [
      "list of characters in this string are-  {'r', 'i', 'o', 'a', ' ', 't', 'f', 'c', 'e', 's', 'h', 'l'}\n"
     ]
    }
   ],
   "source": [
    "string=\"list of characters\"\n",
    "\n",
    "print(\"list of characters in this string are- \",set(string))"
   ]
  },
  {
   "cell_type": "markdown",
   "id": "7a26cbb4",
   "metadata": {},
   "source": [
    "45. Find all unique words in a string."
   ]
  },
  {
   "cell_type": "code",
   "execution_count": 22,
   "id": "6017b4c6",
   "metadata": {},
   "outputs": [
    {
     "name": "stdout",
     "output_type": "stream",
     "text": [
      "Unique words-  {'the', 'words', 'program', 'finding', 'This', 'for', 'unique', 'is'}\n"
     ]
    }
   ],
   "source": [
    "string=\"This program is for finding the unique words \"\n",
    "\n",
    "print(\"Unique words- \",set(string.split()))"
   ]
  },
  {
   "cell_type": "markdown",
   "id": "ec610850",
   "metadata": {},
   "source": [
    "44. Find the most frequent word in a string."
   ]
  },
  {
   "cell_type": "code",
   "execution_count": 49,
   "id": "a6331217",
   "metadata": {},
   "outputs": [
    {
     "name": "stdout",
     "output_type": "stream",
     "text": [
      "Most Frequent words-\n",
      "most - 3 times\n"
     ]
    }
   ],
   "source": [
    "string=\"This program is for most frequent word finding , most frequent word comes multiple times. most\"\n",
    "unique_words=list(set(string.split()))\n",
    "\n",
    "count_list=[] #creating empty list\n",
    "\n",
    "for items in unique_words:\n",
    "    count_list.append(string.count(items))\n",
    "    \n",
    "combine=list(zip(unique_words,count_list))  \n",
    "\n",
    "print(\"Most Frequent words-\")\n",
    "\n",
    "for item in range(len(combine)):\n",
    "    if combine[item][1]==max(count_list):\n",
    "        print(combine[item][0],\"-\",combine[item][1],\"times\")\n"
   ]
  },
  {
   "cell_type": "markdown",
   "id": "2b35b930",
   "metadata": {},
   "source": [
    "41. Check if two strings are anagrams."
   ]
  },
  {
   "cell_type": "code",
   "execution_count": 52,
   "id": "110b428b",
   "metadata": {},
   "outputs": [
    {
     "name": "stdout",
     "output_type": "stream",
     "text": [
      "Strings are anagram\n"
     ]
    }
   ],
   "source": [
    "str1=\"silent\" # string 1 to compare with 2\n",
    "str2=\"listen\" #string 2 to compare with 1\n",
    "\n",
    "if len(str1)==len(str2):\n",
    "    if sorted(str1.lower())==sorted(str2.lower()):\n",
    "        print(\"Strings are anagram\")\n",
    "    else:\n",
    "        print(\"strings are not anagram\")\n",
    "        \n",
    "else:\n",
    "    print(\"strings are not anagram\")"
   ]
  }
 ],
 "metadata": {
  "kernelspec": {
   "display_name": "Python 3 (ipykernel)",
   "language": "python",
   "name": "python3"
  },
  "language_info": {
   "codemirror_mode": {
    "name": "ipython",
    "version": 3
   },
   "file_extension": ".py",
   "mimetype": "text/x-python",
   "name": "python",
   "nbconvert_exporter": "python",
   "pygments_lexer": "ipython3",
   "version": "3.10.9"
  }
 },
 "nbformat": 4,
 "nbformat_minor": 5
}
